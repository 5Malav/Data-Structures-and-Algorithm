{
  "nbformat": 4,
  "nbformat_minor": 0,
  "metadata": {
    "colab": {
      "provenance": []
    },
    "kernelspec": {
      "name": "python3",
      "display_name": "Python 3"
    },
    "language_info": {
      "name": "python"
    }
  },
  "cells": [
    {
      "cell_type": "markdown",
      "source": [
        "# Calculate Average Temprature"
      ],
      "metadata": {
        "id": "3hmxPV0H6v-6"
      }
    },
    {
      "cell_type": "code",
      "source": [
        "number_of_days = int(input(\"How many day's temprature? \"))\n",
        "\n",
        "total = 0\n",
        "\n",
        "for i in range(1,number_of_days+1):\n",
        "\n",
        "    next_day = int(input(\"Day \" + str(i) + \"'s high temp: \"))\n",
        "\n",
        "    total += next_day\n",
        "3\n",
        "average_temp = round(total/number_of_days,2)\n",
        "\n",
        "print(\"\\n Average = \"+ str(average_temp))\n",
        "\n",
        "\n"
      ],
      "metadata": {
        "colab": {
          "base_uri": "https://localhost:8080/"
        },
        "id": "_dBFlF2R6FWN",
        "outputId": "66eb7cc4-0c51-4eb2-bd79-825085b7297f"
      },
      "execution_count": 1,
      "outputs": [
        {
          "output_type": "stream",
          "name": "stdout",
          "text": [
            "How many day's temprature? 3\n",
            "Day 1's high temp: 10\n",
            "Day 2's high temp: 20\n",
            "Day 3's high temp: 0\n",
            "\n",
            " Average = 10.0\n"
          ]
        }
      ]
    },
    {
      "cell_type": "code",
      "source": [
        "# Calculate which day's temprature is higher than average temprature\n",
        "number_of_days = int(input(\"How many day's temprature? \"))\n",
        "\n",
        "total = 0\n",
        "temp = []\n",
        "for i in range(number_of_days):\n",
        "\n",
        "    next_day = int(input(\"Day \" + str(i+1) + \"'s high temp: \"))\n",
        "    temp.append(next_day)\n",
        "    total += temp[i]\n",
        "\n",
        "average_temp = round(total/number_of_days,2)\n",
        "\n",
        "print(\"\\n Average Temprature= \"+ str(average_temp))\n",
        "\n",
        "above = 0\n",
        "\n",
        "for i in temp:\n",
        "    if i>average_temp:\n",
        "        above+=1\n",
        "\n",
        "print(str(above)+\" day(s) above average temprature\")\n"
      ],
      "metadata": {
        "colab": {
          "base_uri": "https://localhost:8080/"
        },
        "id": "UQkGZMGk6FYs",
        "outputId": "a353d0ee-91f5-4395-931a-8660460758da"
      },
      "execution_count": 3,
      "outputs": [
        {
          "output_type": "stream",
          "name": "stdout",
          "text": [
            "How many day's temprature? 15\n",
            "Day 1's high temp: 25\n",
            "Day 2's high temp: 45\n",
            "Day 3's high temp: 23\n",
            "Day 4's high temp: 34\n",
            "Day 5's high temp: 89\n",
            "Day 6's high temp: 45\n",
            "Day 7's high temp: 12\n",
            "Day 8's high temp: 4\n",
            "Day 9's high temp: 56\n",
            "Day 10's high temp: 78\n",
            "Day 11's high temp: 34\n",
            "Day 12's high temp: 32\n",
            "Day 13's high temp: 45\n",
            "Day 14's high temp: 78\n",
            "Day 15's high temp: 2\n",
            "\n",
            " Average Temprature= 40.13\n",
            "7 day(s) above average temprature\n"
          ]
        }
      ]
    },
    {
      "cell_type": "code",
      "source": [],
      "metadata": {
        "id": "txxXpIk7E5UR"
      },
      "execution_count": null,
      "outputs": []
    }
  ]
}