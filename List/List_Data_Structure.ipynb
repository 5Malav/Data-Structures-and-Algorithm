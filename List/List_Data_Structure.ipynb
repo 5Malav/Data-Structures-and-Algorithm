{
  "nbformat": 4,
  "nbformat_minor": 0,
  "metadata": {
    "colab": {
      "provenance": []
    },
    "kernelspec": {
      "name": "python3",
      "display_name": "Python 3"
    },
    "language_info": {
      "name": "python"
    }
  },
  "cells": [
    {
      "cell_type": "markdown",
      "source": [
        "# Create a List"
      ],
      "metadata": {
        "id": "-OVrnZKNS_Rw"
      }
    },
    {
      "cell_type": "code",
      "execution_count": 1,
      "metadata": {
        "colab": {
          "base_uri": "https://localhost:8080/"
        },
        "id": "4AnAkFvK4f6u",
        "outputId": "88d2b4e8-b036-4605-f768-2114f42d8d61"
      },
      "outputs": [
        {
          "output_type": "stream",
          "name": "stdout",
          "text": [
            "[1, 2, 3, 4, 5]\n"
          ]
        }
      ],
      "source": [
        "integers = [1,2,3,4,5]\n",
        "print(integers)"
      ]
    },
    {
      "cell_type": "code",
      "source": [
        "string_list=['mrugesh','malav','maya','minaxi']\n",
        "string_list"
      ],
      "metadata": {
        "colab": {
          "base_uri": "https://localhost:8080/"
        },
        "id": "j2RKMlvdWe5a",
        "outputId": "d279f54f-84d8-44fc-b9cd-1bcf4ea13220"
      },
      "execution_count": 2,
      "outputs": [
        {
          "output_type": "execute_result",
          "data": {
            "text/plain": [
              "['mrugesh', 'malav', 'maya', 'minaxi']"
            ]
          },
          "metadata": {},
          "execution_count": 2
        }
      ]
    },
    {
      "cell_type": "code",
      "source": [
        "mix_list = [1,2,3,1.5,2.5,'Mrugesh']\n",
        "mix_list"
      ],
      "metadata": {
        "colab": {
          "base_uri": "https://localhost:8080/"
        },
        "id": "e_80dRwiWe-g",
        "outputId": "f129c1c8-a5cd-4738-8412-fb90798fd40f"
      },
      "execution_count": 3,
      "outputs": [
        {
          "output_type": "execute_result",
          "data": {
            "text/plain": [
              "[1, 2, 3, 1.5, 2.5, 'Mrugesh']"
            ]
          },
          "metadata": {},
          "execution_count": 3
        }
      ]
    },
    {
      "cell_type": "code",
      "source": [
        "nested_list = [1,2,3,[1.5,2.5],['Mrugesh','Maya']]\n",
        "nested_list"
      ],
      "metadata": {
        "colab": {
          "base_uri": "https://localhost:8080/"
        },
        "id": "Ba3Ne6ZGWfBX",
        "outputId": "d68e7ff9-c430-4e36-9871-047cc00ec5e4"
      },
      "execution_count": 4,
      "outputs": [
        {
          "output_type": "execute_result",
          "data": {
            "text/plain": [
              "[1, 2, 3, [1.5, 2.5], ['Mrugesh', 'Maya']]"
            ]
          },
          "metadata": {},
          "execution_count": 4
        }
      ]
    },
    {
      "cell_type": "markdown",
      "source": [
        "# Accessing / Traversing List"
      ],
      "metadata": {
        "id": "M8HDtgu3eHOv"
      }
    },
    {
      "cell_type": "code",
      "source": [
        "shopping_list= ['Milk','Cheese','Paneer','Butter']\n",
        "\n",
        "shopping_list\n",
        "\n"
      ],
      "metadata": {
        "colab": {
          "base_uri": "https://localhost:8080/"
        },
        "id": "tq-o-mOFWfDr",
        "outputId": "7ebf7aa4-25fd-4d4f-a2f2-a0937623c4aa"
      },
      "execution_count": 5,
      "outputs": [
        {
          "output_type": "execute_result",
          "data": {
            "text/plain": [
              "['Milk', 'Cheese', 'Paneer', 'Butter']"
            ]
          },
          "metadata": {},
          "execution_count": 5
        }
      ]
    },
    {
      "cell_type": "code",
      "source": [
        "#Access the element\n",
        "\n",
        "# 1st element of the list\n",
        "\n",
        "print(shopping_list[0])\n",
        "\n",
        "\n",
        "# 2nd element of the list\n",
        "\n",
        "print(shopping_list[1])\n"
      ],
      "metadata": {
        "colab": {
          "base_uri": "https://localhost:8080/"
        },
        "id": "NRORNwwzWfGH",
        "outputId": "2ad5d76f-02b7-4d9b-df06-4326b131f158"
      },
      "execution_count": 6,
      "outputs": [
        {
          "output_type": "stream",
          "name": "stdout",
          "text": [
            "Milk\n",
            "Cheese\n"
          ]
        }
      ]
    },
    {
      "cell_type": "code",
      "source": [
        "# Think list as a relationship between indexes and elements\n",
        "# This relationship is called mapping\n",
        "\n",
        "# Each index maps to the one of the elements.\n",
        "# List index work the same as array indexes.\n",
        "\n",
        "# Any integer expression can be used as index.\n",
        "# For example, if we try to read or write an element that does not\n",
        "# exist, we will get an error.\n",
        "\n",
        "#print(shopping_list[4])\n",
        "\n",
        "#  IndexError: list index out of range\n",
        "\n"
      ],
      "metadata": {
        "id": "Q7ZkXBNXWfId"
      },
      "execution_count": 7,
      "outputs": []
    },
    {
      "cell_type": "code",
      "source": [
        "# In operator\n",
        "\n",
        "# By using IN operator , we can find out if an element exists in this list\n",
        "# or not.\n",
        "\n",
        "print(\"Milk\" in shopping_list)\n",
        "\n",
        "print(\"Bread\" in shopping_list)\n"
      ],
      "metadata": {
        "colab": {
          "base_uri": "https://localhost:8080/"
        },
        "id": "2v8SOuwhWfLS",
        "outputId": "23862b83-a798-468c-e203-86f8d9816274"
      },
      "execution_count": 8,
      "outputs": [
        {
          "output_type": "stream",
          "name": "stdout",
          "text": [
            "True\n",
            "False\n"
          ]
        }
      ]
    },
    {
      "cell_type": "code",
      "source": [
        "# if provided index is minus then we are trying to access\n",
        "# element from backward\n",
        "\n",
        "shopping_list= ['Milk','Cheese','Paneer','Butter']\n",
        "print(shopping_list[-1])\n",
        "\n",
        "print(shopping_list[-2])\n",
        "\n",
        "\n",
        "#print(shopping_list[-5])\n",
        "#IndexError: list index out of range"
      ],
      "metadata": {
        "colab": {
          "base_uri": "https://localhost:8080/"
        },
        "id": "xD30kp-pWfN9",
        "outputId": "d77c6154-3342-4e80-ed14-0b918e69ed80"
      },
      "execution_count": 9,
      "outputs": [
        {
          "output_type": "stream",
          "name": "stdout",
          "text": [
            "Butter\n",
            "Paneer\n"
          ]
        }
      ]
    },
    {
      "cell_type": "code",
      "source": [
        "\"\"\"\n",
        "Traverse through the List:-\n",
        "\n",
        "The most common way to traverse the elements of a list is with Loop.\n",
        "\"\"\"\n",
        "for i in shopping_list:\n",
        "    print(i)\n",
        "\n"
      ],
      "metadata": {
        "colab": {
          "base_uri": "https://localhost:8080/"
        },
        "id": "249BxJvrWfQ0",
        "outputId": "96e83c1a-0a0b-4590-f5ae-d8a8327608d4"
      },
      "execution_count": 10,
      "outputs": [
        {
          "output_type": "stream",
          "name": "stdout",
          "text": [
            "Milk\n",
            "Cheese\n",
            "Paneer\n",
            "Butter\n"
          ]
        }
      ]
    },
    {
      "cell_type": "code",
      "source": [
        "# len() function\n",
        "# len() function is returning the value of a number of items in a container\n",
        "\n",
        "# range() function\n",
        "# range() functiin saves us from index error because it works from 0 to N-1\n",
        "# which means if that if we put 3 then it will go till 2.\n",
        "\n",
        "\n",
        "for i in range(len(shopping_list)):\n",
        "\n",
        "    shopping_list[i] = shopping_list[i] + \" + \"\n",
        "    print(shopping_list[i])\n",
        "\n"
      ],
      "metadata": {
        "colab": {
          "base_uri": "https://localhost:8080/"
        },
        "id": "m2ol8MEmWfTD",
        "outputId": "df041dfb-3939-4c2e-e9a7-6e38bc388807"
      },
      "execution_count": 11,
      "outputs": [
        {
          "output_type": "stream",
          "name": "stdout",
          "text": [
            "Milk + \n",
            "Cheese + \n",
            "Paneer + \n",
            "Butter + \n"
          ]
        }
      ]
    },
    {
      "cell_type": "code",
      "source": [
        "# we can traverse through empty list but code will print nothing\n",
        "#\n",
        "\n",
        "empty_list=[]\n",
        "\n",
        "for i in empty_list:\n",
        "    print(i)\n",
        "    print(\"No items\")\n"
      ],
      "metadata": {
        "id": "MPT9IW1xWfVx"
      },
      "execution_count": 12,
      "outputs": []
    },
    {
      "cell_type": "markdown",
      "source": [
        "# Update / Insert List"
      ],
      "metadata": {
        "id": "96pfqIhnh7ms"
      }
    },
    {
      "cell_type": "code",
      "source": [
        "\"\"\"\n",
        "\n",
        "List are mutable data structures.\n",
        "\n",
        "That's why we can change the order of elements in a list or reassign an\n",
        "item in a list.\n",
        "\n",
        "When the bracket operator appears on the left side of an assignment,\n",
        "it identifies the element of the list will be assigned.\n",
        "Ex:- mylist[index]=1\n",
        "\n",
        "\"\"\""
      ],
      "metadata": {
        "colab": {
          "base_uri": "https://localhost:8080/",
          "height": 91
        },
        "id": "LF0jHa5RWfYj",
        "outputId": "8fe17bae-85b2-4307-8274-090466f3769e"
      },
      "execution_count": 13,
      "outputs": [
        {
          "output_type": "execute_result",
          "data": {
            "text/plain": [
              "\"\\n\\nList are mutable data structures.\\n\\nThat's why we can change the order of elements in a list or reassign an\\nitem in a list.\\n\\nWhen the bracket operator appears on the left side of an assignment,\\nit identifies the element of the list will be assigned.\\nEx:- mylist[index]=1\\n\\n\""
            ],
            "application/vnd.google.colaboratory.intrinsic+json": {
              "type": "string"
            }
          },
          "metadata": {},
          "execution_count": 13
        }
      ]
    },
    {
      "cell_type": "code",
      "source": [
        "myList = [1,2,3,4,5,6,7]\n",
        "myList"
      ],
      "metadata": {
        "colab": {
          "base_uri": "https://localhost:8080/"
        },
        "id": "MHQ_BgiVWfbA",
        "outputId": "98b2699c-eff3-4120-9091-0e93f4e2bd94"
      },
      "execution_count": 14,
      "outputs": [
        {
          "output_type": "execute_result",
          "data": {
            "text/plain": [
              "[1, 2, 3, 4, 5, 6, 7]"
            ]
          },
          "metadata": {},
          "execution_count": 14
        }
      ]
    },
    {
      "cell_type": "code",
      "source": [
        "\"\"\"\n",
        "List are ordered collections, meaning that the order of  elements will\n",
        "be the same order as we declare them till we change the order.\n",
        "\n",
        "To Update an element in the list we need to access the element and then\n",
        "assign a value to it\n",
        "\n",
        "\"\"\""
      ],
      "metadata": {
        "colab": {
          "base_uri": "https://localhost:8080/",
          "height": 72
        },
        "id": "GtXC7eLHWfef",
        "outputId": "0c24035b-bc16-4290-b8a5-65399c49299c"
      },
      "execution_count": 15,
      "outputs": [
        {
          "output_type": "execute_result",
          "data": {
            "text/plain": [
              "'\\nList are ordered collections, meaning that the order of  elements will\\nbe the same order as we declare them till we change the order.\\n\\nTo Update an element in the list we need to access the element and then\\nassign a value to it\\n\\n'"
            ],
            "application/vnd.google.colaboratory.intrinsic+json": {
              "type": "string"
            }
          },
          "metadata": {},
          "execution_count": 15
        }
      ]
    },
    {
      "cell_type": "code",
      "source": [
        "myList[2] = 333\n",
        "print(myList)"
      ],
      "metadata": {
        "colab": {
          "base_uri": "https://localhost:8080/"
        },
        "id": "SsvELPLYWfgs",
        "outputId": "317d2a98-4640-423a-da40-8178ef10cf60"
      },
      "execution_count": 16,
      "outputs": [
        {
          "output_type": "stream",
          "name": "stdout",
          "text": [
            "[1, 2, 333, 4, 5, 6, 7]\n"
          ]
        }
      ]
    },
    {
      "cell_type": "code",
      "source": [
        "myList[4] = 555\n",
        "print(myList)"
      ],
      "metadata": {
        "colab": {
          "base_uri": "https://localhost:8080/"
        },
        "id": "9PnPnFP9Wfjj",
        "outputId": "42818219-e1a0-4c59-c1a7-00f5bb72446d"
      },
      "execution_count": 17,
      "outputs": [
        {
          "output_type": "stream",
          "name": "stdout",
          "text": [
            "[1, 2, 333, 4, 555, 6, 7]\n"
          ]
        }
      ]
    },
    {
      "cell_type": "code",
      "source": [
        "\"\"\"\n",
        "Time Complexity:-\n",
        "\n",
        "So the Time Complexity of this operation is O(1) because we know that\n",
        "accessing an element of a list is O(1) time complexity.\n",
        "we are just assigning a value in this operation.\n",
        "\n",
        "\n",
        "This is the most beneficial part of list, because list provides us\n",
        "very efficient way of accessing elements by using their index and index\n",
        "identifies their locations in the memory.\n",
        "\n",
        "Space Complexity:-\n",
        "\n",
        "Spacy Complexity for updating an element in a list is O(1).\n",
        "Because we don't need an extra memory.\n",
        "we have already reserved the memoery for a given element.\n",
        "we are just changing the value of it.\n",
        "This means that an extra memory is not required.\n",
        "\n",
        "\n",
        "\n",
        "\"\"\""
      ],
      "metadata": {
        "colab": {
          "base_uri": "https://localhost:8080/",
          "height": 164
        },
        "id": "DA9a6t9-WfmO",
        "outputId": "11b50212-13a5-48d9-bcae-af315183ad4a"
      },
      "execution_count": 18,
      "outputs": [
        {
          "output_type": "execute_result",
          "data": {
            "text/plain": [
              "\"\\nTime Complexity:-\\n\\nSo the Time Complexity of this operation is O(1) because we know that\\naccessing an element of a list is O(1) time complexity.\\nwe are just assigning a value in this operation.\\n\\n\\nThis is the most beneficial part of list, because list provides us\\nvery efficient way of accessing elements by using their index and index\\nidentifies their locations in the memory.\\n\\nSpace Complexity:-\\n\\nSpacy Complexity for updating an element in a list is O(1).\\nBecause we don't need an extra memory.\\nwe have already reserved the memoery for a given element.\\nwe are just changing the value of it.\\nThis means that an extra memory is not required.\\n\\n\\n\\n\""
            ],
            "application/vnd.google.colaboratory.intrinsic+json": {
              "type": "string"
            }
          },
          "metadata": {},
          "execution_count": 18
        }
      ]
    },
    {
      "cell_type": "code",
      "source": [
        "\"\"\"\n",
        "Insertion Operation:-\n",
        "\n",
        "There are 4 ways of inserting a value to a list.\n",
        "\n",
        "1.) Inserting an element to the beginning of the list\n",
        "\n",
        "2.) Inersting an element to the any given place in the list\n",
        "\n",
        "3.) Inserting an element to the end ot the list\n",
        "\n",
        "4.) Inserting another list the to the list.\n",
        "\n",
        "To perform these opertions we will use these List methods\n",
        "-> insert()\n",
        "-> append()\n",
        "-> extend()\n",
        "\n",
        "\"\"\"\n",
        "\n"
      ],
      "metadata": {
        "colab": {
          "base_uri": "https://localhost:8080/",
          "height": 109
        },
        "id": "lvdTI5o-WfpX",
        "outputId": "a1b1796e-5084-4639-eef9-b50e1b4bd44c"
      },
      "execution_count": 19,
      "outputs": [
        {
          "output_type": "execute_result",
          "data": {
            "text/plain": [
              "'\\nInsertion Operation:-\\n\\nThere are 4 ways of inserting a value to a list.\\n\\n1.) Inserting an element to the beginning of the list\\n\\n2.) Inersting an element to the any given place in the list\\n\\n3.) Inserting an element to the end ot the list\\n\\n4.) Inserting another list the to the list.\\n\\nTo perform these opertions we will use these List methods\\n-> insert()\\n-> append()\\n-> extend()\\n\\n'"
            ],
            "application/vnd.google.colaboratory.intrinsic+json": {
              "type": "string"
            }
          },
          "metadata": {},
          "execution_count": 19
        }
      ]
    },
    {
      "cell_type": "code",
      "source": [
        "myList = [1,2,3,4,5,6,7]\n",
        "myList"
      ],
      "metadata": {
        "colab": {
          "base_uri": "https://localhost:8080/"
        },
        "id": "LIcJRW-vWfsH",
        "outputId": "166afdf8-69ac-47f8-92bf-3e966def3c0a"
      },
      "execution_count": 20,
      "outputs": [
        {
          "output_type": "execute_result",
          "data": {
            "text/plain": [
              "[1, 2, 3, 4, 5, 6, 7]"
            ]
          },
          "metadata": {},
          "execution_count": 20
        }
      ]
    },
    {
      "cell_type": "code",
      "source": [
        "# insert() method\n",
        "\n",
        "# The insert method inserts an elemtn in any given location to the list\n",
        "# we can use insert method to insert an element at the beginning of\n",
        "# the list or any given location in list.\n",
        "# insert(index,value)\n",
        "\n",
        "myList.insert(0,111)\n",
        "print(myList)\n",
        "\n",
        "\n",
        "myList.insert(4,44)\n",
        "myList\n",
        "\n"
      ],
      "metadata": {
        "colab": {
          "base_uri": "https://localhost:8080/"
        },
        "id": "JPSOn9jvWfuo",
        "outputId": "32ba199a-8747-4db0-b2be-e2ff1c6b176e"
      },
      "execution_count": 21,
      "outputs": [
        {
          "output_type": "stream",
          "name": "stdout",
          "text": [
            "[111, 1, 2, 3, 4, 5, 6, 7]\n"
          ]
        },
        {
          "output_type": "execute_result",
          "data": {
            "text/plain": [
              "[111, 1, 2, 3, 44, 4, 5, 6, 7]"
            ]
          },
          "metadata": {},
          "execution_count": 21
        }
      ]
    },
    {
      "cell_type": "code",
      "source": [
        "# append() method\n",
        "\n",
        "# append() method will add an element at the end of list.\n",
        "\n",
        "myList = [1,2,3,4,5,6,7]\n",
        "\n",
        "myList.append(888)\n",
        "print(myList)\n"
      ],
      "metadata": {
        "colab": {
          "base_uri": "https://localhost:8080/"
        },
        "id": "QKM3JgXLWfxX",
        "outputId": "d5f08b46-6ff3-4dde-d384-96c8632cbb8a"
      },
      "execution_count": 22,
      "outputs": [
        {
          "output_type": "stream",
          "name": "stdout",
          "text": [
            "[1, 2, 3, 4, 5, 6, 7, 888]\n"
          ]
        }
      ]
    },
    {
      "cell_type": "code",
      "source": [
        "# extend() method\n",
        "\n",
        "# extend() method will add another list to our list\n",
        "\n",
        "myList = [1,2,3,4,5,6,7]\n",
        "print(myList)\n",
        "\n",
        "new_list=[555,777,888]\n",
        "\n",
        "myList.extend(new_list)\n",
        "print(myList)\n",
        "\n"
      ],
      "metadata": {
        "colab": {
          "base_uri": "https://localhost:8080/"
        },
        "id": "XSicJ0hTWf0D",
        "outputId": "98d602cd-27a0-4e10-f62a-77c3fcef42e9"
      },
      "execution_count": 23,
      "outputs": [
        {
          "output_type": "stream",
          "name": "stdout",
          "text": [
            "[1, 2, 3, 4, 5, 6, 7]\n",
            "[1, 2, 3, 4, 5, 6, 7, 555, 777, 888]\n"
          ]
        }
      ]
    },
    {
      "cell_type": "code",
      "source": [
        "\"\"\"\n",
        "\n",
        "Time Complexity:-\n",
        "\n",
        "Adding an element using insert method , we have to move all elements\n",
        "one step right.\n",
        "So this means that the time complexity will be O(N) for this method.\n",
        "\n",
        "Append method just an element at the end of list. This means that\n",
        "this is very efficient we are not moving in elements.\n",
        "So the time complexity for this method is O(1).\n",
        "\n",
        "Extend method with extend the time complexity depend on the elements\n",
        "of the list.\n",
        "This means that if we have N nunmber of elements then time complexity\n",
        "for an extending to a new lust will be O(N).\n",
        "Because the way it workd in just looping throught all elements of the\n",
        "new list and adding them 1 by 1 at the end of the list that we want\n",
        "to add.\n",
        "\n",
        "Space complexity:-\n",
        "\n",
        "Space complexity is O(1) because we just need 1 location for each\n",
        "element\n",
        "\n",
        "Space complexity for extend method is O(N) because it depends on the\n",
        "number of elements, how many elements that we are going to add\n",
        "if we had N number of elements.\n",
        "\n",
        "So we need to allocate N number of elements so the space complexity\n",
        "for the extend method will be O(N)\n",
        "\n",
        "\n",
        "\"\"\""
      ],
      "metadata": {
        "colab": {
          "base_uri": "https://localhost:8080/",
          "height": 218
        },
        "id": "Hy3NhduKWf2r",
        "outputId": "b272fc51-2e3b-4556-f205-73cac1d804a4"
      },
      "execution_count": 24,
      "outputs": [
        {
          "output_type": "execute_result",
          "data": {
            "text/plain": [
              "'\\n\\nTime Complexity:-\\n\\nAdding an element using insert method , we have to move all elements\\none step right.\\nSo this means that the time complexity will be O(N) for this method.\\n\\nAppend method just an element at the end of list. This means that\\nthis is very efficient we are not moving in elements.\\nSo the time complexity for this method is O(1).\\n\\nExtend method with extend the time complexity depend on the elements\\nof the list.\\nThis means that if we have N nunmber of elements then time complexity\\nfor an extending to a new lust will be O(N).\\nBecause the way it workd in just looping throught all elements of the\\nnew list and adding them 1 by 1 at the end of the list that we want\\nto add.\\n\\nSpace complexity:-\\n\\nSpace complexity is O(1) because we just need 1 location for each\\nelement\\n\\nSpace complexity for extend method is O(N) because it depends on the\\nnumber of elements, how many elements that we are going to add\\nif we had N number of elements.\\n\\nSo we need to allocate N number of elements so the space complexity\\nfor the extend method will be O(N)\\n\\n\\n'"
            ],
            "application/vnd.google.colaboratory.intrinsic+json": {
              "type": "string"
            }
          },
          "metadata": {},
          "execution_count": 24
        }
      ]
    },
    {
      "cell_type": "markdown",
      "source": [
        "# Slice /  Delete from a list"
      ],
      "metadata": {
        "id": "uWk99IF5vKiQ"
      }
    },
    {
      "cell_type": "code",
      "source": [
        "# For slicing we use slicing operator [:].\n",
        "\n",
        "myList = ['a','b','c','d','e','f']\n",
        "print(myList)\n"
      ],
      "metadata": {
        "colab": {
          "base_uri": "https://localhost:8080/"
        },
        "id": "90DZ_FW3Wf5W",
        "outputId": "29a18470-0e80-44d0-dff9-d764ab1dcd4e"
      },
      "execution_count": 25,
      "outputs": [
        {
          "output_type": "stream",
          "name": "stdout",
          "text": [
            "['a', 'b', 'c', 'd', 'e', 'f']\n"
          ]
        }
      ]
    },
    {
      "cell_type": "code",
      "source": [
        "# Print 1st 2 elements\n",
        "\n",
        "print(myList[0:2])\n",
        "\n",
        "print(myList[:2])\n",
        "\n"
      ],
      "metadata": {
        "colab": {
          "base_uri": "https://localhost:8080/"
        },
        "id": "XTwyQswQw8R5",
        "outputId": "404c805e-1d1f-4c70-d808-4849989aaefe"
      },
      "execution_count": 26,
      "outputs": [
        {
          "output_type": "stream",
          "name": "stdout",
          "text": [
            "['a', 'b']\n",
            "['a', 'b']\n"
          ]
        }
      ]
    },
    {
      "cell_type": "code",
      "source": [
        "# print without 1st element.\n",
        "\n",
        "print(myList[1:])\n"
      ],
      "metadata": {
        "colab": {
          "base_uri": "https://localhost:8080/"
        },
        "id": "F76ZbDO9G5p_",
        "outputId": "83a94e7d-c94e-42e1-ef22-0f3c6f6191e8"
      },
      "execution_count": 27,
      "outputs": [
        {
          "output_type": "stream",
          "name": "stdout",
          "text": [
            "['b', 'c', 'd', 'e', 'f']\n"
          ]
        }
      ]
    },
    {
      "cell_type": "code",
      "source": [
        "# print all elements\n",
        "\n",
        "print(myList[:])\n",
        "\n"
      ],
      "metadata": {
        "colab": {
          "base_uri": "https://localhost:8080/"
        },
        "id": "34c5_jh8G5m6",
        "outputId": "4bad7dda-7db0-4b04-c2a7-48b1d1b64269"
      },
      "execution_count": 28,
      "outputs": [
        {
          "output_type": "stream",
          "name": "stdout",
          "text": [
            "['a', 'b', 'c', 'd', 'e', 'f']\n"
          ]
        }
      ]
    },
    {
      "cell_type": "code",
      "source": [
        "# Update 1st 2 elements in list\n",
        "\n",
        "myList[0:2] = ['M',\"J\"]\n",
        "print(myList)\n"
      ],
      "metadata": {
        "colab": {
          "base_uri": "https://localhost:8080/"
        },
        "id": "OF79EbXdG5kA",
        "outputId": "b15b04e6-b514-4dc2-87b4-5de2809d7b32"
      },
      "execution_count": 29,
      "outputs": [
        {
          "output_type": "stream",
          "name": "stdout",
          "text": [
            "['M', 'J', 'c', 'd', 'e', 'f']\n"
          ]
        }
      ]
    },
    {
      "cell_type": "code",
      "source": [
        "\"\"\"\n",
        "Deletion:-\n",
        "\n",
        "There are several different ways of deleting an element from a list.\n",
        "\n",
        "pop()\n",
        "delete()\n",
        "remove()\n",
        "\n",
        "\"\"\""
      ],
      "metadata": {
        "colab": {
          "base_uri": "https://localhost:8080/",
          "height": 54
        },
        "id": "HbWyrysaG5en",
        "outputId": "b805aa15-3f90-4972-edd5-a85406a821ee"
      },
      "execution_count": 30,
      "outputs": [
        {
          "output_type": "execute_result",
          "data": {
            "text/plain": [
              "'\\nDeletion:-\\n\\nThere are several different ways of deleting an element from a list.\\n\\npop()\\ndelete()\\nremove()\\n\\n'"
            ],
            "application/vnd.google.colaboratory.intrinsic+json": {
              "type": "string"
            }
          },
          "metadata": {},
          "execution_count": 30
        }
      ]
    },
    {
      "cell_type": "code",
      "source": [
        "# pop() method\n",
        "\n",
        "# we need to provide an index of element when using pop() method\n",
        "# pop methods takes as parameter index of the element that we\n",
        "# want to delete.\n",
        "# if we do not provide any index then pop method will remove the last\n",
        "# element in the list.\n",
        "\n",
        "\n",
        "print(myList)\n",
        "\n",
        "#remove 2nd element\n",
        "myList.pop(1)\n",
        "\n",
        "print(myList)\n",
        "\n",
        "print(myList.pop())\n"
      ],
      "metadata": {
        "colab": {
          "base_uri": "https://localhost:8080/"
        },
        "id": "UfoMdRdaG5b5",
        "outputId": "f9fcaa26-e52a-442f-c3c6-5e1c83823228"
      },
      "execution_count": 31,
      "outputs": [
        {
          "output_type": "stream",
          "name": "stdout",
          "text": [
            "['M', 'J', 'c', 'd', 'e', 'f']\n",
            "['M', 'c', 'd', 'e', 'f']\n",
            "f\n"
          ]
        }
      ]
    },
    {
      "cell_type": "code",
      "source": [
        "# delete() method\n",
        "\n",
        "# If we don't need removed values, we can use delete method\n",
        "# delete method also works on index\n",
        "\n",
        "myList = ['M', 'J', 'c', 'd', 'e', 'f']\n",
        "\n",
        "del myList[1]\n",
        "print(myList)\n",
        "\n",
        "\n",
        "del myList[2]\n",
        "print(myList)\n",
        "\n",
        "myList = ['M', 'J', 'c', 'd', 'e', 'f']\n",
        "del myList[2:4]\n",
        "print(myList)\n"
      ],
      "metadata": {
        "colab": {
          "base_uri": "https://localhost:8080/"
        },
        "id": "7e8Uby5TG5Zv",
        "outputId": "6c383c12-3439-4a16-b93a-8b18a9d40bb8"
      },
      "execution_count": 32,
      "outputs": [
        {
          "output_type": "stream",
          "name": "stdout",
          "text": [
            "['M', 'c', 'd', 'e', 'f']\n",
            "['M', 'c', 'e', 'f']\n",
            "['M', 'J', 'e', 'f']\n"
          ]
        }
      ]
    },
    {
      "cell_type": "code",
      "source": [
        "# remove() method\n",
        "\n",
        "# remove method is very useful when we know the element itself.\n",
        "# we don't need to know the index.\n",
        "# we can just provide the value and delete that value.\n",
        "\n",
        "myList = ['M', 'J', 'c', 'd', 'e', 'f']\n",
        "\n",
        "myList.remove('M')\n",
        "print(myList)\n",
        "\n",
        "myList.remove('f')\n",
        "print(myList)\n",
        "\n"
      ],
      "metadata": {
        "colab": {
          "base_uri": "https://localhost:8080/"
        },
        "id": "YJjBvSDTG5Tj",
        "outputId": "0d20fdf9-d9cc-4b51-b6ac-887c8d9c1a28"
      },
      "execution_count": 33,
      "outputs": [
        {
          "output_type": "stream",
          "name": "stdout",
          "text": [
            "['J', 'c', 'd', 'e', 'f']\n",
            "['J', 'c', 'd', 'e']\n"
          ]
        }
      ]
    },
    {
      "cell_type": "code",
      "source": [
        "\"\"\"\n",
        "\n",
        "Time Complexity:-\n",
        "\n",
        "\n",
        "To remove an element using pop method. If we don't use it without\n",
        "any parameter it will just remove last  element.\n",
        "This means that time complexity O(1) because deleting last element\n",
        "is not causing any shift in our list.\n",
        "\n",
        "If we use pop function to delete an element from the beginning from\n",
        "the list, then the time complexity will be O(N), because if we\n",
        "delete 1st element , the reset elements have to move 1 step left.\n",
        "This means this will take too much tome if we have more values.\n",
        "\n",
        "delete method also takes O(N) time complexity because here when we\n",
        "delete any specified element or multiple elements the rest elements\n",
        "have to move 1 stepe to the left.\n",
        "\n",
        "\n",
        "remove method also takes O(N) time complexity because here we are\n",
        "providing the element straight away, which means that if  we provide\n",
        "1st element or elements others will have to 1 step to the left.\n",
        "\n",
        "\n",
        "\n",
        "\n",
        "Space Complexity:-\n",
        "\n",
        "Space complexity for all methods wil be O(1)  because there more\n",
        "requiremens for extra memory to perform any deletion\n",
        "\n",
        "\n",
        "\"\"\""
      ],
      "metadata": {
        "id": "rFdjk-J7G5Q9",
        "colab": {
          "base_uri": "https://localhost:8080/",
          "height": 218
        },
        "outputId": "3a2b4e91-685d-4d95-c9f7-a9c1709061fb"
      },
      "execution_count": 34,
      "outputs": [
        {
          "output_type": "execute_result",
          "data": {
            "text/plain": [
              "\"\\n\\nTime Complexity:-\\n\\n\\nTo remove an element using pop method. If we don't use it without\\nany parameter it will just remove last  element.\\nThis means that time complexity O(1) because deleting last element\\nis not causing any shift in our list.\\n\\nIf we use pop function to delete an element from the beginning from\\nthe list, then the time complexity will be O(N), because if we\\ndelete 1st element , the reset elements have to move 1 step left.\\nThis means this will take too much tome if we have more values.\\n\\ndelete method also takes O(N) time complexity because here when we\\ndelete any specified element or multiple elements the rest elements\\nhave to move 1 stepe to the left.\\n\\n\\nremove method also takes O(N) time complexity because here we are\\nproviding the element straight away, which means that if  we provide\\n1st element or elements others will have to 1 step to the left.\\n\\n\\n\\n\\nSpace Complexity:-\\n\\nSpace complexity for all methods wil be O(1)  because there more\\nrequiremens for extra memory to perform any deletion\\n\\n\\n\""
            ],
            "application/vnd.google.colaboratory.intrinsic+json": {
              "type": "string"
            }
          },
          "metadata": {},
          "execution_count": 34
        }
      ]
    },
    {
      "cell_type": "markdown",
      "source": [
        "# Searching for an element in a List"
      ],
      "metadata": {
        "id": "1qWn4U0GPPX_"
      }
    },
    {
      "cell_type": "code",
      "source": [
        "my_list = []\n",
        "\n",
        "for i in range(10,100,10):\n",
        "    my_list.append(i)\n",
        "\n",
        "print(my_list)"
      ],
      "metadata": {
        "colab": {
          "base_uri": "https://localhost:8080/"
        },
        "id": "3zrZG4kZG5Of",
        "outputId": "b7652c1d-5782-498c-f2c1-fcdbb394d140"
      },
      "execution_count": 35,
      "outputs": [
        {
          "output_type": "stream",
          "name": "stdout",
          "text": [
            "[10, 20, 30, 40, 50, 60, 70, 80, 90]\n"
          ]
        }
      ]
    },
    {
      "cell_type": "code",
      "source": [
        "\"\"\"\n",
        "There are 2 ways of searching an element in the list.\n",
        "\n",
        "1.) Using in operator\n",
        "2.) Liner search\n",
        "\n",
        "\"\"\""
      ],
      "metadata": {
        "id": "s7Y2Pi0UG5Ld",
        "colab": {
          "base_uri": "https://localhost:8080/",
          "height": 54
        },
        "outputId": "b5a7caec-0dc4-43c7-daa2-db3ed20d9171"
      },
      "execution_count": 36,
      "outputs": [
        {
          "output_type": "execute_result",
          "data": {
            "text/plain": [
              "'\\nThere are 2 ways of searching an element in the list.\\n\\n1.) Using in operator\\n2.) Liner search\\n\\n'"
            ],
            "application/vnd.google.colaboratory.intrinsic+json": {
              "type": "string"
            }
          },
          "metadata": {},
          "execution_count": 36
        }
      ]
    },
    {
      "cell_type": "code",
      "source": [
        "# in operator\n",
        "\n",
        "target = 50\n",
        "\n",
        "if target in my_list:\n",
        "    print(f\"{target} is in {my_list}\")\n",
        "\n",
        "print(\" \")\n",
        "\n",
        "target = 500\n",
        "\n",
        "if target in my_list:\n",
        "    print(f\"{target} is in {my_list}\")\n",
        "else:\n",
        "    print(f\"{target} is not in the {my_list}\")\n",
        "\n"
      ],
      "metadata": {
        "colab": {
          "base_uri": "https://localhost:8080/"
        },
        "id": "w7qJ6cCVG5I4",
        "outputId": "b23d5571-9b9c-4745-b61e-f03421570bfa"
      },
      "execution_count": 37,
      "outputs": [
        {
          "output_type": "stream",
          "name": "stdout",
          "text": [
            "50 is in [10, 20, 30, 40, 50, 60, 70, 80, 90]\n",
            " \n",
            "500 is not in the [10, 20, 30, 40, 50, 60, 70, 80, 90]\n"
          ]
        }
      ]
    },
    {
      "cell_type": "code",
      "source": [
        "\"\"\"\n",
        "\n",
        "Time Complexity:-\n",
        "\n",
        "When using in operator in Python the time complexity is O(N).\n",
        "In the worst case, where n is the number of elements in the list,\n",
        "this is because under the hood Python performs a linear search\n",
        "to check if an element is present in the list or not.\n",
        "\n",
        "keep in mind that in operator has better time complexity when used\n",
        "with sets and dictionary which are implemented as hash tabel.\n",
        "\n",
        "\"\"\""
      ],
      "metadata": {
        "id": "Dl0NwvXSG5GE",
        "colab": {
          "base_uri": "https://localhost:8080/",
          "height": 109
        },
        "outputId": "d438d16e-165f-466d-b00e-11261f7a2f77"
      },
      "execution_count": 38,
      "outputs": [
        {
          "output_type": "execute_result",
          "data": {
            "text/plain": [
              "'\\n\\nTime Complexity:-\\n\\nWhen using in operator in Python the time complexity is O(N).\\nIn the worst case, where n is the number of elements in the list,\\nthis is because under the hood Python performs a linear search\\nto check if an element is present in the list or not.\\n\\nkeep in mind that in operator has better time complexity when used\\nwith sets and dictionary which are implemented as hash tabel.\\n\\n'"
            ],
            "application/vnd.google.colaboratory.intrinsic+json": {
              "type": "string"
            }
          },
          "metadata": {},
          "execution_count": 38
        }
      ]
    },
    {
      "cell_type": "code",
      "source": [
        "\"\"\"\n",
        "Linear search\n",
        "\n",
        "we are going to search for an element in the list, checking each\n",
        "element 1 by 1\n",
        "\n",
        "we are going to start from the beginning from  the list.\n",
        "check if the current value is equal to the target value or not.\n",
        "\n",
        "if it is equal , it is successful. it will return the index\n",
        "of target value.\n",
        "\n",
        "if it is not , will move the next element and checking for the\n",
        "target value.\n",
        "\n",
        "So these steps will repeat until we reach the last element in the list.\n",
        "\n",
        "\n",
        "\"\"\"\n"
      ],
      "metadata": {
        "colab": {
          "base_uri": "https://localhost:8080/",
          "height": 109
        },
        "id": "1OquBYCiG5C8",
        "outputId": "15844312-470e-4be1-9264-8b9581a3ce28"
      },
      "execution_count": 39,
      "outputs": [
        {
          "output_type": "execute_result",
          "data": {
            "text/plain": [
              "'\\nLinear search\\n\\nwe are going to search for an element in the list, checking each\\nelement 1 by 1\\n\\nwe are going to start from the beginning from  the list.\\ncheck if the current value is equal to the target value or not.\\n\\nif it is equal , it is successful. it will return the index\\nof target value.\\n\\nif it is not , will move the next element and checking for the\\ntarget value.\\n\\nSo these steps will repeat until we reach the last element in the list.\\n\\n\\n'"
            ],
            "application/vnd.google.colaboratory.intrinsic+json": {
              "type": "string"
            }
          },
          "metadata": {},
          "execution_count": 39
        }
      ]
    },
    {
      "cell_type": "code",
      "source": [
        "\n",
        "# enumerate :- to get pairs for the index and values from the list.\n",
        "# this function iterate over the list while also keeping the track\n",
        "# of the index of the current item.\n",
        "\n",
        "\n",
        "def linear_search(my_list,target_value):\n",
        "\n",
        "    for i,value in enumerate(my_list):\n",
        "        if value == target_value:\n",
        "            return i\n",
        "\n",
        "    return -1\n",
        "\n",
        "\n",
        "my_list = []\n",
        "\n",
        "for i in range(10,100,10):\n",
        "    my_list.append(i)\n",
        "\n",
        "print(my_list)"
      ],
      "metadata": {
        "colab": {
          "base_uri": "https://localhost:8080/"
        },
        "id": "DCk4HBAGG5Ak",
        "outputId": "608d1259-8802-4f10-beda-b82fb716cb8d"
      },
      "execution_count": 40,
      "outputs": [
        {
          "output_type": "stream",
          "name": "stdout",
          "text": [
            "[10, 20, 30, 40, 50, 60, 70, 80, 90]\n"
          ]
        }
      ]
    },
    {
      "cell_type": "code",
      "source": [
        "linear_search(my_list,40)"
      ],
      "metadata": {
        "colab": {
          "base_uri": "https://localhost:8080/"
        },
        "id": "7suprePnG43K",
        "outputId": "35e2b17c-ffb1-4898-c65b-38909874d02c"
      },
      "execution_count": 41,
      "outputs": [
        {
          "output_type": "execute_result",
          "data": {
            "text/plain": [
              "3"
            ]
          },
          "metadata": {},
          "execution_count": 41
        }
      ]
    },
    {
      "cell_type": "code",
      "source": [
        "linear_search(my_list,110)"
      ],
      "metadata": {
        "colab": {
          "base_uri": "https://localhost:8080/"
        },
        "id": "Z-7mTY4Xw8O4",
        "outputId": "f51608d6-ee55-48f0-829f-e0aca79b60ff"
      },
      "execution_count": 42,
      "outputs": [
        {
          "output_type": "execute_result",
          "data": {
            "text/plain": [
              "-1"
            ]
          },
          "metadata": {},
          "execution_count": 42
        }
      ]
    },
    {
      "cell_type": "code",
      "source": [
        "\"\"\"\n",
        "\n",
        "Time Complexity:-\n",
        "\n",
        "1st line:- for loop\n",
        "which is looping through the all elements of the list with enumerate\n",
        "function.\n",
        "In this case time complexity will be O(N) because enumerate function\n",
        "keeps the track of the current item.\n",
        "\n",
        "2nd line:- value==target_value\n",
        "time complexity will be O(1). because we are just comparing with\n",
        "target value.\n",
        "\n",
        "3rd line:- return 1\n",
        "time complexity will be O(1).\n",
        "\n",
        "4th line:- return -1\n",
        "time complexity will be O(1).\n",
        "\n",
        "Now, if we combine all these time complexities together\n",
        "\n",
        "total time complexity = O(N) + O(1) + O(1) + O(1) = O(N)\n",
        "\n",
        "Space complexity:-\n",
        "\n",
        "Space complexity of Linear search will be O(1) because in this case\n",
        "an extra memory is not required to perform this operation.\n",
        "\n",
        "\n",
        "\"\"\""
      ],
      "metadata": {
        "id": "oLb2dFOsWf8V",
        "colab": {
          "base_uri": "https://localhost:8080/",
          "height": 164
        },
        "outputId": "73792f3a-31e9-412a-962a-3d6b9ff0626b"
      },
      "execution_count": 43,
      "outputs": [
        {
          "output_type": "execute_result",
          "data": {
            "text/plain": [
              "'\\n\\nTime Complexity:-\\n\\n1st line:- for loop\\nwhich is looping through the all elements of the list with enumerate\\nfunction.\\nIn this case time complexity will be O(N) because enumerate function\\nkeeps the track of the current item.\\n\\n2nd line:- value==target_value\\ntime complexity will be O(1). because we are just comparing with\\ntarget value.\\n\\n3rd line:- return 1\\ntime complexity will be O(1).\\n\\n4th line:- return -1\\ntime complexity will be O(1).\\n\\nNow, if we combine all these time complexities together\\n\\ntotal time complexity = O(N) + O(1) + O(1) + O(1) = O(N)\\n\\nSpace complexity:-\\n\\nSpace complexity of Linear search will be O(1) because in this case\\nan extra memory is not required to perform this operation.\\n\\n\\n'"
            ],
            "application/vnd.google.colaboratory.intrinsic+json": {
              "type": "string"
            }
          },
          "metadata": {},
          "execution_count": 43
        }
      ]
    },
    {
      "cell_type": "markdown",
      "source": [
        "# List Operations /  Functions"
      ],
      "metadata": {
        "id": "pao1zdlYYKxw"
      }
    },
    {
      "cell_type": "markdown",
      "source": [
        "**List Operations**"
      ],
      "metadata": {
        "id": "lLuvFzEeZdtv"
      }
    },
    {
      "cell_type": "code",
      "source": [
        "# The 1st operation is ' + ' operator, which concatenates the lists,\n",
        "\n",
        "\n",
        "a = [1,2,3]\n",
        "b = ['a','b','c']\n",
        "\n",
        "c = a + b\n",
        "print(c)\n",
        "\n"
      ],
      "metadata": {
        "colab": {
          "base_uri": "https://localhost:8080/"
        },
        "id": "2vAVVOT-YJ5F",
        "outputId": "99b7e607-84c0-4510-b53d-5ae7231a8d21"
      },
      "execution_count": 44,
      "outputs": [
        {
          "output_type": "stream",
          "name": "stdout",
          "text": [
            "[1, 2, 3, 'a', 'b', 'c']\n"
          ]
        }
      ]
    },
    {
      "cell_type": "code",
      "source": [
        "# The 2nd operator is ' * ' operator.\n",
        "# by using this operator any element in the list can be repititive.\n",
        "\n",
        "\n",
        "a = [100]\n",
        "a = a * 4\n",
        "print(a)\n",
        "\n",
        "print(\" \")\n",
        "\n",
        "b = [100,200]\n",
        "b = b * 4\n",
        "print(b)\n"
      ],
      "metadata": {
        "colab": {
          "base_uri": "https://localhost:8080/"
        },
        "id": "wM-z_C3JYJ2B",
        "outputId": "202e6348-cddc-41ac-b34f-2379c8766ec9"
      },
      "execution_count": 45,
      "outputs": [
        {
          "output_type": "stream",
          "name": "stdout",
          "text": [
            "[100, 100, 100, 100]\n",
            " \n",
            "[100, 200, 100, 200, 100, 200, 100, 200]\n"
          ]
        }
      ]
    },
    {
      "cell_type": "markdown",
      "source": [
        "**List Functions**"
      ],
      "metadata": {
        "id": "_DxYObUJaju_"
      }
    },
    {
      "cell_type": "code",
      "source": [
        "\"\"\"\n",
        "1.) len() :- To count the elements of the list.\n",
        "\n",
        "2.) max() :- Returns the item with the highest value in the List\n",
        "\n",
        "3.) min() :- Returns the item with the lowest value in the list\n",
        "\n",
        "4.) sum() :- Returns the sum of all items in the list\n",
        "\"\"\"\n"
      ],
      "metadata": {
        "id": "dOz-t6LNYJzd",
        "colab": {
          "base_uri": "https://localhost:8080/",
          "height": 72
        },
        "outputId": "bf1f97f3-2954-4bf8-9fae-55f6a22ce7df"
      },
      "execution_count": 46,
      "outputs": [
        {
          "output_type": "execute_result",
          "data": {
            "text/plain": [
              "'\\n1.) len() :- To count the elements of the list.\\n\\n2.) max() :- Returns the item with the highest value in the List\\n\\n3.) min() :- Returns the item with the lowest value in the list\\n\\n4.) sum() :- Returns the sum of all items in the list\\n'"
            ],
            "application/vnd.google.colaboratory.intrinsic+json": {
              "type": "string"
            }
          },
          "metadata": {},
          "execution_count": 46
        }
      ]
    },
    {
      "cell_type": "code",
      "source": [
        "# len()\n",
        "\n",
        "a = [1,2,3,4,5,6,7]\n",
        "print(len(a))"
      ],
      "metadata": {
        "colab": {
          "base_uri": "https://localhost:8080/"
        },
        "id": "eHQ2Ha4AYJw1",
        "outputId": "4e5c7938-32a8-4394-b14a-aea6ba9efb36"
      },
      "execution_count": 47,
      "outputs": [
        {
          "output_type": "stream",
          "name": "stdout",
          "text": [
            "7\n"
          ]
        }
      ]
    },
    {
      "cell_type": "code",
      "source": [
        "# max()\n",
        "\n",
        "a = [1,2,3,4,5,6,7]\n",
        "print(max(a))\n"
      ],
      "metadata": {
        "colab": {
          "base_uri": "https://localhost:8080/"
        },
        "id": "-ZCHuB5YYJuT",
        "outputId": "a5aca0b0-cba6-45b8-d229-752a7a3a620d"
      },
      "execution_count": 48,
      "outputs": [
        {
          "output_type": "stream",
          "name": "stdout",
          "text": [
            "7\n"
          ]
        }
      ]
    },
    {
      "cell_type": "code",
      "source": [
        "# min()\n",
        "\n",
        "a = [1,2,3,4,5,6,7]\n",
        "print(min(a))\n"
      ],
      "metadata": {
        "colab": {
          "base_uri": "https://localhost:8080/"
        },
        "id": "iRHK__K4YJrW",
        "outputId": "851bd8d7-707c-4150-fb70-911365ee0598"
      },
      "execution_count": 49,
      "outputs": [
        {
          "output_type": "stream",
          "name": "stdout",
          "text": [
            "1\n"
          ]
        }
      ]
    },
    {
      "cell_type": "code",
      "source": [
        "# sum()\n",
        "\n",
        "a = [1,2,3,4,5,6,7,8,9,10]\n",
        "print(sum(a))"
      ],
      "metadata": {
        "colab": {
          "base_uri": "https://localhost:8080/"
        },
        "id": "gbAnhn8KYJou",
        "outputId": "63d5c9ab-967d-4f86-a6ff-dbe738a41621"
      },
      "execution_count": 50,
      "outputs": [
        {
          "output_type": "stream",
          "name": "stdout",
          "text": [
            "55\n"
          ]
        }
      ]
    },
    {
      "cell_type": "code",
      "source": [
        "# Average value\n",
        "\n",
        "a = [1,2,3,4,5,6,7,8,9,10]\n",
        "print(sum(a)/len(a))"
      ],
      "metadata": {
        "colab": {
          "base_uri": "https://localhost:8080/"
        },
        "id": "KnFzz9AvYJmN",
        "outputId": "cc042608-3d9a-4eb2-9ef5-b56e36efefad"
      },
      "execution_count": 51,
      "outputs": [
        {
          "output_type": "stream",
          "name": "stdout",
          "text": [
            "5.5\n"
          ]
        }
      ]
    },
    {
      "cell_type": "code",
      "source": [
        "# Average function\n",
        "\n",
        "total = 0\n",
        "count = 0\n",
        "\n",
        "while(True):\n",
        "\n",
        "    input_value = input(\"Enter a number :- \")\n",
        "\n",
        "    if input_value == 'done': break\n",
        "\n",
        "    value = float(input_value)\n",
        "\n",
        "    total = total + value\n",
        "\n",
        "    count = count + 1\n",
        "\n",
        "    average = total/count\n",
        "\n",
        "print(\"Average: \", average)\n"
      ],
      "metadata": {
        "colab": {
          "base_uri": "https://localhost:8080/"
        },
        "id": "3zc1qT5iYJjA",
        "outputId": "88310964-6c78-4870-fbeb-5466fcbd7faf"
      },
      "execution_count": 52,
      "outputs": [
        {
          "output_type": "stream",
          "name": "stdout",
          "text": [
            "Enter a number :- 10\n",
            "Enter a number :- 20\n",
            "Enter a number :- done\n",
            "Average:  15.0\n"
          ]
        }
      ]
    },
    {
      "cell_type": "code",
      "source": [
        "\n",
        "my_list = list()\n",
        "\n",
        "while(True):\n",
        "\n",
        "    input_value = input(\"Enter a number :- \")\n",
        "\n",
        "    if input_value == 'done': break\n",
        "\n",
        "    value = float(input_value)\n",
        "\n",
        "    my_list.append(value)\n",
        "\n",
        "\n",
        "if len(my_list) > 0:\n",
        "\n",
        "    average =  sum(my_list) / len(my_list)\n",
        "\n",
        "    print(\"Average :- \",average)\n",
        "\n",
        "else:\n",
        "    print(\"No values entered\")\n",
        "\n"
      ],
      "metadata": {
        "colab": {
          "base_uri": "https://localhost:8080/"
        },
        "id": "nbCxeIpsYJge",
        "outputId": "db2f38c2-6827-45c6-a4b4-b7259f8ed8f7"
      },
      "execution_count": 53,
      "outputs": [
        {
          "output_type": "stream",
          "name": "stdout",
          "text": [
            "Enter a number :- 10\n",
            "Enter a number :- 20\n",
            "Enter a number :- 45\n",
            "Enter a number :- done\n",
            "Average :-  25.0\n"
          ]
        }
      ]
    },
    {
      "cell_type": "markdown",
      "source": [
        "# List and Strings\n"
      ],
      "metadata": {
        "id": "bMnswkMKflcj"
      }
    },
    {
      "cell_type": "code",
      "source": [
        "# String is sequence of characters\n",
        "\n",
        "# List is sequence of values\n",
        "\n",
        "# List of character is not the same as string\n",
        "\n",
        "# To convert a string to a list character, we can use list function\n"
      ],
      "metadata": {
        "id": "b0TC7lLNYJde"
      },
      "execution_count": 54,
      "outputs": []
    },
    {
      "cell_type": "code",
      "source": [
        "a = 'Malav'\n",
        "print(a)\n",
        "\n",
        "b = list(a)\n",
        "print(b)"
      ],
      "metadata": {
        "colab": {
          "base_uri": "https://localhost:8080/"
        },
        "id": "xhqAlKM5g6U6",
        "outputId": "7113115b-24a5-4385-c350-26015614c1d1"
      },
      "execution_count": 55,
      "outputs": [
        {
          "output_type": "stream",
          "name": "stdout",
          "text": [
            "Malav\n",
            "['M', 'a', 'l', 'a', 'v']\n"
          ]
        }
      ]
    },
    {
      "cell_type": "code",
      "source": [
        "# .split() method\n",
        "\n",
        "a = 'Mrugesh Malav Maya'\n",
        "print(a)\n",
        "\n",
        "b = a.split( )\n",
        "print(b)\n",
        "\n",
        "print(\" \")\n",
        "\n",
        "a = 'Mrugesh-Malav-Maya'\n",
        "print(a)\n",
        "\n",
        "b = a.split('-') #delimiter = '-'\n",
        "print(b)\n",
        "\n",
        "\n",
        "print(\" \")\n",
        "\n",
        "a = 'Mrugesh-Malav-Maya'\n",
        "print(a)\n",
        "\n",
        "b = a.split('a') #delimiter = '-'\n",
        "print(b)"
      ],
      "metadata": {
        "colab": {
          "base_uri": "https://localhost:8080/"
        },
        "id": "089kxtE2YJaz",
        "outputId": "406fbfe9-db89-4c42-de28-1e5c68a2cedc"
      },
      "execution_count": 56,
      "outputs": [
        {
          "output_type": "stream",
          "name": "stdout",
          "text": [
            "Mrugesh Malav Maya\n",
            "['Mrugesh', 'Malav', 'Maya']\n",
            " \n",
            "Mrugesh-Malav-Maya\n",
            "['Mrugesh', 'Malav', 'Maya']\n",
            " \n",
            "Mrugesh-Malav-Maya\n",
            "['Mrugesh-M', 'l', 'v-M', 'y', '']\n"
          ]
        }
      ]
    },
    {
      "cell_type": "code",
      "source": [
        "# .joint() method\n",
        "\n",
        "# convert list to string\n",
        "\n",
        "\n",
        "a = 'Mrugesh-Malav-Maya'\n",
        "print(a)\n",
        "\n",
        "print(\" \")\n",
        "\n",
        "b = a.split('a') #delimiter = '-'\n",
        "print(b)\n",
        "\n",
        "print(\" \")\n",
        "\n",
        "c = 'a'.join(b)\n",
        "print(c)"
      ],
      "metadata": {
        "colab": {
          "base_uri": "https://localhost:8080/"
        },
        "id": "8i-pU53MYJX8",
        "outputId": "14ad0db4-4d34-47e3-84b0-a19e5ef37171"
      },
      "execution_count": 57,
      "outputs": [
        {
          "output_type": "stream",
          "name": "stdout",
          "text": [
            "Mrugesh-Malav-Maya\n",
            " \n",
            "['Mrugesh-M', 'l', 'v-M', 'y', '']\n",
            " \n",
            "Mrugesh-Malav-Maya\n"
          ]
        }
      ]
    },
    {
      "cell_type": "markdown",
      "source": [
        "# Common List pitfalls and ways to avoid them"
      ],
      "metadata": {
        "id": "_d3tWtb_j6hc"
      }
    },
    {
      "cell_type": "code",
      "source": [
        "# carless use of list can waste time in debugging.\n",
        "\n",
        "# The 1st is we don't need to forget that most list methods modify\n",
        "# the argument and return none.\n",
        "\n",
        "# This is the opposite of string methods which returns a new stribg\n",
        "# and leave the original alone.\n",
        "\n"
      ],
      "metadata": {
        "id": "SbFSJ8ZpYJVX"
      },
      "execution_count": 58,
      "outputs": []
    },
    {
      "cell_type": "code",
      "source": [
        "my_list = [2,4,3,5,8,7]\n",
        "\n",
        "my_list = my_list.sort()\n",
        "print(my_list)\n"
      ],
      "metadata": {
        "id": "h1w4jesOYJSk",
        "colab": {
          "base_uri": "https://localhost:8080/"
        },
        "outputId": "0714536f-4317-48bb-95c6-9e4bc7b089e5"
      },
      "execution_count": 59,
      "outputs": [
        {
          "output_type": "stream",
          "name": "stdout",
          "text": [
            "None\n"
          ]
        }
      ]
    },
    {
      "cell_type": "code",
      "source": [
        "# The 2nd one is that there are many ways to do things\n",
        "\n",
        "# For example, to remove an element form the list you can use\n",
        "# pop method, remove method and deleted method or even a slice\n",
        "# assignement can be used to remove the elements.\n",
        "\n",
        "# This can lead to miunderstanding.\n"
      ],
      "metadata": {
        "id": "ZyTwlPPWYJPz"
      },
      "execution_count": 59,
      "outputs": []
    },
    {
      "cell_type": "code",
      "source": [
        "# The 3rd problem is whenever we do any operation on list, we\n",
        "# need to take a copy of this list.\n",
        "\n",
        "# Because many methods modifying original list itself without\n",
        "# keeping the original one.\n",
        "\n",
        "my_list = [2,3,4,5,9,8,4]\n",
        "print(my_list)\n",
        "my_list.sort()\n",
        "print(my_list)\n",
        "\n",
        "# so we can see that it modified original list.\n",
        "\n",
        "# so the best way to avoid such problem is to create a copy of\n",
        "# a list.\n",
        "\n",
        "# we can also use sorted function\n",
        "\n",
        "print(\" \")\n",
        "\n",
        "my_list = [2,3,4,5,9,8,4]\n",
        "print(sorted(my_list))\n",
        "print(my_list)\n",
        "\n"
      ],
      "metadata": {
        "id": "DtqymaywYJM8",
        "colab": {
          "base_uri": "https://localhost:8080/"
        },
        "outputId": "1e6d2625-136d-458c-ca1f-e59fdf779288"
      },
      "execution_count": 64,
      "outputs": [
        {
          "output_type": "stream",
          "name": "stdout",
          "text": [
            "[2, 3, 4, 5, 9, 8, 4]\n",
            "[2, 3, 4, 4, 5, 8, 9]\n",
            " \n",
            "[2, 3, 4, 4, 5, 8, 9]\n",
            "[2, 3, 4, 5, 9, 8, 4]\n"
          ]
        }
      ]
    },
    {
      "cell_type": "markdown",
      "source": [
        "# List vs. Array"
      ],
      "metadata": {
        "id": "namenDqDsZjc"
      }
    },
    {
      "cell_type": "code",
      "source": [
        "\"\"\"\n",
        "Similarities between List and Array: -\n",
        "\n",
        "1.) Both data structures are mutable.\n",
        "It means that we can update elements of both data structures.\n",
        "So by using their index, we can update any element in the list or\n",
        "in the array.\n",
        "\n",
        "2.) Both can be indexed and iterated through.\n",
        "This means that we can access the elements by using their index and\n",
        "we can iterate through them.\n",
        "\n",
        "\n",
        "3.) They can be both sliced.\n",
        "By using slice personality we can slice both list and arrays.\n",
        "\n",
        "\"\"\""
      ],
      "metadata": {
        "id": "VyawiajeYH1V"
      },
      "execution_count": 59,
      "outputs": []
    },
    {
      "cell_type": "code",
      "source": [
        "\"\"\"\n",
        "\n",
        "Difference between List and Arrya: -\n",
        "\n",
        "1.) The main difference between these two data structure is the\n",
        "operation we perform on them.\n",
        "\n",
        "Array are specially optimized for arithmetic computations. So if we\n",
        "try to perform similar operations, we should consider using array\n",
        "instead of list.\n",
        "\n",
        "2.) The 2nd main difference is that in list the elements data types\n",
        "can be different , but in array all elements has to be same data type.\n",
        "\n",
        "\n",
        "\"\"\""
      ],
      "metadata": {
        "id": "exPDzv28YHyX"
      },
      "execution_count": 59,
      "outputs": []
    },
    {
      "cell_type": "code",
      "source": [
        "# for 1st difference\n",
        "\n",
        "import numpy as np\n",
        "\n",
        "my_array = np.array([1,2,3,4,5,6])\n",
        "\n",
        "my_list = [1,2,3,4,5,6]\n",
        "\n",
        "print(my_array/2)\n",
        "\n",
        "# print(my_list/2)\n",
        "# error:- TypeError: unsupported operand type(s) for /: 'list' and 'int'\n",
        "\n",
        "\n"
      ],
      "metadata": {
        "id": "cji2nOSGYHvq",
        "colab": {
          "base_uri": "https://localhost:8080/"
        },
        "outputId": "812c8265-5741-4ab8-9d92-f4f6085c9c83"
      },
      "execution_count": 69,
      "outputs": [
        {
          "output_type": "stream",
          "name": "stdout",
          "text": [
            "[0.5 1.  1.5 2.  2.5 3. ]\n"
          ]
        }
      ]
    },
    {
      "cell_type": "code",
      "source": [
        "\n",
        "import numpy as np\n",
        "\n",
        "my_array = np.array([1,2,3,4,5,'a'])\n",
        "\n",
        "my_list = [1,2,3,4,5,6,'a']\n",
        "\n",
        "print(my_array)\n",
        "# all array elements are printed as string even though we declared\n",
        "# as integer it converted in string.\n",
        "\n",
        "print(my_list)\n",
        "# in case of list it remained the same.\n"
      ],
      "metadata": {
        "id": "ybvkwnz8YHss",
        "colab": {
          "base_uri": "https://localhost:8080/"
        },
        "outputId": "467bfade-ad74-4f04-c380-497419778753"
      },
      "execution_count": 71,
      "outputs": [
        {
          "output_type": "stream",
          "name": "stdout",
          "text": [
            "['1' '2' '3' '4' '5' 'a']\n",
            "[1, 2, 3, 4, 5, 6, 'a']\n"
          ]
        }
      ]
    },
    {
      "cell_type": "markdown",
      "source": [
        "# Time and Space Complexity of List"
      ],
      "metadata": {
        "id": "GibWZEj_xe0q"
      }
    },
    {
      "cell_type": "code",
      "source": [
        "\"\"\"\n",
        "1.) Creating an empty list\n",
        "\n",
        "Time complexity :- O(1)\n",
        "Space complexity :- O(1)\n",
        "\n",
        "2.) Creating a List with elements\n",
        "\n",
        "Time Complexity :- O(N)\n",
        "Space complexity :- O(N)\n",
        "\n",
        "3.) Inserting a value in a list\n",
        "\n",
        "Time Complexity :- O(N)\n",
        "Space Complexity :- O(1)\n",
        "\n",
        "4.) Traversing a List\n",
        "\n",
        "Time Complexity :- O(N)\n",
        "Space Complexity :- O(1)\n",
        "\n",
        "5.) Accessing a given cell in List\n",
        "\n",
        "Time Complexity :- O(1)\n",
        "Space Complexity :- O(1)\n",
        "\n",
        "6.) Searching a given value in List\n",
        "\n",
        "Time Complexity :- O(N)\n",
        "Space Complexity :- O(1)\n",
        "\n",
        "7.) Deleting a value from List\n",
        "\n",
        "Time Complexity :- O(1)\n",
        "Space Complexity :- O(1)\n",
        "\n",
        "\n",
        "\n",
        "\"\"\"\n"
      ],
      "metadata": {
        "id": "kBJQXbxYYHqC"
      },
      "execution_count": 59,
      "outputs": []
    },
    {
      "cell_type": "markdown",
      "source": [
        "# List Comprehension"
      ],
      "metadata": {
        "id": "oQHER6ZP0K5D"
      }
    },
    {
      "cell_type": "code",
      "source": [
        "\"\"\"\n",
        "\n",
        "Only Python has an option of List Comprehension\n",
        "\n",
        "other programming language does not have this functionality.\n",
        "It cuts down the amount of typing and make code shorter\n",
        "and makes it lot easier to read.\n",
        "\n",
        "What is List Comprehension?\n",
        "\n",
        "It is a case where you create a new list from the previous list.\n",
        "So far we are creating a list from other lists using for loops.\n",
        "\n",
        "syntax = [ expression:operation  for loop]\n",
        "\"\"\""
      ],
      "metadata": {
        "id": "nPJWbYUKYHnE"
      },
      "execution_count": 59,
      "outputs": []
    },
    {
      "cell_type": "code",
      "source": [
        "# Traditional way of creating a new list\n",
        "\n",
        "\n",
        "my_list = [1,2,3]\n",
        "print(my_list)\n",
        "print(\" \")\n",
        "new_list =[]\n",
        "\n",
        "for i in my_list:\n",
        "    new = i*2\n",
        "    new_list.append(new)\n",
        "\n",
        "print(new_list)\n",
        "\n"
      ],
      "metadata": {
        "id": "piNEJ_IQYHko",
        "colab": {
          "base_uri": "https://localhost:8080/"
        },
        "outputId": "599328f8-334a-46f9-c6c1-b94d610accce"
      },
      "execution_count": 74,
      "outputs": [
        {
          "output_type": "stream",
          "name": "stdout",
          "text": [
            "[1, 2, 3]\n",
            " \n",
            "[2, 4, 6]\n"
          ]
        }
      ]
    },
    {
      "cell_type": "code",
      "source": [
        "# using list comprehension\n",
        "\n",
        "my_list = [1,2,3]\n",
        "print(my_list)\n",
        "print(\" \")\n",
        "\n",
        "new_list = [item*2  for item in my_list]\n",
        "print(new_list)\n"
      ],
      "metadata": {
        "id": "-sPfQeyQYHiA",
        "colab": {
          "base_uri": "https://localhost:8080/"
        },
        "outputId": "548545f9-2a76-43d7-8efe-35a774bfe526"
      },
      "execution_count": 76,
      "outputs": [
        {
          "output_type": "stream",
          "name": "stdout",
          "text": [
            "[1, 2, 3]\n",
            " \n",
            "[2, 4, 6]\n"
          ]
        }
      ]
    },
    {
      "cell_type": "code",
      "source": [
        "ls = \"Mrugesh\"\n",
        "\n",
        "new_ls = [i for i in ls]\n",
        "new_ls"
      ],
      "metadata": {
        "id": "0o9sbTWUYHfa",
        "colab": {
          "base_uri": "https://localhost:8080/"
        },
        "outputId": "cdb271d5-e6d5-4001-e560-fe5bfb4e7f37"
      },
      "execution_count": 77,
      "outputs": [
        {
          "output_type": "execute_result",
          "data": {
            "text/plain": [
              "['M', 'r', 'u', 'g', 'e', 's', 'h']"
            ]
          },
          "metadata": {},
          "execution_count": 77
        }
      ]
    },
    {
      "cell_type": "markdown",
      "source": [
        "# Conditional List Comprehension\n"
      ],
      "metadata": {
        "id": "_HH5XL5P2-R1"
      }
    },
    {
      "cell_type": "code",
      "source": [
        "# new_list = [ new_item for item in list if condition]\n",
        "\n",
        "my_list = [-1,10,20,2,-90,-100,45,88,32,-32]\n",
        "\n",
        "print(my_list)\n",
        "print(\" \")\n",
        "\n",
        "new_list = [ i for i in my_list if i>0]\n",
        "print(new_list)\n",
        "\n",
        "print(\" \")\n",
        "new_list_negative= [i*i for i in my_list if i<0]\n",
        "print(new_list_negative)\n"
      ],
      "metadata": {
        "id": "Wp-hwKk7YHcY",
        "colab": {
          "base_uri": "https://localhost:8080/"
        },
        "outputId": "f863ee29-1c0e-4fce-bdd9-bf33123ec777"
      },
      "execution_count": 79,
      "outputs": [
        {
          "output_type": "stream",
          "name": "stdout",
          "text": [
            "[-1, 10, 20, 2, -90, -100, 45, 88, 32, -32]\n",
            " \n",
            "[10, 20, 2, 45, 88, 32]\n",
            " \n",
            "[1, 8100, 10000, 1024]\n"
          ]
        }
      ]
    },
    {
      "cell_type": "code",
      "source": [
        "sentence = 'My father name is Mrugesh Joshi'\n",
        "\n",
        "def is_constant(letter):\n",
        "    vowels = 'aeiou'\n",
        "    return letter.isalpha() and letter.lower() not in vowels\n",
        "\n",
        "print(is_constant('a')) # a is vowels so printed False\n",
        "\n",
        "print(is_constant(\"M\")) # M is constant so printed True\n",
        "\n",
        "print(\" \")\n",
        "constants = [ i for i in sentence  if is_constant(i)]\n",
        "\n",
        "print(constants)\n"
      ],
      "metadata": {
        "id": "mzlrz4gyYHZR",
        "colab": {
          "base_uri": "https://localhost:8080/"
        },
        "outputId": "ae8f4465-3c22-43e4-cbec-b7abe716cf3b"
      },
      "execution_count": 84,
      "outputs": [
        {
          "output_type": "stream",
          "name": "stdout",
          "text": [
            "False\n",
            "True\n",
            " \n",
            "['M', 'y', 'f', 't', 'h', 'r', 'n', 'm', 's', 'M', 'r', 'g', 's', 'h', 'J', 's', 'h']\n"
          ]
        }
      ]
    },
    {
      "cell_type": "code",
      "source": [
        "\n",
        "my_list = [-1,10,20,2,-90,-100,45,88,32,-32]\n",
        "print(my_list)\n",
        "\n",
        "print(\" \")\n",
        "\n",
        "new_list = [i if i>0 else 0 for i in my_list ]\n",
        "\n",
        "print(new_list)\n",
        "\n",
        "\n",
        "print(\" \")\n",
        "\n",
        "new_list = [i if i>0 else '- value' for i in my_list ]\n",
        "\n",
        "print(new_list)\n",
        "\n",
        "\n",
        "\n"
      ],
      "metadata": {
        "id": "htfL_iL0YHT-",
        "colab": {
          "base_uri": "https://localhost:8080/"
        },
        "outputId": "7eda8f55-eeab-4033-f91e-db4bc71dbbe0"
      },
      "execution_count": 92,
      "outputs": [
        {
          "output_type": "stream",
          "name": "stdout",
          "text": [
            "[-1, 10, 20, 2, -90, -100, 45, 88, 32, -32]\n",
            " \n",
            "[0, 10, 20, 2, 0, 0, 45, 88, 32, 0]\n",
            " \n",
            "['- value', 10, 20, 2, '- value', '- value', 45, 88, 32, '- value']\n"
          ]
        }
      ]
    },
    {
      "cell_type": "code",
      "source": [
        "\n",
        "my_list = [-1,10,20,2,-90,-100,45,88,32,-32]\n",
        "\n",
        "def number(number):\n",
        "    return number if number>0 else \"Negative value\"\n",
        "\n",
        "print(my_list)\n",
        "print(\" \")\n",
        "\n",
        "new_list = [number(i) for i in my_list]\n",
        "print(new_list)\n"
      ],
      "metadata": {
        "id": "7N4uOv--YHRd",
        "colab": {
          "base_uri": "https://localhost:8080/"
        },
        "outputId": "88e17904-b026-41a8-fc6d-e74fe98fdbfe"
      },
      "execution_count": 96,
      "outputs": [
        {
          "output_type": "stream",
          "name": "stdout",
          "text": [
            "[-1, 10, 20, 2, -90, -100, 45, 88, 32, -32]\n",
            " \n",
            "['Negative value', 10, 20, 2, 'Negative value', 'Negative value', 45, 88, 32, 'Negative value']\n"
          ]
        }
      ]
    }
  ]
}