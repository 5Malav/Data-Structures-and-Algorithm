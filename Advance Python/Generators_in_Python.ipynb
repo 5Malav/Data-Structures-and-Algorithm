{
  "nbformat": 4,
  "nbformat_minor": 0,
  "metadata": {
    "colab": {
      "provenance": []
    },
    "kernelspec": {
      "name": "python3",
      "display_name": "Python 3"
    },
    "language_info": {
      "name": "python"
    }
  },
  "cells": [
    {
      "cell_type": "markdown",
      "source": [
        "# Generators\n",
        "\n",
        "->Generators are a special type of iterator that allow you to iterate over data without storing the entire sequence in memory at once.\n",
        "\n",
        "->Generators are a more memory-efficient alternative to creating lists or other collections, especially when working with large datasets or infinite sequences.\n",
        "\n",
        "-> Generators are a simpler way to create interators. They use the **yield** keyword to produce a series of lazily, which means they generate values on the fly and do not store them in memory.\n",
        "\n",
        "\n",
        "**Key Features of Generators:**\n",
        "\n",
        "Lazy Evaluation: Generators produce values one at a time as you iterate over them, rather than generating all values upfront. This makes them more memory efficient for large sequences.\n",
        "\n",
        "\n",
        "State Retention: A generator function retains its state between iterations, allowing it to \"pause\" and \"resume\" execution when yield is used."
      ],
      "metadata": {
        "id": "7kus_4Q8IumR"
      }
    },
    {
      "cell_type": "code",
      "source": [
        "def square(n):\n",
        "    for i in range(3):\n",
        "        return i**2\n",
        ""
      ],
      "metadata": {
        "id": "9amX5HmGIljL"
      },
      "execution_count": 1,
      "outputs": []
    },
    {
      "cell_type": "code",
      "source": [
        "square(3)\n",
        "\n",
        "# it gives 0 because it iterates through all elements and 1st element is 0.\n"
      ],
      "metadata": {
        "id": "USXcixhFIlgI",
        "colab": {
          "base_uri": "https://localhost:8080/"
        },
        "outputId": "31bb129f-b7b8-446f-9330-1588d97c37d4"
      },
      "execution_count": 2,
      "outputs": [
        {
          "output_type": "execute_result",
          "data": {
            "text/plain": [
              "0"
            ]
          },
          "metadata": {},
          "execution_count": 2
        }
      ]
    },
    {
      "cell_type": "code",
      "source": [
        "def square(n):\n",
        "    for i in range(3):\n",
        "        yield i**2"
      ],
      "metadata": {
        "id": "Hvc-LT80Ildy"
      },
      "execution_count": 4,
      "outputs": []
    },
    {
      "cell_type": "code",
      "source": [
        "square(3)\n",
        "\n",
        "# it is converted into generator object."
      ],
      "metadata": {
        "id": "GrFqQ3Z0IlbT",
        "colab": {
          "base_uri": "https://localhost:8080/"
        },
        "outputId": "8ecc8e2c-260c-424a-c126-5222a1a50c49"
      },
      "execution_count": 5,
      "outputs": [
        {
          "output_type": "execute_result",
          "data": {
            "text/plain": [
              "<generator object square at 0x7f7e39e2f680>"
            ]
          },
          "metadata": {},
          "execution_count": 5
        }
      ]
    },
    {
      "cell_type": "code",
      "source": [
        "for i in square(3):\n",
        "    print(i)"
      ],
      "metadata": {
        "id": "2KxgcjN1Ik5C",
        "colab": {
          "base_uri": "https://localhost:8080/"
        },
        "outputId": "53a7f06e-cdb7-494a-eff3-1412eb3d4bed"
      },
      "execution_count": 6,
      "outputs": [
        {
          "output_type": "stream",
          "name": "stdout",
          "text": [
            "0\n",
            "1\n",
            "4\n"
          ]
        }
      ]
    },
    {
      "cell_type": "code",
      "source": [
        "# with next method\n",
        "\n",
        "a = square(3)\n",
        "a"
      ],
      "metadata": {
        "id": "NHmQ1SH6Ik2c",
        "colab": {
          "base_uri": "https://localhost:8080/"
        },
        "outputId": "9113eed7-e2d1-4ca4-cdaf-395d47d793d6"
      },
      "execution_count": 7,
      "outputs": [
        {
          "output_type": "execute_result",
          "data": {
            "text/plain": [
              "<generator object square at 0x7f7e3847ece0>"
            ]
          },
          "metadata": {},
          "execution_count": 7
        }
      ]
    },
    {
      "cell_type": "code",
      "source": [
        "next(a)"
      ],
      "metadata": {
        "id": "Rk9T4vCLIk0B",
        "colab": {
          "base_uri": "https://localhost:8080/"
        },
        "outputId": "0cc50242-c4f4-48ee-b26f-d4e019cdc2dd"
      },
      "execution_count": 8,
      "outputs": [
        {
          "output_type": "execute_result",
          "data": {
            "text/plain": [
              "0"
            ]
          },
          "metadata": {},
          "execution_count": 8
        }
      ]
    },
    {
      "cell_type": "code",
      "source": [
        "next(a)"
      ],
      "metadata": {
        "id": "aFM8S6uUIkw8",
        "colab": {
          "base_uri": "https://localhost:8080/"
        },
        "outputId": "32598c51-a9e1-4ff1-9797-26c745faf658"
      },
      "execution_count": 9,
      "outputs": [
        {
          "output_type": "execute_result",
          "data": {
            "text/plain": [
              "1"
            ]
          },
          "metadata": {},
          "execution_count": 9
        }
      ]
    },
    {
      "cell_type": "code",
      "source": [
        "next(a)"
      ],
      "metadata": {
        "id": "mUG048p5Ikum",
        "colab": {
          "base_uri": "https://localhost:8080/"
        },
        "outputId": "ae30c5b3-3432-477d-8247-fb7781f21462"
      },
      "execution_count": 10,
      "outputs": [
        {
          "output_type": "execute_result",
          "data": {
            "text/plain": [
              "4"
            ]
          },
          "metadata": {},
          "execution_count": 10
        }
      ]
    },
    {
      "cell_type": "code",
      "source": [
        "#next(a) StopIteration:\n"
      ],
      "metadata": {
        "id": "K1VkUTxvIkr_"
      },
      "execution_count": 13,
      "outputs": []
    },
    {
      "cell_type": "code",
      "source": [
        "def my_generator():\n",
        "    yield 1\n",
        "    yield 2\n",
        "    yield 3\n",
        ""
      ],
      "metadata": {
        "id": "Q-oBnmdMX8xt"
      },
      "execution_count": 15,
      "outputs": []
    },
    {
      "cell_type": "code",
      "source": [
        "gen = my_generator()\n",
        "gen"
      ],
      "metadata": {
        "colab": {
          "base_uri": "https://localhost:8080/"
        },
        "id": "Aj1Ic6hxX8vE",
        "outputId": "59bd3100-a702-4bf5-ba7f-088c9b07a8af"
      },
      "execution_count": 22,
      "outputs": [
        {
          "output_type": "execute_result",
          "data": {
            "text/plain": [
              "<generator object my_generator at 0x7f7e384f75a0>"
            ]
          },
          "metadata": {},
          "execution_count": 22
        }
      ]
    },
    {
      "cell_type": "code",
      "source": [
        "next(gen)"
      ],
      "metadata": {
        "colab": {
          "base_uri": "https://localhost:8080/"
        },
        "id": "jPwTx_7rX8sN",
        "outputId": "b552768e-3df7-4434-ce0a-4d6c274176c1"
      },
      "execution_count": 17,
      "outputs": [
        {
          "output_type": "execute_result",
          "data": {
            "text/plain": [
              "1"
            ]
          },
          "metadata": {},
          "execution_count": 17
        }
      ]
    },
    {
      "cell_type": "code",
      "source": [
        "next(gen)"
      ],
      "metadata": {
        "colab": {
          "base_uri": "https://localhost:8080/"
        },
        "id": "Y9OWWbffX8pM",
        "outputId": "eacd219c-7d02-4985-e222-b65bbee53d4c"
      },
      "execution_count": 18,
      "outputs": [
        {
          "output_type": "execute_result",
          "data": {
            "text/plain": [
              "2"
            ]
          },
          "metadata": {},
          "execution_count": 18
        }
      ]
    },
    {
      "cell_type": "code",
      "source": [
        "next(gen)"
      ],
      "metadata": {
        "colab": {
          "base_uri": "https://localhost:8080/"
        },
        "id": "gXl12zcdX8mr",
        "outputId": "f0a41dda-8890-4a7d-a69f-2096bece4525"
      },
      "execution_count": 19,
      "outputs": [
        {
          "output_type": "execute_result",
          "data": {
            "text/plain": [
              "3"
            ]
          },
          "metadata": {},
          "execution_count": 19
        }
      ]
    },
    {
      "cell_type": "code",
      "source": [
        "gen = my_generator()\n",
        "gen"
      ],
      "metadata": {
        "colab": {
          "base_uri": "https://localhost:8080/"
        },
        "id": "mi0_Z_oyZfKV",
        "outputId": "ace4b0ca-2e2c-4983-8504-0c17a9708550"
      },
      "execution_count": 24,
      "outputs": [
        {
          "output_type": "execute_result",
          "data": {
            "text/plain": [
              "<generator object my_generator at 0x7f7e384f7610>"
            ]
          },
          "metadata": {},
          "execution_count": 24
        }
      ]
    },
    {
      "cell_type": "code",
      "source": [
        "for val in gen:\n",
        "    print(val)"
      ],
      "metadata": {
        "colab": {
          "base_uri": "https://localhost:8080/"
        },
        "id": "qy4IgOHvX8i3",
        "outputId": "24539ed5-91f1-4e9e-9d4e-595ce602af55"
      },
      "execution_count": 25,
      "outputs": [
        {
          "output_type": "stream",
          "name": "stdout",
          "text": [
            "1\n",
            "2\n",
            "3\n"
          ]
        }
      ]
    },
    {
      "cell_type": "code",
      "source": [
        "# Leading Large files\n",
        "\n",
        "# Generators are particulary useful for reading large files because they allow you\n",
        "# to process one line a time without loading the entire file into memory.\n",
        "\n",
        "\n",
        "\n"
      ],
      "metadata": {
        "id": "v-06fGM3adpj"
      },
      "execution_count": null,
      "outputs": []
    }
  ]
}