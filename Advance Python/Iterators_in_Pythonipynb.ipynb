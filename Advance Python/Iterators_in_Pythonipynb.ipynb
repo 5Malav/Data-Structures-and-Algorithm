{
  "nbformat": 4,
  "nbformat_minor": 0,
  "metadata": {
    "colab": {
      "provenance": []
    },
    "kernelspec": {
      "name": "python3",
      "display_name": "Python 3"
    },
    "language_info": {
      "name": "python"
    }
  },
  "cells": [
    {
      "cell_type": "markdown",
      "source": [
        "# Iterators\n",
        "\n",
        "-> iterators are objects that allow you to traverse through all the elements of a collection (like a list, tuple, or dictionary) one by one, without needing to know the underlying structure of the collection.\n",
        "\n",
        "-> Iterators allows efficient looping and memory management. Iterators provide a way to access elements of a collection sequentially without exposing the underlying structure.\n",
        "\n",
        "**Key Concepts of Iterators**\n",
        "\n",
        "1.) Iterable: An object is considered iterable if you can get an iterator from it. This means the object implements the __iter__() method that returns an iterator.\n",
        "\n",
        "2.) Iterator: An object is an iterator if it implements the __next__() method, which returns the next item in the sequence. It also has the __iter__() method, which returns the iterator object itself.\n",
        "\n",
        "**How Iterators Work**\n",
        "\n",
        "An iterator produces a sequence of values, one at a time, when you call next() on it.\n",
        "\n",
        "When there are no more items left to iterate, the iterator raises a StopIteration exception to signal the end of the iteration."
      ],
      "metadata": {
        "id": "FzFUT15l2bOU"
      }
    },
    {
      "cell_type": "code",
      "source": [
        "ls = [1,2,3,4,5,6]\n",
        "\n",
        "for i in ls:\n",
        "    print(i)\n",
        "\n"
      ],
      "metadata": {
        "id": "GMzigps6fNK5",
        "colab": {
          "base_uri": "https://localhost:8080/"
        },
        "outputId": "c24a396e-01c3-4a3f-ef98-fa8ed5ffab98"
      },
      "execution_count": 33,
      "outputs": [
        {
          "output_type": "stream",
          "name": "stdout",
          "text": [
            "1\n",
            "2\n",
            "3\n",
            "4\n",
            "5\n",
            "6\n"
          ]
        }
      ]
    },
    {
      "cell_type": "code",
      "source": [
        "type(ls)"
      ],
      "metadata": {
        "id": "LSG2jkfffNIp",
        "colab": {
          "base_uri": "https://localhost:8080/"
        },
        "outputId": "e6d4e003-3520-4df3-9364-ad09c71e9d39"
      },
      "execution_count": 34,
      "outputs": [
        {
          "output_type": "execute_result",
          "data": {
            "text/plain": [
              "list"
            ]
          },
          "metadata": {},
          "execution_count": 34
        }
      ]
    },
    {
      "cell_type": "code",
      "source": [
        "print(ls)"
      ],
      "metadata": {
        "id": "OnuGDm6ofNGN",
        "colab": {
          "base_uri": "https://localhost:8080/"
        },
        "outputId": "d02ca24b-51f1-48f9-b29b-733dd063608c"
      },
      "execution_count": 35,
      "outputs": [
        {
          "output_type": "stream",
          "name": "stdout",
          "text": [
            "[1, 2, 3, 4, 5, 6]\n"
          ]
        }
      ]
    },
    {
      "cell_type": "code",
      "source": [
        "# iterator\n",
        "\n",
        "iterator= iter(ls)\n",
        "print(iterator)\n",
        "\n",
        "\n"
      ],
      "metadata": {
        "id": "6Eza1-ZFfNDn",
        "colab": {
          "base_uri": "https://localhost:8080/"
        },
        "outputId": "ae8c1ce2-9ad4-4f62-d987-4aa8c24b505b"
      },
      "execution_count": 36,
      "outputs": [
        {
          "output_type": "stream",
          "name": "stdout",
          "text": [
            "<list_iterator object at 0x7d3c8e2c7610>\n"
          ]
        }
      ]
    },
    {
      "cell_type": "code",
      "source": [
        "# it will not give us any element unless and until\n",
        "# we iterate through that particular element\n",
        "\n",
        "# In order to iterator thorugh all the elements\n",
        "# we will use next() method\n",
        "\n",
        "next(iterator)"
      ],
      "metadata": {
        "id": "_BhYEmH-fNBN",
        "colab": {
          "base_uri": "https://localhost:8080/"
        },
        "outputId": "d1db80b3-16c4-48c5-f094-5c7246ededbf"
      },
      "execution_count": 37,
      "outputs": [
        {
          "output_type": "execute_result",
          "data": {
            "text/plain": [
              "1"
            ]
          },
          "metadata": {},
          "execution_count": 37
        }
      ]
    },
    {
      "cell_type": "code",
      "source": [
        "next(iterator)"
      ],
      "metadata": {
        "id": "7ILEbwrvfM-u",
        "colab": {
          "base_uri": "https://localhost:8080/"
        },
        "outputId": "43b1a361-ba12-4fc5-ed98-d6ba4daf42fb"
      },
      "execution_count": 38,
      "outputs": [
        {
          "output_type": "execute_result",
          "data": {
            "text/plain": [
              "2"
            ]
          },
          "metadata": {},
          "execution_count": 38
        }
      ]
    },
    {
      "cell_type": "code",
      "source": [
        "next(iterator)"
      ],
      "metadata": {
        "id": "N76OsQP4fM8Y",
        "colab": {
          "base_uri": "https://localhost:8080/"
        },
        "outputId": "6edc7d5a-ebf3-4b4c-9e5c-07262da0dc62"
      },
      "execution_count": 39,
      "outputs": [
        {
          "output_type": "execute_result",
          "data": {
            "text/plain": [
              "3"
            ]
          },
          "metadata": {},
          "execution_count": 39
        }
      ]
    },
    {
      "cell_type": "code",
      "source": [
        "next(iterator)"
      ],
      "metadata": {
        "id": "TFko0unpfM6F",
        "colab": {
          "base_uri": "https://localhost:8080/"
        },
        "outputId": "5aabc0f3-8427-4ffa-c1f7-a7f022127008"
      },
      "execution_count": 40,
      "outputs": [
        {
          "output_type": "execute_result",
          "data": {
            "text/plain": [
              "4"
            ]
          },
          "metadata": {},
          "execution_count": 40
        }
      ]
    },
    {
      "cell_type": "code",
      "source": [
        "next(iterator)"
      ],
      "metadata": {
        "id": "ZwMiYHbcfM3u",
        "colab": {
          "base_uri": "https://localhost:8080/"
        },
        "outputId": "2b79dcea-f3ab-49af-c8c9-2e63a7f03bda"
      },
      "execution_count": 41,
      "outputs": [
        {
          "output_type": "execute_result",
          "data": {
            "text/plain": [
              "5"
            ]
          },
          "metadata": {},
          "execution_count": 41
        }
      ]
    },
    {
      "cell_type": "code",
      "execution_count": 42,
      "metadata": {
        "id": "BmV5LIYWfCrf",
        "colab": {
          "base_uri": "https://localhost:8080/"
        },
        "outputId": "ae9ba2da-64e2-4c86-ed39-87a0fac77856"
      },
      "outputs": [
        {
          "output_type": "execute_result",
          "data": {
            "text/plain": [
              "6"
            ]
          },
          "metadata": {},
          "execution_count": 42
        }
      ],
      "source": [
        "next(iterator)"
      ]
    },
    {
      "cell_type": "code",
      "source": [
        "#next(iterator)\n",
        "#StopIteration:\n",
        "# no elements left.\n"
      ],
      "metadata": {
        "id": "rDa3qoXafDD2"
      },
      "execution_count": 43,
      "outputs": []
    },
    {
      "cell_type": "code",
      "source": [
        "iterator = iter(ls)"
      ],
      "metadata": {
        "id": "lai102TgG10b"
      },
      "execution_count": 52,
      "outputs": []
    },
    {
      "cell_type": "code",
      "source": [
        "try:\n",
        "    print(next(iterator))\n",
        "except:\n",
        "    print(\"There are no elements left in the iterator.\")"
      ],
      "metadata": {
        "id": "tbyM3AlqfDGi",
        "colab": {
          "base_uri": "https://localhost:8080/"
        },
        "outputId": "ace69c37-9bcd-4a4c-e7bf-b5dbd2d039b7"
      },
      "execution_count": 59,
      "outputs": [
        {
          "output_type": "stream",
          "name": "stdout",
          "text": [
            "There are no elements left in the iterator.\n"
          ]
        }
      ]
    },
    {
      "cell_type": "code",
      "source": [
        "# string iterator\n",
        "\n",
        "my_string=\"Malav\"\n",
        "iterator=iter(my_string)\n"
      ],
      "metadata": {
        "id": "uOfSUzhufDJI"
      },
      "execution_count": 63,
      "outputs": []
    },
    {
      "cell_type": "code",
      "source": [
        "try:\n",
        "    print(next(iterator))\n",
        "except:\n",
        "    print(\"There are no elements left in the iterator.\")"
      ],
      "metadata": {
        "id": "-xtpKVYtfDLy",
        "colab": {
          "base_uri": "https://localhost:8080/"
        },
        "outputId": "5489b0a1-7341-4c83-dd80-73358f83b8b6"
      },
      "execution_count": 69,
      "outputs": [
        {
          "output_type": "stream",
          "name": "stdout",
          "text": [
            "There are no elements left in the iterator.\n"
          ]
        }
      ]
    }
  ]
}