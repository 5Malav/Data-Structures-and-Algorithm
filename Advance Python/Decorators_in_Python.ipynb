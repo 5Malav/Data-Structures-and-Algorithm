{
  "nbformat": 4,
  "nbformat_minor": 0,
  "metadata": {
    "colab": {
      "provenance": []
    },
    "kernelspec": {
      "name": "python3",
      "display_name": "Python 3"
    },
    "language_info": {
      "name": "python"
    }
  },
  "cells": [
    {
      "cell_type": "markdown",
      "source": [
        "# Decorators\n",
        "\n",
        "A decorator in Python is a design pattern that allows you to modify or enhance the behavior of a function or method without changing its actual code. In simple terms, a decorator is a function that \"wraps\" another function to extend or alter its behavior.\n",
        "\n",
        "**Decorators are commonly used for:**\n",
        "\n",
        "Logging\n",
        "\n",
        "Authorization/authentication\n",
        "\n",
        "Caching/memoization\n",
        "\n",
        "Timing functions (e.g., measuring execution time)\n",
        "\n",
        "Validating inputs, etc.\n",
        "\n",
        "**How Decorators Work**\n",
        "\n",
        "A decorator is essentially a higher-order function: it takes a function as an argument, modifies it (typically by adding new behavior), and returns a new function.\n"
      ],
      "metadata": {
        "id": "eihG63d6mTVH"
      }
    },
    {
      "cell_type": "code",
      "source": [
        "# Function Copy\n",
        "\n",
        "def welcome():\n",
        "    return \"Welcome to the Maya Villa.\""
      ],
      "metadata": {
        "id": "HiE-lzlD6N29"
      },
      "execution_count": 1,
      "outputs": []
    },
    {
      "cell_type": "code",
      "source": [
        "wel= welcome\n",
        "print(wel())"
      ],
      "metadata": {
        "colab": {
          "base_uri": "https://localhost:8080/"
        },
        "id": "Pw-mN0fi6Nz-",
        "outputId": "a94b0740-c508-41ef-f736-00d9a5e96f47"
      },
      "execution_count": 2,
      "outputs": [
        {
          "output_type": "stream",
          "name": "stdout",
          "text": [
            "Welcome to the Maya Villa.\n"
          ]
        }
      ]
    },
    {
      "cell_type": "code",
      "source": [
        "del welcome"
      ],
      "metadata": {
        "id": "kmC1Uz-M6M2V"
      },
      "execution_count": 3,
      "outputs": []
    },
    {
      "cell_type": "code",
      "source": [
        "wel()\n",
        "\n",
        "# so even though welcome is removed we can still print string"
      ],
      "metadata": {
        "colab": {
          "base_uri": "https://localhost:8080/",
          "height": 35
        },
        "id": "NTgH_Qmj6Mzn",
        "outputId": "cebad031-6d6d-4fc0-ea95-121f4afd2c88"
      },
      "execution_count": 4,
      "outputs": [
        {
          "output_type": "execute_result",
          "data": {
            "text/plain": [
              "'Welcome to the Maya Villa.'"
            ],
            "application/vnd.google.colaboratory.intrinsic+json": {
              "type": "string"
            }
          },
          "metadata": {},
          "execution_count": 4
        }
      ]
    },
    {
      "cell_type": "markdown",
      "source": [
        "#Closures in Python\n",
        "\n",
        "A closure in Python refers to a function that \"remembers\" the environment in which it was created, even after the outer function has finished executing.\n",
        "\n",
        "Specifically, closures allow a function to capture and retain access to variables from its enclosing (outer) function, even when the outer function has returned.\n",
        "\n",
        "Closures are a powerful feature in Python that can be used to create functions with persistent state, or to implement concepts like decorators.\n",
        "\n",
        "**How Closures Work**\n",
        "\n",
        "You define a function inside another function (the \"enclosing\" function).\n",
        "\n",
        "\n",
        "The inner function (the \"nested\" function) references variables from the outer function.\n",
        "\n",
        "\n",
        "The inner function is returned by the outer function.\n",
        "\n",
        "\n",
        "Even after the outer function has finished execution, the inner function still retains access to the outer function's variables.\n"
      ],
      "metadata": {
        "id": "Z82bFdm3AFfB"
      }
    },
    {
      "cell_type": "code",
      "source": [
        "# Closures\n",
        "\n",
        "def main_welcome():\n",
        "    msg=\"Welcom to the Maya Villa.\"\n",
        "\n",
        "    def sub_welcome():\n",
        "        print(\"Welcom to the Mrugesh Villa.\")\n",
        "\n",
        "        print(\"Hard work pays off.\")\n",
        "\n",
        "    return sub_welcome()"
      ],
      "metadata": {
        "id": "3_6PSB4h6Mw8"
      },
      "execution_count": 5,
      "outputs": []
    },
    {
      "cell_type": "code",
      "source": [
        "main_welcome()"
      ],
      "metadata": {
        "colab": {
          "base_uri": "https://localhost:8080/"
        },
        "id": "FXC3lhPo6Mua",
        "outputId": "275fa367-2959-4edc-8a4e-68751d5dfae4"
      },
      "execution_count": 6,
      "outputs": [
        {
          "output_type": "stream",
          "name": "stdout",
          "text": [
            "Welcom to the Mrugesh Villa.\n",
            "Hard work pays off.\n"
          ]
        }
      ]
    },
    {
      "cell_type": "code",
      "source": [
        "def main_welcome():\n",
        "    msg=\"Welcom to the Maya Villa.\"\n",
        "\n",
        "    def sub_welcome():\n",
        "        print(\"Welcom to the Mrugesh Villa.\")\n",
        "        print(msg)\n",
        "        print(\"Hard work pays off.\")\n",
        "\n",
        "    return sub_welcome()"
      ],
      "metadata": {
        "id": "qoAbrhTz6Mr1"
      },
      "execution_count": 7,
      "outputs": []
    },
    {
      "cell_type": "code",
      "source": [
        "main_welcome()"
      ],
      "metadata": {
        "colab": {
          "base_uri": "https://localhost:8080/"
        },
        "id": "TMikApJT6MpN",
        "outputId": "22432d7c-cda8-48ab-cd40-e61a26b1d0f6"
      },
      "execution_count": 8,
      "outputs": [
        {
          "output_type": "stream",
          "name": "stdout",
          "text": [
            "Welcom to the Mrugesh Villa.\n",
            "Welcom to the Maya Villa.\n",
            "Hard work pays off.\n"
          ]
        }
      ]
    },
    {
      "cell_type": "code",
      "source": [
        "# func as print method\n",
        "\n",
        "def main_welcome(func):\n",
        "\n",
        "    def sub_welcome():\n",
        "        print(\"Welcom to the Mrugesh Villa.\")\n",
        "        func(\"Welcom Home.\")\n",
        "        print(\"Hard work pays off.\")\n",
        "\n",
        "    return sub_welcome()"
      ],
      "metadata": {
        "id": "ckYHh_7w6Mmh"
      },
      "execution_count": 9,
      "outputs": []
    },
    {
      "cell_type": "code",
      "source": [
        "main_welcome(print)"
      ],
      "metadata": {
        "colab": {
          "base_uri": "https://localhost:8080/"
        },
        "id": "QLXEIiuu6Mj2",
        "outputId": "7bf050ec-d769-4341-fe7b-c229dda895ea"
      },
      "execution_count": 10,
      "outputs": [
        {
          "output_type": "stream",
          "name": "stdout",
          "text": [
            "Welcom to the Mrugesh Villa.\n",
            "Welcom Home.\n",
            "Hard work pays off.\n"
          ]
        }
      ]
    },
    {
      "cell_type": "code",
      "source": [
        "# length of list\n",
        "\n",
        "def main_welcome(func,lst):\n",
        "\n",
        "    def sub_welcome():\n",
        "        print(\"Welcome to the Maya Villa.\")\n",
        "        print(func(lst))\n",
        "        print(\"Welcome to the Mrugesh Villa.\")\n",
        "\n",
        "    return sub_welcome()\n",
        "\n",
        "main_welcome(len,[1,2,3,4,5])\n",
        "\n"
      ],
      "metadata": {
        "colab": {
          "base_uri": "https://localhost:8080/"
        },
        "id": "1MSzuffi6Mhe",
        "outputId": "a3ea570c-1fe4-4dfd-bb52-21dd600b7f61"
      },
      "execution_count": 11,
      "outputs": [
        {
          "output_type": "stream",
          "name": "stdout",
          "text": [
            "Welcome to the Maya Villa.\n",
            "5\n",
            "Welcome to the Mrugesh Villa.\n"
          ]
        }
      ]
    },
    {
      "cell_type": "code",
      "source": [
        "# Decorator\n",
        "\n",
        "\n",
        "def main_welcome(func):\n",
        "\n",
        "    def sub_welcome():\n",
        "        print(\"Welcome to the Maya Villa.\")\n",
        "        func()\n",
        "        print(\"Welcome to the Mrugesh Villa.\")\n",
        "\n",
        "    return sub_welcome()\n"
      ],
      "metadata": {
        "id": "_A9A5RE8KnLZ"
      },
      "execution_count": 12,
      "outputs": []
    },
    {
      "cell_type": "code",
      "source": [
        "def new_method():\n",
        "    print(\"Welcome to TD Insurance.\")\n",
        "\n",
        "new_method()"
      ],
      "metadata": {
        "colab": {
          "base_uri": "https://localhost:8080/"
        },
        "id": "29gKjbthKnIb",
        "outputId": "304bc8d0-c8e6-444a-fe0a-4054aa238691"
      },
      "execution_count": 13,
      "outputs": [
        {
          "output_type": "stream",
          "name": "stdout",
          "text": [
            "Welcome to TD Insurance.\n"
          ]
        }
      ]
    },
    {
      "cell_type": "code",
      "source": [
        "main_welcome(new_method)"
      ],
      "metadata": {
        "colab": {
          "base_uri": "https://localhost:8080/"
        },
        "id": "F9sPXyYZKnFi",
        "outputId": "dfaaa99e-2396-4936-ea20-b05c9e970e0f"
      },
      "execution_count": 14,
      "outputs": [
        {
          "output_type": "stream",
          "name": "stdout",
          "text": [
            "Welcome to the Maya Villa.\n",
            "Welcome to TD Insurance.\n",
            "Welcome to the Mrugesh Villa.\n"
          ]
        }
      ]
    },
    {
      "cell_type": "code",
      "source": [
        "# lets try to print all messages without using main_welcome"
      ],
      "metadata": {
        "id": "BN-dBI5IKnCp"
      },
      "execution_count": 15,
      "outputs": []
    },
    {
      "cell_type": "code",
      "source": [
        "# create a decorator\n",
        "\n",
        "@main_welcome\n",
        "def new_method():\n",
        "\n",
        "    print(\"Welcome to TD Insurance.\")\n",
        "\n"
      ],
      "metadata": {
        "colab": {
          "base_uri": "https://localhost:8080/"
        },
        "id": "_sNvYYseKnAO",
        "outputId": "fd81de86-d3a0-4a32-ec9f-1b78415f4812"
      },
      "execution_count": 16,
      "outputs": [
        {
          "output_type": "stream",
          "name": "stdout",
          "text": [
            "Welcome to the Maya Villa.\n",
            "Welcome to TD Insurance.\n",
            "Welcome to the Mrugesh Villa.\n"
          ]
        }
      ]
    }
  ]
}