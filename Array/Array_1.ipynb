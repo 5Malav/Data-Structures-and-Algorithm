{
  "nbformat": 4,
  "nbformat_minor": 0,
  "metadata": {
    "colab": {
      "provenance": []
    },
    "kernelspec": {
      "name": "python3",
      "display_name": "Python 3"
    },
    "language_info": {
      "name": "python"
    }
  },
  "cells": [
    {
      "cell_type": "markdown",
      "source": [
        "**Array Data Structure**"
      ],
      "metadata": {
        "id": "ySLu3cHrGFxT"
      }
    },
    {
      "cell_type": "markdown",
      "source": [
        "**Create an Array**"
      ],
      "metadata": {
        "id": "ihDzHpnLIGUt"
      }
    },
    {
      "cell_type": "code",
      "execution_count": 64,
      "metadata": {
        "id": "DijS7jRkGB4r"
      },
      "outputs": [],
      "source": [
        "import numpy as np\n",
        "import array\n",
        "\n",
        "#create an array using array module and numpy module\n",
        "#start with array module"
      ]
    },
    {
      "cell_type": "code",
      "source": [
        "ar=array.array('i')\n",
        "print(ar)\n"
      ],
      "metadata": {
        "colab": {
          "base_uri": "https://localhost:8080/"
        },
        "id": "cgQWes57GEFv",
        "outputId": "f77bd32b-4eeb-4ffa-fe92-e8f7c8dced63"
      },
      "execution_count": 65,
      "outputs": [
        {
          "output_type": "stream",
          "name": "stdout",
          "text": [
            "array('i')\n"
          ]
        }
      ]
    },
    {
      "cell_type": "code",
      "source": [
        "ar1=array.array(\"i\",[1,2,3,4,5])\n",
        "print(ar1)"
      ],
      "metadata": {
        "colab": {
          "base_uri": "https://localhost:8080/"
        },
        "id": "05oAAIrjGEHk",
        "outputId": "8774f395-90af-48bc-eb09-56f5c6354bbd"
      },
      "execution_count": 66,
      "outputs": [
        {
          "output_type": "stream",
          "name": "stdout",
          "text": [
            "array('i', [1, 2, 3, 4, 5])\n"
          ]
        }
      ]
    },
    {
      "cell_type": "code",
      "source": [
        "\"\"\"\n",
        "array module is more memory efficient than the list for storing\n",
        "the large types of the same data type.\n",
        "\n",
        "The only limitation is that it only support the basic\n",
        "data types. So you cannot create an array by using the array\n",
        "model with the custome data types or mixed data types.\n",
        "\n",
        "so the arrays that are created by using the array model is going\n",
        "to be homogeneous , which means that we will have only same\n",
        "data type over here\n",
        "\n",
        "\"\"\""
      ],
      "metadata": {
        "colab": {
          "base_uri": "https://localhost:8080/",
          "height": 123
        },
        "id": "6isdlFtvGEKg",
        "outputId": "f3b09376-82ea-4a5c-e6ea-a7fe59cd61a9"
      },
      "execution_count": 67,
      "outputs": [
        {
          "output_type": "execute_result",
          "data": {
            "text/plain": [
              "'\\narray module is more memory efficient than the list for storing\\nthe large types of the same data type.\\n\\nThe only limitation is that it only support the basic\\ndata types. So you cannot create an array by using the array\\nmodel with the custome data types or mixed data types.\\n\\nso the arrays that are created by using the array model is going\\nto be homogeneous , which means that we will have only same\\ndata type over here\\n\\n'"
            ],
            "application/vnd.google.colaboratory.intrinsic+json": {
              "type": "string"
            }
          },
          "metadata": {},
          "execution_count": 67
        }
      ]
    },
    {
      "cell_type": "code",
      "source": [
        "#ar2=array.array(\"i\",[1,2,3,4,5,\"m\"])\n",
        "#print(ar2)"
      ],
      "metadata": {
        "id": "OkW07kvIGEMd"
      },
      "execution_count": 68,
      "outputs": []
    },
    {
      "cell_type": "code",
      "source": [
        "#Let us use Numpy module"
      ],
      "metadata": {
        "id": "_4mEv5laGEPU"
      },
      "execution_count": 69,
      "outputs": []
    },
    {
      "cell_type": "code",
      "source": [
        "np_array=np.array([],dtype=int)\n",
        "print(np_array)"
      ],
      "metadata": {
        "colab": {
          "base_uri": "https://localhost:8080/"
        },
        "id": "WpCFDzBzGERN",
        "outputId": "253c5a39-dfe8-48aa-9309-1beb71dc8c84"
      },
      "execution_count": 70,
      "outputs": [
        {
          "output_type": "stream",
          "name": "stdout",
          "text": [
            "[]\n"
          ]
        }
      ]
    },
    {
      "cell_type": "code",
      "source": [
        "np1_array=np.array([1,2,3,4])\n",
        "print(np1_array)"
      ],
      "metadata": {
        "colab": {
          "base_uri": "https://localhost:8080/"
        },
        "id": "2uNQkk3bGET4",
        "outputId": "7d826421-b409-4747-f3c5-d31bfb6f9313"
      },
      "execution_count": 71,
      "outputs": [
        {
          "output_type": "stream",
          "name": "stdout",
          "text": [
            "[1 2 3 4]\n"
          ]
        }
      ]
    },
    {
      "cell_type": "code",
      "source": [
        "\"\"\"\n",
        "Advantage of numpy module is that it provides a feature\n",
        "rich and high performance array object and it supports the\n",
        "wide range of numerical operations and functions.\n",
        "\n",
        "Disadvantage of that it is not part of the Python standard\n",
        "library, so you have to install additional library to be\n",
        "able to use it\n",
        "\"\"\""
      ],
      "metadata": {
        "colab": {
          "base_uri": "https://localhost:8080/",
          "height": 88
        },
        "id": "zLiTK-6jGEWY",
        "outputId": "de986f7f-8e50-4b9b-ab73-b9f87082c8d5"
      },
      "execution_count": 72,
      "outputs": [
        {
          "output_type": "execute_result",
          "data": {
            "text/plain": [
              "'\\nAdvantage of numpy module is that it provides a feature\\nrich and high performance array object and it supports the\\nwide range of numerical operations and functions.\\n\\nDisadvantage of that it is not part of the Python standard\\nlibrary, so you have to install additional library to be\\nable to use it\\n'"
            ],
            "application/vnd.google.colaboratory.intrinsic+json": {
              "type": "string"
            }
          },
          "metadata": {},
          "execution_count": 72
        }
      ]
    },
    {
      "cell_type": "code",
      "source": [
        "#Time and Space complexity of create an array with\n",
        "#array module and numpy module"
      ],
      "metadata": {
        "id": "bd0YEFrXGEY8"
      },
      "execution_count": 73,
      "outputs": []
    },
    {
      "cell_type": "code",
      "source": [
        "\"\"\"\n",
        "When we are creating an empty array with numpy and array\n",
        "module the time complexity is constant.\n",
        "which is O(1).\n",
        "\n",
        "Because creating an empty array involves minimal operatins such\n",
        "as initializing the array metadata and allocating a minimal\n",
        "amount of memoery for the array elements.\n",
        "\n",
        "So these operations take roughly the same amount of time,\n",
        "ragardless of the array size and the space.\n",
        "\n",
        "\"\"\""
      ],
      "metadata": {
        "colab": {
          "base_uri": "https://localhost:8080/",
          "height": 105
        },
        "id": "szoeUSB7vceq",
        "outputId": "0f4eaf19-1199-4468-dc86-2d32055b387e"
      },
      "execution_count": 74,
      "outputs": [
        {
          "output_type": "execute_result",
          "data": {
            "text/plain": [
              "'\\nWhen we are creating an empty array with numpy and array\\nmodule the time complexity is constant.\\nwhich is O(1).\\n\\nBecause creating an empty array involves minimal operatins such\\nas initializing the array metadata and allocating a minimal\\namount of memoery for the array elements.\\n\\nSo these operations take roughly the same amount of time,\\nragardless of the array size and the space.\\n\\n'"
            ],
            "application/vnd.google.colaboratory.intrinsic+json": {
              "type": "string"
            }
          },
          "metadata": {},
          "execution_count": 74
        }
      ]
    },
    {
      "cell_type": "code",
      "source": [
        "\"\"\"\n",
        "Space Complexity:-\n",
        "\n",
        "Space complexity for creating an empty array is also constant\n",
        "which is O(1).\n",
        "because an empty array has no elements.\n",
        "\n",
        "Therefore, the memory allocated for the elements is minimal or\n",
        "none depending on the module used.\n",
        "\n",
        "The memory used for array metadata is constant and does not depend\n",
        "on the number of elements\n",
        "\n",
        "\n",
        "\"\"\""
      ],
      "metadata": {
        "colab": {
          "base_uri": "https://localhost:8080/",
          "height": 105
        },
        "id": "pfADD6QxvccN",
        "outputId": "49ddef25-c539-4605-f39f-8ffa9e14d97b"
      },
      "execution_count": 75,
      "outputs": [
        {
          "output_type": "execute_result",
          "data": {
            "text/plain": [
              "'\\nSpace Complexity:-\\n\\nSpace complexity for creating an empty array is also constant\\nwhich is O(1).\\nbecause an empty array has no elements.\\n\\nTherefore, the memory allocated for the elements is minimal or\\nnone depending on the module used.\\n\\nThe memory used for array metadata is constant and does not depend\\non the number of elements\\n\\n\\n'"
            ],
            "application/vnd.google.colaboratory.intrinsic+json": {
              "type": "string"
            }
          },
          "metadata": {},
          "execution_count": 75
        }
      ]
    },
    {
      "cell_type": "code",
      "source": [
        "\"\"\"\n",
        "Linear time complexity:-\n",
        "\n",
        "Now, when it comes to creating an array with the elements in it,\n",
        "the time complexity is linear with respect to the number of the\n",
        "of the elements in the array, because the process of creating an\n",
        "array with elements involves copyying the elements from the\n",
        "input iterable.\n",
        "\n",
        "np1_array=np.array([1,2,3,4])\n",
        "\n",
        "In this case it is leased to the newly created array as the number\n",
        "of elements increased , the time it takes to copy those elements\n",
        "also increases proportionally.\n",
        "\"\"\""
      ],
      "metadata": {
        "colab": {
          "base_uri": "https://localhost:8080/",
          "height": 123
        },
        "id": "qMtlKtTBvcZ5",
        "outputId": "c92660fa-08c2-4337-f5fc-03714e72eea7"
      },
      "execution_count": 76,
      "outputs": [
        {
          "output_type": "execute_result",
          "data": {
            "text/plain": [
              "'\\nLinear time complexity:-\\n\\nNow, when it comes to creating an array with the elements in it,\\nthe time complexity is linear with respect to the number of the\\nof the elements in the array, because the process of creating an\\narray with elements involves copyying the elements from the\\ninput iterable.\\n\\nnp1_array=np.array([1,2,3,4])\\n\\nIn this case it is leased to the newly created array as the number\\nof elements increased , the time it takes to copy those elements\\nalso increases proportionally.\\n'"
            ],
            "application/vnd.google.colaboratory.intrinsic+json": {
              "type": "string"
            }
          },
          "metadata": {},
          "execution_count": 76
        }
      ]
    },
    {
      "cell_type": "code",
      "source": [
        "\"\"\"\n",
        "\n",
        "Space complexity:-\n",
        "\n",
        "Now when it comes to space complexiy, the space complexity is\n",
        "also O(n) because the memory allocation for the array elements\n",
        "depends on the number and the data type of the elements.\n",
        "\n",
        "As the number of elements increased , the memory needed to store\n",
        "those elements also increases proportinally.\n",
        "\"\"\""
      ],
      "metadata": {
        "colab": {
          "base_uri": "https://localhost:8080/",
          "height": 88
        },
        "id": "DcEJOl4DvcXQ",
        "outputId": "52e66ef8-58ab-4bc2-9958-9ee050e8aba0"
      },
      "execution_count": 77,
      "outputs": [
        {
          "output_type": "execute_result",
          "data": {
            "text/plain": [
              "'\\n\\nSpace complexity:-\\n\\nNow when it comes to space complexiy, the space complexity is\\nalso O(n) because the memory allocation for the array elements\\ndepends on the number and the data type of the elements.\\n\\nAs the number of elements increased , the memory needed to store\\nthose elements also increases proportinally.\\n'"
            ],
            "application/vnd.google.colaboratory.intrinsic+json": {
              "type": "string"
            }
          },
          "metadata": {},
          "execution_count": 77
        }
      ]
    },
    {
      "cell_type": "code",
      "source": [
        "\"\"\"\n",
        "In summary, the time and space complexity for creating the arrays\n",
        "with element is O(N).\n",
        "\n",
        "Because both the time taken to copy the elements and the memory\n",
        "allocation for the elements depend on the number of the elements\n",
        "\n",
        "For empty arrays, bot the time and space complexity are constant\n",
        "since there are no elements to copy or allocate memory for.\n",
        "\n",
        "\"\"\""
      ],
      "metadata": {
        "colab": {
          "base_uri": "https://localhost:8080/",
          "height": 105
        },
        "id": "eqEycKujvcUj",
        "outputId": "a87a9e35-f3d2-405e-99a2-3e04306f04e5"
      },
      "execution_count": 78,
      "outputs": [
        {
          "output_type": "execute_result",
          "data": {
            "text/plain": [
              "'\\nIn summary, the time and space complexity for creating the arrays\\nwith element is O(N).\\n\\nBecause both the time taken to copy the elements and the memory\\nallocation for the elements depend on the number of the elements\\n\\nFor empty arrays, bot the time and space complexity are constant\\nsince there are no elements to copy or allocate memory for.\\n\\n'"
            ],
            "application/vnd.google.colaboratory.intrinsic+json": {
              "type": "string"
            }
          },
          "metadata": {},
          "execution_count": 78
        }
      ]
    },
    {
      "cell_type": "markdown",
      "source": [
        "**Insertion to Array**"
      ],
      "metadata": {
        "id": "ywNF2uECyVR2"
      }
    },
    {
      "cell_type": "code",
      "source": [
        "\"\"\"\n",
        "->We can insert an element at the beginning of the array.\n",
        "\n",
        "-> we can insert it int the middle of the array, or we can insert\n",
        "it at the end of the array\n",
        "\n",
        "\"\"\"\n"
      ],
      "metadata": {
        "colab": {
          "base_uri": "https://localhost:8080/",
          "height": 53
        },
        "id": "xhjJp_tKvcSE",
        "outputId": "da1914dc-b77d-4ab6-de88-0b9a3b97a475"
      },
      "execution_count": 79,
      "outputs": [
        {
          "output_type": "execute_result",
          "data": {
            "text/plain": [
              "'\\n->We can insert an element at the beginning of the array.\\n\\n-> we can insert it int the middle of the array, or we can insert\\nit at the end of the array\\n\\n'"
            ],
            "application/vnd.google.colaboratory.intrinsic+json": {
              "type": "string"
            }
          },
          "metadata": {},
          "execution_count": 79
        }
      ]
    },
    {
      "cell_type": "code",
      "source": [
        "\"\"\"\n",
        "Insert an element at the beginning of the array:-\n",
        "\n",
        "Insert an element at the index 0.And all the element\n",
        "will be shifted one step.\n",
        "\n",
        "So, the index of one, which was zero before , is going to be one\n",
        "in this case.\n",
        "\n",
        "And all the index of the other elements will be increased by 1\n",
        "because we are shifting the elements one step.\n",
        "\n",
        "Insert an element in the middle:-\n",
        "\n",
        "Same concept applies when adding an element in the middle of\n",
        "the array.\n",
        "\n",
        "Insert at the end of an array:-\n",
        "\n",
        "Its going to insert the element at the end of the array with\n",
        "new index. if the last index was 4 after inserting last index\n",
        "will be 5\n",
        "\n",
        "\"\"\"\n"
      ],
      "metadata": {
        "colab": {
          "base_uri": "https://localhost:8080/",
          "height": 157
        },
        "id": "QmeL0UaTvcPa",
        "outputId": "8d5dbcb0-a15f-4229-efa4-bc00c1099254"
      },
      "execution_count": 80,
      "outputs": [
        {
          "output_type": "execute_result",
          "data": {
            "text/plain": [
              "'\\nInsert an element at the beginning of the array:-\\n\\nInsert an element at the index 0.And all the element\\nwill be shifted one step.\\n\\nSo, the index of one, which was zero before , is going to be one\\nin this case.\\n\\nAnd all the index of the other elements will be increased by 1\\nbecause we are shifting the elements one step.\\n\\nInsert an element in the middle:-\\n\\nSame concept applies when adding an element in the middle of\\nthe array.\\n\\nInsert at the end of an array:-\\n\\nIts going to insert the element at the end of the array with\\nnew index. if the last index was 4 after inserting last index\\nwill be 5\\n\\n'"
            ],
            "application/vnd.google.colaboratory.intrinsic+json": {
              "type": "string"
            }
          },
          "metadata": {},
          "execution_count": 80
        }
      ]
    },
    {
      "cell_type": "code",
      "source": [
        "ar1=array.array(\"i\",[1,2,3,4,5])\n",
        "print(ar1)\n",
        "\n",
        "#Now use insert method.\n",
        "# It takes 2 parameters. 1st for index and 2nd for value.\n",
        "\n",
        "print(\"  \")\n",
        "\n",
        "\n",
        "ar1.insert(0,6)\n",
        "\n",
        "print(\"New element at index 1:- \")\n",
        "\n",
        "print(ar1)\n",
        "\n",
        "print(\" \")\n",
        "\n",
        "ar1.insert(2,7)\n",
        "\n",
        "print(\"New element at index 2:- \")\n",
        "print(ar1)\n",
        "\n",
        "print(\" \")\n",
        "\n",
        "ar1.insert(7,8)\n",
        "\n",
        "print(\"New element at last index :- \")\n",
        "print(ar1)"
      ],
      "metadata": {
        "colab": {
          "base_uri": "https://localhost:8080/"
        },
        "id": "AVSTo1twKLjj",
        "outputId": "65f804f2-05dc-45b7-eb79-3cb084b9a50d"
      },
      "execution_count": 81,
      "outputs": [
        {
          "output_type": "stream",
          "name": "stdout",
          "text": [
            "array('i', [1, 2, 3, 4, 5])\n",
            "  \n",
            "New element at index 1:- \n",
            "array('i', [6, 1, 2, 3, 4, 5])\n",
            " \n",
            "New element at index 2:- \n",
            "array('i', [6, 1, 7, 2, 3, 4, 5])\n",
            " \n",
            "New element at last index :- \n",
            "array('i', [6, 1, 7, 2, 3, 4, 5, 8])\n"
          ]
        }
      ]
    },
    {
      "cell_type": "code",
      "source": [
        "\"\"\"\n",
        "Time Complexity:-\n",
        "\n",
        "When we are inserting an element at a speicific position using\n",
        "insert method, the time complexity depends on the number of\n",
        "the elements that needs to be shifted right?\n",
        "\n",
        "So in this case, it means that in the worst case, whe we are\n",
        "inserting an element at the beginning of the array, the\n",
        "time complexity will be O(N).\n",
        "\n",
        "Space Complexity:-\n",
        "\n",
        "Space complexity of inserting an element in an array using array\n",
        "module is going to be O(1).\n",
        "\n",
        "Because here when we are inserting the element , we need only\n",
        "one place for that element.\n",
        "\n",
        "\"\"\"\n"
      ],
      "metadata": {
        "colab": {
          "base_uri": "https://localhost:8080/",
          "height": 140
        },
        "id": "gWaYx-JfKLg7",
        "outputId": "c474387e-d4aa-4d69-9132-0895d822dcec"
      },
      "execution_count": 82,
      "outputs": [
        {
          "output_type": "execute_result",
          "data": {
            "text/plain": [
              "'\\nTime Complexity:-\\n\\nWhen we are inserting an element at a speicific position using\\ninsert method, the time complexity depends on the number of\\nthe elements that needs to be shifted right?\\n\\nSo in this case, it means that in the worst case, whe we are\\ninserting an element at the beginning of the array, the\\ntime complexity will be O(N).\\n\\nSpace Complexity:-\\n\\nSpace complexity of inserting an element in an array using array\\nmodule is going to be O(1).\\n\\nBecause here when we are inserting the element , we need only\\none place for that element.\\n\\n'"
            ],
            "application/vnd.google.colaboratory.intrinsic+json": {
              "type": "string"
            }
          },
          "metadata": {},
          "execution_count": 82
        }
      ]
    },
    {
      "cell_type": "markdown",
      "source": [
        "**Traversal Operation**"
      ],
      "metadata": {
        "id": "VzQ2iAaUMCnS"
      }
    },
    {
      "cell_type": "code",
      "source": [
        "import array\n",
        "\n",
        "\n",
        "arr1=array.array(\"i\",[1,2,3,4,5,6])\n",
        "print(arr1)\n",
        "\n",
        "print(\" \")\n",
        "\n",
        "arr2=array.array(\"d\",[1.3,1.5,1.6])\n",
        "print(arr2)\n",
        "\n"
      ],
      "metadata": {
        "colab": {
          "base_uri": "https://localhost:8080/"
        },
        "id": "IMerTDg7KLeV",
        "outputId": "d193a11a-102a-47b1-eca3-84297dbbf2ce"
      },
      "execution_count": 83,
      "outputs": [
        {
          "output_type": "stream",
          "name": "stdout",
          "text": [
            "array('i', [1, 2, 3, 4, 5, 6])\n",
            " \n",
            "array('d', [1.3, 1.5, 1.6])\n"
          ]
        }
      ]
    },
    {
      "cell_type": "code",
      "source": [
        "#create traversal function\n",
        "\n",
        "def traversalArray(array):\n",
        "\n",
        "    for i in array:\n",
        "        print(i)\n",
        "\n",
        "traversalArray(arr1)"
      ],
      "metadata": {
        "colab": {
          "base_uri": "https://localhost:8080/"
        },
        "id": "DEpC4h-8KLbi",
        "outputId": "dd2aa72a-048f-4a85-f339-3ba37545402f"
      },
      "execution_count": 84,
      "outputs": [
        {
          "output_type": "stream",
          "name": "stdout",
          "text": [
            "1\n",
            "2\n",
            "3\n",
            "4\n",
            "5\n",
            "6\n"
          ]
        }
      ]
    },
    {
      "cell_type": "code",
      "source": [
        "\"\"\"\n",
        "It starts from the 1st element, then goes toe next element\n",
        "which is 2 then go to next element which is 3, then 4,5,6.\n",
        "\n",
        "Its visiting each elements of this array and printing them\n",
        "one by one\n",
        "\n",
        "\"\"\""
      ],
      "metadata": {
        "colab": {
          "base_uri": "https://localhost:8080/",
          "height": 71
        },
        "id": "vE716Ac-KLZC",
        "outputId": "f0cf165b-cf2d-4782-fc90-51108e4a2da9"
      },
      "execution_count": 85,
      "outputs": [
        {
          "output_type": "execute_result",
          "data": {
            "text/plain": [
              "'\\nIt starts from the 1st element, then goes toe next element\\nwhich is 2 then go to next element which is 3, then 4,5,6.\\n\\nIts visiting each elements of this array and printing them\\none by one\\n\\n'"
            ],
            "application/vnd.google.colaboratory.intrinsic+json": {
              "type": "string"
            }
          },
          "metadata": {},
          "execution_count": 85
        }
      ]
    },
    {
      "cell_type": "code",
      "source": [
        "\"\"\"\n",
        "Time and Space Complexity of this operation:-\n",
        "\n",
        "Time Complexity:-\n",
        "\n",
        "1st line of code in our function is a for loop. we know from\n",
        "our rules that looping through array is O(N) time complexity.\n",
        "\n",
        "And the printing the element is constant time operation O(1).\n",
        "\n",
        "So if we combine this 2 time complexities:O(N) + O(1).\n",
        "we can easily see that non-dominant term here is O(1).\n",
        "\n",
        "So the time complexity :- O(N).\n",
        "\n",
        "Space Complexity:-\n",
        "\n",
        "Space complexity for this menthod is constant because we don't\n",
        "need an extra location to perform this operation.\n",
        "\n",
        "Space complexity:- O(1).\n",
        "\"\"\""
      ],
      "metadata": {
        "colab": {
          "base_uri": "https://localhost:8080/",
          "height": 140
        },
        "id": "Sm_zO44wKLXM",
        "outputId": "1a86c712-1c89-4ea4-d1bc-5f0f2fc8cabc"
      },
      "execution_count": 86,
      "outputs": [
        {
          "output_type": "execute_result",
          "data": {
            "text/plain": [
              "\"\\nTime and Space Complexity of this operation:-\\n\\nTime Complexity:-\\n\\n1st line of code in our function is a for loop. we know from\\nour rules that looping through array is O(N) time complexity.\\n\\nAnd the printing the element is constant time operation O(1).\\n\\nSo if we combine this 2 time complexities:O(N) + O(1).\\nwe can easily see that non-dominant term here is O(1).\\n\\nSo the time complexity :- O(N).\\n\\nSpace Complexity:-\\n\\nSpace complexity for this menthod is constant because we don't\\nneed an extra location to perform this operation.\\n\\nSpace complexity:- O(1).\\n\""
            ],
            "application/vnd.google.colaboratory.intrinsic+json": {
              "type": "string"
            }
          },
          "metadata": {},
          "execution_count": 86
        }
      ]
    },
    {
      "cell_type": "markdown",
      "source": [
        "**Accessing an element of an array**\n"
      ],
      "metadata": {
        "id": "FL1zdfItOrxY"
      }
    },
    {
      "cell_type": "code",
      "source": [
        "# write an algorithm to access element of an array.\n",
        "\n",
        "array_1=array.array(\"i\",[1,2,3,4,5,6])\n",
        "print(array_1)\n",
        "\n",
        "\n",
        "print(\" \")\n",
        "\n",
        "def accessElement(array,index):\n",
        "\n",
        "    #write a condition to prevent the case is that if the\n",
        "    #index does not exist in this array.\n",
        "    #>= means it will include last index. otherwise it will show\n",
        "    # array index out of range error.\n",
        "    if index>=len(array):\n",
        "        print(\"Element does not exist in an  array\")\n",
        "\n",
        "    else:\n",
        "        print(array[index])\n",
        "\n",
        "accessElement(array_1,1)\n",
        "\n",
        "print(\" \")\n",
        "\n",
        "print(\"New example\")\n",
        "\n",
        "accessElement(array_1,3)\n",
        "\n",
        "\n"
      ],
      "metadata": {
        "colab": {
          "base_uri": "https://localhost:8080/"
        },
        "id": "ifw5Z-SQKLUP",
        "outputId": "2ff38e60-965b-4549-9483-62513dbe5659"
      },
      "execution_count": 87,
      "outputs": [
        {
          "output_type": "stream",
          "name": "stdout",
          "text": [
            "array('i', [1, 2, 3, 4, 5, 6])\n",
            " \n",
            "2\n",
            " \n",
            "New example\n",
            "4\n"
          ]
        }
      ]
    },
    {
      "cell_type": "code",
      "source": [
        "\"\"\"\n",
        "Time Complexity:-\n",
        "\n",
        "1st line of code is condition. based on rules, conditions take\n",
        "constant time complexity=O(1).\n",
        "\n",
        "2nd line of code. print statement. constant time complexity=O(1).\n",
        "\n",
        "3rd line of code. else statement.we have print statement. we put\n",
        "inside array directly the index that's why this also constant\n",
        "oopeations because we are not iterating through an array.\n",
        "\n",
        "we are just giving the exact address of the element over here.\n",
        "which is hte best characteristic of array to access directly\n",
        "to the element based on the index.\n",
        "\n",
        "SO it is constant time operation.\n",
        "\n",
        "total:- O(1)+O(1)+O(1)=O(1)\n",
        "\n",
        "Space complexity:-\n",
        "\n",
        "the space complexity of this function will be same because we\n",
        "do not need extra space here to perform this operation.\n",
        "\n",
        "\n",
        "\"\"\""
      ],
      "metadata": {
        "colab": {
          "base_uri": "https://localhost:8080/",
          "height": 175
        },
        "id": "7_vgNp9PKLRh",
        "outputId": "769c0104-68b8-47a6-d28d-31eedb8937e7"
      },
      "execution_count": 88,
      "outputs": [
        {
          "output_type": "execute_result",
          "data": {
            "text/plain": [
              "\"\\nTime Complexity:-\\n\\n1st line of code is condition. based on rules, conditions take\\nconstant time complexity=O(1).\\n\\n2nd line of code. print statement. constant time complexity=O(1).\\n\\n3rd line of code. else statement.we have print statement. we put\\ninside array directly the index that's why this also constant\\noopeations because we are not iterating through an array.\\n\\nwe are just giving the exact address of the element over here.\\nwhich is hte best characteristic of array to access directly\\nto the element based on the index.\\n\\nSO it is constant time operation.\\n\\ntotal:- O(1)+O(1)+O(1)=O(1)\\n\\nSpace complexity:-\\n\\nthe space complexity of this function will be same because we\\ndo not need extra space here to perform this operation.\\n\\n\\n\""
            ],
            "application/vnd.google.colaboratory.intrinsic+json": {
              "type": "string"
            }
          },
          "metadata": {},
          "execution_count": 88
        }
      ]
    },
    {
      "cell_type": "markdown",
      "source": [
        "**Searching for an element in Array**"
      ],
      "metadata": {
        "id": "7d3jV_yBffdw"
      }
    },
    {
      "cell_type": "code",
      "source": [
        "\"\"\"\n",
        "\n",
        "Searching for an element in an array can be perfomed using\n",
        "Linear Search Algorithm.\n",
        "\n",
        "In Linear Search, you can iterate throgh tht element of the\n",
        "array one by one , comparing each element with the target value.\n",
        "\n",
        "If the target value is found, the search is successful and you\n",
        "can go ahead and return the index of the target value.\n",
        "\n",
        "If the target value is not found after iterating all elememts,\n",
        "the search is unsuccessful and you can return an indication that\n",
        "value was not found.\n",
        "\n",
        "\n",
        "\"\"\""
      ],
      "metadata": {
        "colab": {
          "base_uri": "https://localhost:8080/",
          "height": 123
        },
        "id": "fwK-Sc3bKLOz",
        "outputId": "e64e49a7-6700-47f7-8724-a706b4fc0082"
      },
      "execution_count": 89,
      "outputs": [
        {
          "output_type": "execute_result",
          "data": {
            "text/plain": [
              "'\\n\\nSearching for an element in an array can be perfomed using\\nLinear Search Algorithm.\\n\\nIn Linear Search, you can iterate throgh tht element of the\\narray one by one , comparing each element with the target value.\\n\\nIf the target value is found, the search is successful and you\\ncan go ahead and return the index of the target value.\\n\\nIf the target value is not found after iterating all elememts,\\nthe search is unsuccessful and you can return an indication that\\nvalue was not found.\\n\\n\\n'"
            ],
            "application/vnd.google.colaboratory.intrinsic+json": {
              "type": "string"
            }
          },
          "metadata": {},
          "execution_count": 89
        }
      ]
    },
    {
      "cell_type": "code",
      "source": [
        "array_1=array.array(\"i\",[1,2,3,4,5,6,7,8])\n",
        "print(array_1)"
      ],
      "metadata": {
        "colab": {
          "base_uri": "https://localhost:8080/"
        },
        "id": "VilAg2-nKLMA",
        "outputId": "1f41b4f7-f237-46d8-db7b-bdcf23127715"
      },
      "execution_count": 90,
      "outputs": [
        {
          "output_type": "stream",
          "name": "stdout",
          "text": [
            "array('i', [1, 2, 3, 4, 5, 6, 7, 8])\n"
          ]
        }
      ]
    },
    {
      "cell_type": "code",
      "source": [
        "def linear_search(array,target):\n",
        "\n",
        "    for i in range(len(array)):\n",
        "\n",
        "        if array[i]==target:\n",
        "            return i\n",
        "\n",
        "    return -1\n",
        "\n",
        "\n",
        "print(linear_search(array_1,8))\n",
        "\n",
        "print(\" \")\n",
        "\n",
        "print(linear_search(array_1,9))"
      ],
      "metadata": {
        "colab": {
          "base_uri": "https://localhost:8080/"
        },
        "id": "KGER01ZrvcKW",
        "outputId": "2da96e20-00ea-4e9d-ff31-9bd5060633c6"
      },
      "execution_count": 91,
      "outputs": [
        {
          "output_type": "stream",
          "name": "stdout",
          "text": [
            "7\n",
            " \n",
            "-1\n"
          ]
        }
      ]
    },
    {
      "cell_type": "code",
      "source": [
        "\"\"\"\n",
        "\n",
        "Time complexity:-\n",
        "\n",
        "1st line of code is for loop. THis is going to take O(N) time\n",
        "complexity because the loop iterates over n element where n is\n",
        "the length of the array.\n",
        "\n",
        "2nd line of code is if condition.we know that if condition takes\n",
        "O(1) time complexity\n",
        "\n",
        "3rd line of code is return operation and it is also constant\n",
        "time complexity O(1).\n",
        "\n",
        "4th line of code is return -1.This one will also take constant\n",
        "time complexity O(1).\n",
        "\n",
        "total = O(N)+O(1)+O(1)+O(1)=O(N).\n",
        "After combining all time complexities.we can see that\n",
        "time complexity for Linear Search is going to be O(N).\n",
        "\n",
        "Time complexity of len function is O(1) as it is the constant\n",
        "time operation that retrieves stored len value of the array object\n",
        "So that's why it is called once.\n",
        "\n",
        "It does not impact overall time complexity of the linaer seach\n",
        "function and the range function use to create a range object\n",
        "representing a sequence of integers from zero up to but not\n",
        "including the length of the input array.\n",
        "\n",
        "The time complexity of creating the range object is O(1) as it\n",
        "does not generate the actual sequence of the integers but\n",
        "rather creates an iterator that can be used to produce number on\n",
        "demand.\n",
        "\n",
        "Space Complexity:-\n",
        "\n",
        "It is going to be O(1) because it does not required\n",
        "additional memory to perform this opertaion\n",
        "\n",
        "\"\"\"\n"
      ],
      "metadata": {
        "colab": {
          "base_uri": "https://localhost:8080/",
          "height": 227
        },
        "id": "WRZLaQglhO5G",
        "outputId": "b8ec0ace-d8a3-48f4-f305-c2c578c856f4"
      },
      "execution_count": 92,
      "outputs": [
        {
          "output_type": "execute_result",
          "data": {
            "text/plain": [
              "\"\\n\\nTime complexity:-\\n\\n1st line of code is for loop. THis is going to take O(N) time\\ncomplexity because the loop iterates over n element where n is\\nthe length of the array.\\n\\n2nd line of code is if condition.we know that if condition takes\\nO(1) time complexity\\n\\n3rd line of code is return operation and it is also constant\\ntime complexity O(1).\\n\\n4th line of code is return -1.This one will also take constant\\ntime complexity O(1).\\n\\ntotal = O(N)+O(1)+O(1)+O(1)=O(N).\\nAfter combining all time complexities.we can see that\\ntime complexity for Linear Search is going to be O(N).\\n\\nTime complexity of len function is O(1) as it is the constant\\ntime operation that retrieves stored len value of the array object\\nSo that's why it is called once.\\n\\nIt does not impact overall time complexity of the linaer seach\\nfunction and the range function use to create a range object\\nrepresenting a sequence of integers from zero up to but not\\nincluding the length of the input array.\\n\\nThe time complexity of creating the range object is O(1) as it\\ndoes not generate the actual sequence of the integers but\\nrather creates an iterator that can be used to produce number on\\ndemand.\\n\\nSpace Complexity:-\\n\\nIt is going to be O(1) because it does not required\\nadditional memory to perform this opertaion\\n\\n\""
            ],
            "application/vnd.google.colaboratory.intrinsic+json": {
              "type": "string"
            }
          },
          "metadata": {},
          "execution_count": 92
        }
      ]
    },
    {
      "cell_type": "markdown",
      "source": [
        "**Deleting an element from an Array**"
      ],
      "metadata": {
        "id": "5Kk24sAFjX5b"
      }
    },
    {
      "cell_type": "code",
      "source": [
        "\"\"\"\n",
        "Move all elements after deleting a value.\n",
        "\n",
        "Deletion is very efficient when we remove last element.\n",
        "\n",
        "Otherwise deletion becomes time consuming.\n",
        "\n",
        "\"\"\""
      ],
      "metadata": {
        "colab": {
          "base_uri": "https://localhost:8080/",
          "height": 53
        },
        "id": "z3iqm7NXhO3M",
        "outputId": "0fbe5ef0-58a9-4c21-b890-c33c05866a19"
      },
      "execution_count": 93,
      "outputs": [
        {
          "output_type": "execute_result",
          "data": {
            "text/plain": [
              "'\\nMove all elements after deleting a value.\\n\\nDeletion is very efficient when we remove last element.\\n\\nOtherwise deletion becomes time consuming.\\n\\n'"
            ],
            "application/vnd.google.colaboratory.intrinsic+json": {
              "type": "string"
            }
          },
          "metadata": {},
          "execution_count": 93
        }
      ]
    },
    {
      "cell_type": "code",
      "source": [
        "array_1=array.array(\"i\",[1,2,3,4,5,6,7,8])\n",
        "print(array_1)\n",
        "\n",
        "print(\" \")\n",
        "\n",
        "array_1.remove(1)\n",
        "print(array_1)\n",
        "\n",
        "print(\" \")\n",
        "\n",
        "array_1.remove(5)\n",
        "print(array_1)\n",
        "\n",
        "print(\" \")\n",
        "\n",
        "array_1.remove(8)\n",
        "print(array_1)"
      ],
      "metadata": {
        "colab": {
          "base_uri": "https://localhost:8080/"
        },
        "id": "zv0ZXGr3hOz_",
        "outputId": "e40c84af-84ed-422e-af89-05f11bd6eff2"
      },
      "execution_count": 94,
      "outputs": [
        {
          "output_type": "stream",
          "name": "stdout",
          "text": [
            "array('i', [1, 2, 3, 4, 5, 6, 7, 8])\n",
            " \n",
            "array('i', [2, 3, 4, 5, 6, 7, 8])\n",
            " \n",
            "array('i', [2, 3, 4, 6, 7, 8])\n",
            " \n",
            "array('i', [2, 3, 4, 6, 7])\n"
          ]
        }
      ]
    },
    {
      "cell_type": "code",
      "source": [
        "\"\"\"\n",
        "Time Complexity:-\n",
        "\n",
        "If we remove the last element from the array. The time complxity\n",
        "will be O(1). Because we are just directly connecting to last\n",
        "element and removing it.\n",
        "\n",
        "If we remove element from middle of the array the time complexity\n",
        "will be O(N), because after removing that element, we need to\n",
        "mofe all the remaining elements to one step left.\n",
        "\n",
        "SO in worst case it will take O(N) time complexity.\n",
        "\n",
        "Space Complexity:-\n",
        "\n",
        "we don't need extra space for performing this operation so space\n",
        "complexity will be O(1).\n",
        "\n",
        "\n",
        "\n",
        "\"\"\""
      ],
      "metadata": {
        "colab": {
          "base_uri": "https://localhost:8080/",
          "height": 140
        },
        "id": "pPQm5rx7hOxj",
        "outputId": "86896403-5b56-4711-9e44-81b778d5c7c4"
      },
      "execution_count": 95,
      "outputs": [
        {
          "output_type": "execute_result",
          "data": {
            "text/plain": [
              "\"\\nTime Complexity:-\\n\\nIf we remove the last element from the array. The time complxity\\nwill be O(1). Because we are just directly connecting to last\\nelement and removing it.\\n\\nIf we remove element from middle of the array the time complexity\\nwill be O(N), because after removing that element, we need to\\nmofe all the remaining elements to one step left.\\n\\nSO in worst case it will take O(N) time complexity.\\n\\nSpace Complexity:-\\n\\nwe don't need extra space for performing this operation so space\\ncomplexity will be O(1).\\n\\n\\n\\n\""
            ],
            "application/vnd.google.colaboratory.intrinsic+json": {
              "type": "string"
            }
          },
          "metadata": {},
          "execution_count": 95
        }
      ]
    },
    {
      "cell_type": "markdown",
      "source": [
        "**Two - Dimensional Array**"
      ],
      "metadata": {
        "id": "TJRRwyEQC232"
      }
    },
    {
      "cell_type": "markdown",
      "source": [
        "**Create 2-D Array**"
      ],
      "metadata": {
        "id": "NATFlASuC6e8"
      }
    },
    {
      "cell_type": "code",
      "source": [
        "\"\"\"\n",
        "\n",
        "Use temprature example:-\n",
        "\n",
        "Day 1 - 11,15,10,6\n",
        "Day 2 - 10,14,11,5\n",
        "Day 3 - 12,17,12,8\n",
        "Day 4 - 15,18,14,9\n",
        "\n",
        "Here instead of array module we will use numpy module\n",
        "because it works perfectly with multi dimensional arrays.\n",
        "\n",
        "\"\"\"\n"
      ],
      "metadata": {
        "id": "tLPYToBxC2fp",
        "colab": {
          "base_uri": "https://localhost:8080/",
          "height": 71
        },
        "outputId": "4b8fccb7-cce4-486b-c320-6d2ab03fca1f"
      },
      "execution_count": 96,
      "outputs": [
        {
          "output_type": "execute_result",
          "data": {
            "text/plain": [
              "'\\n\\nUse temprature example:-\\n\\nDay 1 - 11,15,10,6\\nDay 2 - 10,14,11,5\\nDay 3 - 12,17,12,8\\nDay 4 - 15,18,14,9\\n\\nHere instead of array module we will use numpy module\\nbecause it works perfectly with multi dimensional arrays.\\n\\n'"
            ],
            "application/vnd.google.colaboratory.intrinsic+json": {
              "type": "string"
            }
          },
          "metadata": {},
          "execution_count": 96
        }
      ]
    },
    {
      "cell_type": "code",
      "source": [
        "import numpy as np\n",
        "\n",
        "two_D_array=np.array([[11,15,10,6], #1st row\n",
        "                      [10,14,11,5], #2nd row\n",
        "                      [12,17,12,8], #3rd row\n",
        "                      [15,18,14,9]]) #4th row\n",
        "\n",
        "two_D_array\n"
      ],
      "metadata": {
        "colab": {
          "base_uri": "https://localhost:8080/"
        },
        "id": "LYI-lr9SC2c8",
        "outputId": "58e391ce-974d-4308-9cc4-ab7c7bd271c7"
      },
      "execution_count": 97,
      "outputs": [
        {
          "output_type": "execute_result",
          "data": {
            "text/plain": [
              "array([[11, 15, 10,  6],\n",
              "       [10, 14, 11,  5],\n",
              "       [12, 17, 12,  8],\n",
              "       [15, 18, 14,  9]])"
            ]
          },
          "metadata": {},
          "execution_count": 97
        }
      ]
    },
    {
      "cell_type": "code",
      "source": [
        "\"\"\"\n",
        "\n",
        "Time complexity:-\n",
        "\n",
        "Time complexity to create an 2D array will be O(MN).\n",
        "where M=No. of columns\n",
        "      N=No. of rows\n",
        "\n",
        "this is very time consuming operation. we are initializing the\n",
        "value straight away.\n",
        "\n",
        "Space Complexity:-\n",
        "\n",
        "Space complexity for this operation is O(NM). because we have\n",
        "M number of columns and N number of rows.\n",
        "\n",
        "So we need this number of space in the memory.\n",
        "\n",
        "\"\"\""
      ],
      "metadata": {
        "id": "HzsXkDyrC2aX",
        "colab": {
          "base_uri": "https://localhost:8080/",
          "height": 105
        },
        "outputId": "0d4971b1-a634-4214-ccf1-2abb8f92effb"
      },
      "execution_count": 98,
      "outputs": [
        {
          "output_type": "execute_result",
          "data": {
            "text/plain": [
              "'\\n\\nTime complexity:-\\n\\nTime complexity to create an 2D array will be O(MN).\\nwhere M=No. of columns\\n      N=No. of rows\\n\\nthis is very time consuming operation. we are initializing the\\nvalue straight away.\\n\\nSpace Complexity:-\\n\\nSpace complexity for this operation is O(NM). because we have\\nM number of columns and N number of rows.\\n\\nSo we need this number of space in the memory.\\n\\n'"
            ],
            "application/vnd.google.colaboratory.intrinsic+json": {
              "type": "string"
            }
          },
          "metadata": {},
          "execution_count": 98
        }
      ]
    },
    {
      "cell_type": "markdown",
      "source": [
        "**Insertion - 2D Array**"
      ],
      "metadata": {
        "id": "y2HEs1jJIPzN"
      }
    },
    {
      "cell_type": "code",
      "source": [
        "import numpy as np\n",
        "\n",
        "two_D_array=np.array([[11,15,10,6], #1st row\n",
        "                      [10,14,11,5], #2nd row\n",
        "                      [12,17,12,8], #3rd row\n",
        "                      [15,18,14,9]]) #4th row\n",
        "\n",
        "two_D_array\n"
      ],
      "metadata": {
        "id": "cVC_KqC3C2X2",
        "colab": {
          "base_uri": "https://localhost:8080/"
        },
        "outputId": "bb227b46-c42a-4a1a-fb25-f7e3326f1261"
      },
      "execution_count": 99,
      "outputs": [
        {
          "output_type": "execute_result",
          "data": {
            "text/plain": [
              "array([[11, 15, 10,  6],\n",
              "       [10, 14, 11,  5],\n",
              "       [12, 17, 12,  8],\n",
              "       [15, 18, 14,  9]])"
            ]
          },
          "metadata": {},
          "execution_count": 99
        }
      ]
    },
    {
      "cell_type": "code",
      "source": [
        "\"\"\"\n",
        "We will use insert function of arrays to insert a new row or column\n",
        "to 2D array.\n",
        "\"\"\""
      ],
      "metadata": {
        "id": "ZMCnUqyZvcHz",
        "colab": {
          "base_uri": "https://localhost:8080/",
          "height": 53
        },
        "outputId": "f304980d-eff9-4531-f445-de30858617f6"
      },
      "execution_count": 100,
      "outputs": [
        {
          "output_type": "execute_result",
          "data": {
            "text/plain": [
              "'\\nWe will use insert function of arrays to insert a new row or column\\nto 2D array.\\n'"
            ],
            "application/vnd.google.colaboratory.intrinsic+json": {
              "type": "string"
            }
          },
          "metadata": {},
          "execution_count": 100
        }
      ]
    },
    {
      "cell_type": "code",
      "source": [
        "new_twod_array=np.insert(two_D_array,0,[[8,8,8,8]],axis=1)\n",
        "\n",
        "#(array,index,values,axis=1 is column 0 is for row)\n",
        "\n",
        "new_twod_array"
      ],
      "metadata": {
        "id": "AElKjeuFGEbS",
        "colab": {
          "base_uri": "https://localhost:8080/"
        },
        "outputId": "95af7aaa-ab2f-436c-b531-688df5a2c16c"
      },
      "execution_count": 101,
      "outputs": [
        {
          "output_type": "execute_result",
          "data": {
            "text/plain": [
              "array([[ 8, 11, 15, 10,  6],\n",
              "       [ 8, 10, 14, 11,  5],\n",
              "       [ 8, 12, 17, 12,  8],\n",
              "       [ 8, 15, 18, 14,  9]])"
            ]
          },
          "metadata": {},
          "execution_count": 101
        }
      ]
    },
    {
      "cell_type": "code",
      "source": [
        "new_twod_array=np.insert(two_D_array,0,[[13,13,13,13]],axis=0)\n",
        "\n",
        "#(array,index,values,axis=1 is column 0 is for row)\n",
        "\n",
        "new_twod_array"
      ],
      "metadata": {
        "colab": {
          "base_uri": "https://localhost:8080/"
        },
        "id": "StsTON90XXgL",
        "outputId": "590b1083-2fd5-49b9-91e6-0502cc83eb7e"
      },
      "execution_count": 102,
      "outputs": [
        {
          "output_type": "execute_result",
          "data": {
            "text/plain": [
              "array([[13, 13, 13, 13],\n",
              "       [11, 15, 10,  6],\n",
              "       [10, 14, 11,  5],\n",
              "       [12, 17, 12,  8],\n",
              "       [15, 18, 14,  9]])"
            ]
          },
          "metadata": {},
          "execution_count": 102
        }
      ]
    },
    {
      "cell_type": "code",
      "source": [
        "new_twod_array=np.append(two_D_array,[[13,13,13,13]],axis=0)\n",
        "\n",
        "#append will add value at the end directly.\n",
        "\n",
        "\n",
        "new_twod_array"
      ],
      "metadata": {
        "colab": {
          "base_uri": "https://localhost:8080/"
        },
        "id": "fIW1lak9XXd0",
        "outputId": "e79c4ab1-1a1e-422a-e5e8-1f625a0bf10e"
      },
      "execution_count": 103,
      "outputs": [
        {
          "output_type": "execute_result",
          "data": {
            "text/plain": [
              "array([[11, 15, 10,  6],\n",
              "       [10, 14, 11,  5],\n",
              "       [12, 17, 12,  8],\n",
              "       [15, 18, 14,  9],\n",
              "       [13, 13, 13, 13]])"
            ]
          },
          "metadata": {},
          "execution_count": 103
        }
      ]
    },
    {
      "cell_type": "code",
      "source": [
        "new_twod_array=np.append(two_D_array,[[14,14,14,14]])\n",
        "\n",
        "#append will add value at the end directly.\n",
        "\n",
        "\n",
        "new_twod_array"
      ],
      "metadata": {
        "colab": {
          "base_uri": "https://localhost:8080/"
        },
        "id": "BoD7-TriXXbU",
        "outputId": "9c3c3e4a-8936-4b7c-f9c0-5e956c6b5779"
      },
      "execution_count": 104,
      "outputs": [
        {
          "output_type": "execute_result",
          "data": {
            "text/plain": [
              "array([11, 15, 10,  6, 10, 14, 11,  5, 12, 17, 12,  8, 15, 18, 14,  9, 14,\n",
              "       14, 14, 14])"
            ]
          },
          "metadata": {},
          "execution_count": 104
        }
      ]
    },
    {
      "cell_type": "markdown",
      "source": [
        "**Access an element of 2D Array**"
      ],
      "metadata": {
        "id": "DFH3tiy5ZW36"
      }
    },
    {
      "cell_type": "code",
      "source": [
        "import numpy as np\n",
        "\n",
        "two_D_array=np.array([[11,15,10,6], #1st row\n",
        "                      [10,14,11,5], #2nd row\n",
        "                      [12,17,12,8], #3rd row\n",
        "                      [15,18,14,9]]) #4th row\n",
        "\n",
        "two_D_array\n"
      ],
      "metadata": {
        "colab": {
          "base_uri": "https://localhost:8080/"
        },
        "id": "h3Zdol_vXXY6",
        "outputId": "eed2c574-e4bf-4d2d-f1cb-131d16d924f3"
      },
      "execution_count": 105,
      "outputs": [
        {
          "output_type": "execute_result",
          "data": {
            "text/plain": [
              "array([[11, 15, 10,  6],\n",
              "       [10, 14, 11,  5],\n",
              "       [12, 17, 12,  8],\n",
              "       [15, 18, 14,  9]])"
            ]
          },
          "metadata": {},
          "execution_count": 105
        }
      ]
    },
    {
      "cell_type": "code",
      "source": [
        "# Create a function which access element of 2D array.\n",
        "\n",
        "def access(array,rowIndex,columnIndex):\n",
        "\n",
        "    if rowIndex>=len(array) or  columnIndex>=len(array[0]):\n",
        "\n",
        "        #or is must in condition. and will give and error.\n",
        "        #len(array) will count No. of rows.\n",
        "        #len(array[0]) wil count No. of columns.\n",
        "\n",
        "        print(\"Incorrect Index\")\n",
        "\n",
        "    else:\n",
        "        print(array[rowIndex][columnIndex])\n",
        "\n",
        "print(access(two_D_array,2,1))\n",
        "\n",
        "print(\"  \")\n",
        "\n",
        "\n",
        "print(access(two_D_array,2,5))\n",
        "\n",
        "\n"
      ],
      "metadata": {
        "colab": {
          "base_uri": "https://localhost:8080/"
        },
        "id": "cg5N1NIxXXWX",
        "outputId": "1c96978d-97b1-4c21-88c3-491ed62e0872"
      },
      "execution_count": 106,
      "outputs": [
        {
          "output_type": "stream",
          "name": "stdout",
          "text": [
            "17\n",
            "None\n",
            "  \n",
            "Incorrect Index\n",
            "None\n"
          ]
        }
      ]
    },
    {
      "cell_type": "code",
      "source": [
        "\"\"\"\n",
        "\n",
        "Time complexity:-\n",
        "\n",
        "1st line of code. we have if condition which is checking the number\n",
        "of rows and number of columns in array.So time complexity will be\n",
        "O(1).\n",
        "\n",
        "2nd line of code. printing message.time complexity will be O(1).\n",
        "\n",
        "3rd line of code. else condition. which is printing the value of a\n",
        "cell in 2D array.time complexity will be O(1).\n",
        "\n",
        "total= O(1)+O(1)+O(1)=O(1) time complexity.\n",
        "\n",
        "Space complexity:-\n",
        "\n",
        "Space complexity is O(1) because we don't need any extra space to\n",
        "perform this operation.\n",
        "\n",
        "\"\"\""
      ],
      "metadata": {
        "colab": {
          "base_uri": "https://localhost:8080/",
          "height": 140
        },
        "id": "0WwalO87XXTv",
        "outputId": "aa4ac930-b22b-479b-cf2e-cbeafe25c89f"
      },
      "execution_count": 107,
      "outputs": [
        {
          "output_type": "execute_result",
          "data": {
            "text/plain": [
              "\"\\n\\nTime complexity:- \\n\\n1st line of code. we have if condition which is checking the number\\nof rows and number of columns in array.So time complexity will be\\nO(1).\\n\\n2nd line of code. printing message.time complexity will be O(1).\\n\\n3rd line of code. else condition. which is printing the value of a\\ncell in 2D array.time complexity will be O(1).\\n\\ntotal= O(1)+O(1)+O(1)=O(1) time complexity.\\n\\nSpace complexity:-\\n\\nSpace complexity is O(1) because we don't need any extra space to \\nperform this operation.\\n\\n\""
            ],
            "application/vnd.google.colaboratory.intrinsic+json": {
              "type": "string"
            }
          },
          "metadata": {},
          "execution_count": 107
        }
      ]
    },
    {
      "cell_type": "markdown",
      "source": [
        "**Traversal 2D Array**"
      ],
      "metadata": {
        "id": "rmHMDCohkUid"
      }
    },
    {
      "cell_type": "code",
      "source": [
        "import numpy as np\n",
        "\n",
        "two_D_array=np.array([[11,15,10,6], #1st row\n",
        "                      [10,14,11,5], #2nd row\n",
        "                      [12,17,12,8], #3rd row\n",
        "                      [15,18,14,9]]) #4th row\n",
        "\n",
        "two_D_array"
      ],
      "metadata": {
        "colab": {
          "base_uri": "https://localhost:8080/"
        },
        "id": "J_Bjni6hXXRH",
        "outputId": "a3d4aa77-5e77-45c8-ca2c-aacd1034ab40"
      },
      "execution_count": 108,
      "outputs": [
        {
          "output_type": "execute_result",
          "data": {
            "text/plain": [
              "array([[11, 15, 10,  6],\n",
              "       [10, 14, 11,  5],\n",
              "       [12, 17, 12,  8],\n",
              "       [15, 18, 14,  9]])"
            ]
          },
          "metadata": {},
          "execution_count": 108
        }
      ]
    },
    {
      "cell_type": "code",
      "source": [
        "\n",
        "# create a new function to traverse through an array\n",
        "\n",
        "def traverseArray(array):\n",
        "\n",
        "    for i in range(len(array)): #calculate length of row\n",
        "        for j in range(len(array[0])): #calculate length of column\n",
        "            print(array[i][j])\n",
        "\n",
        "\n",
        "traversalArray(two_D_array)\n",
        "\n"
      ],
      "metadata": {
        "colab": {
          "base_uri": "https://localhost:8080/"
        },
        "id": "KFX79fzYXXOz",
        "outputId": "86338197-932e-4c24-f9a5-a5eaa9eb6c83"
      },
      "execution_count": 109,
      "outputs": [
        {
          "output_type": "stream",
          "name": "stdout",
          "text": [
            "[11 15 10  6]\n",
            "[10 14 11  5]\n",
            "[12 17 12  8]\n",
            "[15 18 14  9]\n"
          ]
        }
      ]
    },
    {
      "cell_type": "code",
      "source": [
        "\"\"\"\n",
        "Time complexity:-\n",
        "\n",
        "if we have nested loop in function then time complexity is the\n",
        "quadratic time complexity.\n",
        "\n",
        "But here if the number of rows equals to the number of columns, then\n",
        "we have quadratic time complexity otherwise we will have\n",
        "O(MN) time complexity which will be the M= No. of columns\n",
        "N= No. of rows\n",
        "\n",
        "1st line of code. for loop for rows. time complexity will be O(MN).\n",
        "M: No. of columns and N: No. of rows.\n",
        "Because for each row we have to traverse through all columns.\n",
        "so this means that if number of rows is M and number of columns is N\n",
        "and so the time complexity will be O(MN). if M=N then the time\n",
        "complexity will be quadratic time complexity O(N^2)\n",
        "\n",
        "2nd line of code. for loop for columns. time complexity will be O(N).\n",
        "which will be the number of columns N\n",
        "\n",
        "print statement take constant time complexity O(1).\n",
        "\n",
        "Space Complexity:-\n",
        "\n",
        "Space complexity will be O(1) because we don't need any extra space\n",
        "for perfoming this operation\n",
        "\n",
        "\"\"\""
      ],
      "metadata": {
        "colab": {
          "base_uri": "https://localhost:8080/",
          "height": 227
        },
        "id": "gYXKOuBPXXMU",
        "outputId": "9eb291d4-f04d-4214-fb36-898788fd6243"
      },
      "execution_count": 110,
      "outputs": [
        {
          "output_type": "execute_result",
          "data": {
            "text/plain": [
              "\"\\nTime complexity:-\\n\\nif we have nested loop in function then time complexity is the\\nquadratic time complexity.\\n\\nBut here if the number of rows equals to the number of columns, then\\nwe have quadratic time complexity otherwise we will have\\nO(MN) time complexity which will be the M= No. of columns\\nN= No. of rows\\n\\n1st line of code. for loop for rows. time complexity will be O(MN).\\nM: No. of columns and N: No. of rows.\\nBecause for each row we have to traverse through all columns.\\nso this means that if number of rows is M and number of columns is N\\nand so the time complexity will be O(MN). if M=N then the time \\ncomplexity will be quadratic time complexity O(N^2)\\n\\n2nd line of code. for loop for columns. time complexity will be O(N).\\nwhich will be the number of columns N\\n\\nprint statement take constant time complexity O(1).\\n\\nSpace Complexity:-\\n\\nSpace complexity will be O(1) because we don't need any extra space\\nfor perfoming this operation\\n\\n\""
            ],
            "application/vnd.google.colaboratory.intrinsic+json": {
              "type": "string"
            }
          },
          "metadata": {},
          "execution_count": 110
        }
      ]
    },
    {
      "cell_type": "markdown",
      "source": [
        "**Searching for an element in 2D array**"
      ],
      "metadata": {
        "id": "walM3p-Xx7l8"
      }
    },
    {
      "cell_type": "code",
      "source": [
        "import numpy as np\n",
        "\n",
        "two_D_array=np.array([[11,15,10,6], #1st row\n",
        "                      [10,14,11,5], #2nd row\n",
        "                      [12,17,12,8], #3rd row\n",
        "                      [15,18,14,9]]) #4th row\n",
        "\n",
        "two_D_array"
      ],
      "metadata": {
        "colab": {
          "base_uri": "https://localhost:8080/"
        },
        "id": "ohQZs1oqXXJn",
        "outputId": "053c087b-cd8b-4c05-f3f4-9009e795a8f1"
      },
      "execution_count": 111,
      "outputs": [
        {
          "output_type": "execute_result",
          "data": {
            "text/plain": [
              "array([[11, 15, 10,  6],\n",
              "       [10, 14, 11,  5],\n",
              "       [12, 17, 12,  8],\n",
              "       [15, 18, 14,  9]])"
            ]
          },
          "metadata": {},
          "execution_count": 111
        }
      ]
    },
    {
      "cell_type": "code",
      "source": [
        "#create a linear search function\n",
        "\n",
        "def search_two_D_array(array,target):\n",
        "\n",
        "    for i in range(len(array)):\n",
        "        for j in range(len(array[0])):\n",
        "\n",
        "            if array[i][j]==target:\n",
        "                return \"The value is located at index \" +\"row:- \"+str(i)+\" & \"+\"column:- \"+str(j)\n",
        "\n",
        "    return \"Element not found\"\n",
        "\n",
        "print(search_two_D_array(two_D_array,10))\n",
        "\n",
        "print(\" \")\n",
        "\n",
        "print(search_two_D_array(two_D_array,20))\n"
      ],
      "metadata": {
        "colab": {
          "base_uri": "https://localhost:8080/"
        },
        "id": "D5BrXRXGXXHA",
        "outputId": "7777b8b9-e1bd-4ef6-e4c4-c7de28663fcf"
      },
      "execution_count": 112,
      "outputs": [
        {
          "output_type": "stream",
          "name": "stdout",
          "text": [
            "The value is located at index row:- 0 & column:- 2\n",
            " \n",
            "Element not found\n"
          ]
        }
      ]
    },
    {
      "cell_type": "code",
      "source": [
        "\"\"\"\n",
        "Time complexity:-\n",
        "\n",
        "\n",
        "1st line code. for loop for rows. this will be O(MN) time complexity.\n",
        "even though we are looking inside same array.The no. of columns and no. of\n",
        "rows might be different.\n",
        "\n",
        "In this case if we have the No. of rows=No. of columns then this will have\n",
        "quadratic time complexity O(N^2). otherwise it will be O(MN).\n",
        "\n",
        "for this function we have no. of rows=no. of columns so time complexity will be\n",
        "O(N^2).\n",
        "\n",
        "\n",
        "2nd line code.for loop for column.this will take O(N) time complexity.\n",
        "where N is the No. of columns\n",
        "\n",
        "\n",
        "3rd line  code. if condition.Time complexity of if condition is O(1).\n",
        "And accessing an element of any given array is O(1) time complexity\n",
        "\n",
        "\n",
        "Space Complexity:-\n",
        "\n",
        "\n",
        "Space complexity will be O(1) because we don't need any extra space\n",
        "for perfoming this operation\n",
        "\"\"\""
      ],
      "metadata": {
        "colab": {
          "base_uri": "https://localhost:8080/",
          "height": 192
        },
        "id": "F2UFNDg2XXEe",
        "outputId": "e9fa49d5-7bc8-4041-f4c3-35ce3e553cd1"
      },
      "execution_count": 113,
      "outputs": [
        {
          "output_type": "execute_result",
          "data": {
            "text/plain": [
              "\"\\nTime complexity:-\\n\\n\\n1st line code. for loop for rows. this will be O(MN) time complexity.\\neven though we are looking inside same array.The no. of columns and no. of \\nrows might be different.\\n\\nIn this case if we have the No. of rows=No. of columns then this will have\\nquadratic time complexity O(N^2). otherwise it will be O(MN).\\n\\nfor this function we have no. of rows=no. of columns so time complexity will be\\nO(N^2).\\n\\n\\n2nd line code.for loop for column.this will take O(N) time complexity.\\nwhere N is the No. of columns\\n\\n\\n3rd line  code. if condition.Time complexity of if condition is O(1).\\nAnd accessing an element of any given array is O(1) time complexity\\n\\n\\nSpace Complexity:-\\n\\n\\nSpace complexity will be O(1) because we don't need any extra space\\nfor perfoming this operation\\n\""
            ],
            "application/vnd.google.colaboratory.intrinsic+json": {
              "type": "string"
            }
          },
          "metadata": {},
          "execution_count": 113
        }
      ]
    },
    {
      "cell_type": "markdown",
      "source": [
        "**Deletion 2D Array**"
      ],
      "metadata": {
        "id": "4hnii1_-wIk8"
      }
    },
    {
      "cell_type": "code",
      "source": [
        "import numpy as np\n",
        "\n",
        "two_D_array=np.array([[11,15,10,6], #1st row\n",
        "                      [10,14,11,5], #2nd row\n",
        "                      [12,17,12,8], #3rd row\n",
        "                      [15,18,14,9]]) #4th row\n",
        "\n",
        "two_D_array"
      ],
      "metadata": {
        "colab": {
          "base_uri": "https://localhost:8080/"
        },
        "id": "ui96fxMNwCau",
        "outputId": "555c8fdc-0e6f-4ce1-bc6d-14eaab0cae8a"
      },
      "execution_count": 114,
      "outputs": [
        {
          "output_type": "execute_result",
          "data": {
            "text/plain": [
              "array([[11, 15, 10,  6],\n",
              "       [10, 14, 11,  5],\n",
              "       [12, 17, 12,  8],\n",
              "       [15, 18, 14,  9]])"
            ]
          },
          "metadata": {},
          "execution_count": 114
        }
      ]
    },
    {
      "cell_type": "code",
      "source": [
        "new_two_D_array=np.delete(two_D_array,0,axis=0)\n",
        "new_two_D_array\n",
        "\n",
        "#np.delete(array,index, axis=0 for row and axis=1 for column)\n"
      ],
      "metadata": {
        "colab": {
          "base_uri": "https://localhost:8080/"
        },
        "id": "676AdFNOwCYI",
        "outputId": "75a20fb7-e3c5-494f-edcc-4550af528b1e"
      },
      "execution_count": 116,
      "outputs": [
        {
          "output_type": "execute_result",
          "data": {
            "text/plain": [
              "array([[10, 14, 11,  5],\n",
              "       [12, 17, 12,  8],\n",
              "       [15, 18, 14,  9]])"
            ]
          },
          "metadata": {},
          "execution_count": 116
        }
      ]
    },
    {
      "cell_type": "code",
      "source": [
        "new_two_D_array=np.delete(two_D_array,0,axis=1)\n",
        "new_two_D_array"
      ],
      "metadata": {
        "colab": {
          "base_uri": "https://localhost:8080/"
        },
        "id": "LQ1u_GL1wCVa",
        "outputId": "54b03bf0-8a64-4783-df70-8aba396d6569"
      },
      "execution_count": 118,
      "outputs": [
        {
          "output_type": "execute_result",
          "data": {
            "text/plain": [
              "array([[15, 10,  6],\n",
              "       [14, 11,  5],\n",
              "       [17, 12,  8],\n",
              "       [18, 14,  9]])"
            ]
          },
          "metadata": {},
          "execution_count": 118
        }
      ]
    },
    {
      "cell_type": "markdown",
      "source": [
        "# Array-1 Practice\n"
      ],
      "metadata": {
        "id": "dFepwxxaGIuy"
      }
    },
    {
      "cell_type": "markdown",
      "source": [
        "\n",
        "# 1. Create an array and traverse."
      ],
      "metadata": {
        "id": "pSJIkGnIRi26"
      }
    },
    {
      "cell_type": "code",
      "source": [
        "from array import *\n",
        "\n",
        "import numpy as np\n",
        "arr=array(\"i\",[1,2,3,4,5])\n",
        "\n",
        "for i in arr:\n",
        "    print(i)"
      ],
      "metadata": {
        "colab": {
          "base_uri": "https://localhost:8080/"
        },
        "id": "Rk5mLCalGIg0",
        "outputId": "90460fbb-298b-4371-c63e-4a2524a5b0be"
      },
      "execution_count": 129,
      "outputs": [
        {
          "output_type": "stream",
          "name": "stdout",
          "text": [
            "1\n",
            "2\n",
            "3\n",
            "4\n",
            "5\n"
          ]
        }
      ]
    },
    {
      "cell_type": "markdown",
      "source": [
        "# 2. Access individual element through indxes"
      ],
      "metadata": {
        "id": "XcoWW1EHR9kp"
      }
    },
    {
      "cell_type": "code",
      "source": [
        "print(arr[0])\n",
        "\n",
        "print(\" \")\n",
        "\n",
        "print(arr[2])\n"
      ],
      "metadata": {
        "colab": {
          "base_uri": "https://localhost:8080/"
        },
        "id": "wBB753qpRimG",
        "outputId": "fb33f1cf-e626-4f86-9915-8d38d6f4eac6"
      },
      "execution_count": 124,
      "outputs": [
        {
          "output_type": "stream",
          "name": "stdout",
          "text": [
            "1\n",
            " \n",
            "3\n"
          ]
        }
      ]
    },
    {
      "cell_type": "markdown",
      "source": [
        "\n",
        "# 3. Append any value to the array using append() method\n",
        "\n"
      ],
      "metadata": {
        "id": "CAAXA7jYSOyU"
      }
    },
    {
      "cell_type": "code",
      "source": [
        "arr.append(6)\n",
        "print(arr)"
      ],
      "metadata": {
        "colab": {
          "base_uri": "https://localhost:8080/"
        },
        "id": "6PHU7zEoGId_",
        "outputId": "7e888ae0-39a9-4bba-95df-5e6b60b87b5b"
      },
      "execution_count": 130,
      "outputs": [
        {
          "output_type": "stream",
          "name": "stdout",
          "text": [
            "array('i', [1, 2, 3, 4, 5, 6])\n"
          ]
        }
      ]
    },
    {
      "cell_type": "markdown",
      "source": [
        "# 4. Insert value in an array using insert() method"
      ],
      "metadata": {
        "id": "UrmJHcMLSW05"
      }
    },
    {
      "cell_type": "code",
      "source": [
        "arr.insert(3,10)\n",
        "print(arr)"
      ],
      "metadata": {
        "colab": {
          "base_uri": "https://localhost:8080/"
        },
        "id": "4Mrc6JD7GIbR",
        "outputId": "920e76df-21b0-4072-bbdf-9c83d63bc67d"
      },
      "execution_count": 131,
      "outputs": [
        {
          "output_type": "stream",
          "name": "stdout",
          "text": [
            "array('i', [1, 2, 3, 10, 4, 5, 6])\n"
          ]
        }
      ]
    },
    {
      "cell_type": "markdown",
      "source": [
        "# 5. Extend python array using extend() method"
      ],
      "metadata": {
        "id": "H1kfOPf9SpHI"
      }
    },
    {
      "cell_type": "code",
      "source": [
        "arr=array(\"i\",[1,2,3,4,5])\n",
        "\n",
        "arr1=array(\"i\",[6,7,8,9,10])\n",
        "\n",
        "arr.extend(arr1)\n",
        "print(arr)"
      ],
      "metadata": {
        "colab": {
          "base_uri": "https://localhost:8080/"
        },
        "id": "wzhiTyi4GIYF",
        "outputId": "2fccd727-0b1a-4009-b1ed-3d435d8fa967"
      },
      "execution_count": 133,
      "outputs": [
        {
          "output_type": "stream",
          "name": "stdout",
          "text": [
            "array('i', [1, 2, 3, 4, 5, 6, 7, 8, 9, 10])\n"
          ]
        }
      ]
    },
    {
      "cell_type": "markdown",
      "source": [
        "# 6. Add items from list into array using fromlist() method"
      ],
      "metadata": {
        "id": "INDyxcIrS5J4"
      }
    },
    {
      "cell_type": "code",
      "source": [
        "arr=array(\"i\",[1,2,3,4,5])\n",
        "\n",
        "ls=[10,20,30,40]\n",
        "\n",
        "arr.fromlist(ls)\n",
        "print(arr)\n",
        "\n"
      ],
      "metadata": {
        "colab": {
          "base_uri": "https://localhost:8080/"
        },
        "id": "bZiSiQRSGIVM",
        "outputId": "d0827dd3-7ed2-4374-ae64-677de76ca698"
      },
      "execution_count": 136,
      "outputs": [
        {
          "output_type": "stream",
          "name": "stdout",
          "text": [
            "array('i', [1, 2, 3, 4, 5, 10, 20, 30, 40])\n"
          ]
        }
      ]
    },
    {
      "cell_type": "markdown",
      "source": [
        "\n",
        "# 7. Remove any array element using remove() method"
      ],
      "metadata": {
        "id": "2OnZ6NDrTMoN"
      }
    },
    {
      "cell_type": "code",
      "source": [
        "arr.remove(1)\n",
        "print(arr) #remove the value 1"
      ],
      "metadata": {
        "colab": {
          "base_uri": "https://localhost:8080/"
        },
        "id": "aZ3w2l-twCSl",
        "outputId": "66abca76-b01d-45a5-dc2c-d4f6e15cd50a"
      },
      "execution_count": 137,
      "outputs": [
        {
          "output_type": "stream",
          "name": "stdout",
          "text": [
            "array('i', [2, 3, 4, 5, 10, 20, 30, 40])\n"
          ]
        }
      ]
    },
    {
      "cell_type": "markdown",
      "source": [
        "# 8. Remove last array element using pop() method"
      ],
      "metadata": {
        "id": "m1wbQ1y0Tqmf"
      }
    },
    {
      "cell_type": "code",
      "source": [
        "arr=array(\"i\",[1,2,3,4,5])\n",
        "\n",
        "arr.pop()\n",
        "print(arr)"
      ],
      "metadata": {
        "colab": {
          "base_uri": "https://localhost:8080/"
        },
        "id": "HWICu1D4GH5e",
        "outputId": "1d14f003-5635-4b56-f88c-2511c7845cb5"
      },
      "execution_count": 139,
      "outputs": [
        {
          "output_type": "stream",
          "name": "stdout",
          "text": [
            "array('i', [1, 2, 3, 4])\n"
          ]
        }
      ]
    },
    {
      "cell_type": "markdown",
      "source": [
        "# 9. Fetch any element through its index using index() method"
      ],
      "metadata": {
        "id": "fjcDAflVU8Yg"
      }
    },
    {
      "cell_type": "code",
      "source": [
        "arr=array(\"i\",[1,2,3,4,5])\n",
        "\n",
        "arr.index(4)"
      ],
      "metadata": {
        "colab": {
          "base_uri": "https://localhost:8080/"
        },
        "id": "3Di13jc0UyOn",
        "outputId": "63b37108-d7cf-478c-d857-181bf93f8d9c"
      },
      "execution_count": 140,
      "outputs": [
        {
          "output_type": "execute_result",
          "data": {
            "text/plain": [
              "3"
            ]
          },
          "metadata": {},
          "execution_count": 140
        }
      ]
    },
    {
      "cell_type": "markdown",
      "source": [
        "# 10. Reverse a python array using reverse() method"
      ],
      "metadata": {
        "id": "bFKmLpGBVCH3"
      }
    },
    {
      "cell_type": "code",
      "source": [
        "arr=array(\"i\",[1,2,3,4,5])\n",
        "arr.reverse()\n",
        "print(arr)"
      ],
      "metadata": {
        "colab": {
          "base_uri": "https://localhost:8080/"
        },
        "id": "Bieul1CWUyLt",
        "outputId": "24c50aed-c388-466a-a926-eff287e3b6ee"
      },
      "execution_count": 144,
      "outputs": [
        {
          "output_type": "stream",
          "name": "stdout",
          "text": [
            "array('i', [5, 4, 3, 2, 1])\n"
          ]
        }
      ]
    },
    {
      "cell_type": "markdown",
      "source": [
        "# 11. Get array buffer information through buffer_info() method"
      ],
      "metadata": {
        "id": "MtuzKIG-VL60"
      }
    },
    {
      "cell_type": "code",
      "source": [
        "arr=array(\"i\",[1,2,3,4,5])\n",
        "arr.buffer_info()\n",
        "\n",
        "# buffer_info() returns a tuple, which contains the memory\n",
        "# address and the length of the buffer that holds the array’s\n",
        "# contents in the form (address, length).\""
      ],
      "metadata": {
        "colab": {
          "base_uri": "https://localhost:8080/"
        },
        "id": "mpqPIxp_XXBs",
        "outputId": "7815c42d-6003-4c94-e759-54a97a16667b"
      },
      "execution_count": 145,
      "outputs": [
        {
          "output_type": "execute_result",
          "data": {
            "text/plain": [
              "(135344332876688, 5)"
            ]
          },
          "metadata": {},
          "execution_count": 145
        }
      ]
    },
    {
      "cell_type": "markdown",
      "source": [
        "# 12. Check for number of occurrences of an element using count() method"
      ],
      "metadata": {
        "id": "kPQtPJ-hV9e2"
      }
    },
    {
      "cell_type": "code",
      "source": [
        "arr=array(\"i\",[1,2,3,4,5,3,5,1,2,6,7,3,6,8,9,19])\n",
        "\n",
        "print(arr.count(2))"
      ],
      "metadata": {
        "id": "luUr0NgAGEd6",
        "colab": {
          "base_uri": "https://localhost:8080/"
        },
        "outputId": "b8480ba3-de75-4d04-f886-7a75834aa3bb"
      },
      "execution_count": 149,
      "outputs": [
        {
          "output_type": "stream",
          "name": "stdout",
          "text": [
            "2\n"
          ]
        }
      ]
    },
    {
      "cell_type": "markdown",
      "source": [
        "\n",
        "# 13. Convert array to string using tostring() method"
      ],
      "metadata": {
        "id": "YjWW8A97WUqQ"
      }
    },
    {
      "cell_type": "code",
      "source": [
        "arr=array(\"i\",[1,2,3,4,5])\n",
        "\n",
        "new_arr=arr.tobytes()\n",
        "\n",
        "print(new_arr)\n",
        "print(\" \")\n",
        "\"\"\"\n",
        "Hypothesis\n",
        "It appears that you are trying to convert the array arr to a\n",
        "string using the tostring() method.\n",
        " However, the correct method name is tobytes().\n",
        " The tostring() method was deprecated in Python 3.2 and has been removed.\"\"\"\n",
        "\n",
        "print( \" \")\n",
        "\n",
        "ls=list(arr)\n",
        "\n",
        "new_str=\" \".join(str(x) for x in ls)\n",
        "print(new_str)"
      ],
      "metadata": {
        "id": "YqhfV_K_GEg6",
        "colab": {
          "base_uri": "https://localhost:8080/"
        },
        "outputId": "039cfc83-1212-4911-aee8-fd5644682128"
      },
      "execution_count": 157,
      "outputs": [
        {
          "output_type": "stream",
          "name": "stdout",
          "text": [
            "b'\\x01\\x00\\x00\\x00\\x02\\x00\\x00\\x00\\x03\\x00\\x00\\x00\\x04\\x00\\x00\\x00\\x05\\x00\\x00\\x00'\n",
            " \n",
            " \n",
            "1 2 3 4 5\n"
          ]
        }
      ]
    }
  ]
}