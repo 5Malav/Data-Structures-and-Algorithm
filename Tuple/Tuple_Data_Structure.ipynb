{
  "nbformat": 4,
  "nbformat_minor": 0,
  "metadata": {
    "colab": {
      "provenance": []
    },
    "kernelspec": {
      "name": "python3",
      "display_name": "Python 3"
    },
    "language_info": {
      "name": "python"
    }
  },
  "cells": [
    {
      "cell_type": "markdown",
      "source": [
        "# Tuple"
      ],
      "metadata": {
        "id": "02Hb_cyeONy0"
      }
    },
    {
      "cell_type": "code",
      "source": [
        "\"\"\"\n",
        "\n",
        "A tuple is a sequence of values much like a list.\n",
        "\n",
        "The value stored in tuple can be any type and they are indexed\n",
        "by integers.\n",
        "\n",
        "The important differnce is that tuples are immutable, which means\n",
        "that when tuple is declared it cannnot be changed.\n",
        "\n",
        "Tuple are also comparable and habshable , so we can sort list of\n",
        "them and use tuples as key values in Python Dictionary.\n",
        "\n",
        "What is hashable?\n",
        "\n",
        "An object is set to be hashable if it has a value that remaind the same\n",
        "during its liftime\n",
        "\n",
        "\"\"\"\n"
      ],
      "metadata": {
        "colab": {
          "base_uri": "https://localhost:8080/",
          "height": 127
        },
        "id": "FHIJxDCN8gS8",
        "outputId": "3af938fb-e58e-46f0-b272-37a4e94db89f"
      },
      "execution_count": 1,
      "outputs": [
        {
          "output_type": "execute_result",
          "data": {
            "text/plain": [
              "'\\n\\nA tuple is a sequence of values much like a list.\\n\\nThe value stored in tuple can be any type and they are indexed\\nby integers.\\n\\nThe important differnce is that tuples are immutable, which means\\nthat when tuple is declared it cannnot be changed.\\n\\nTuple are also comparable and habshable , so we can sort list of\\nthem and use tuples as key values in Python Dictionary.\\n\\nWhat is hashable?\\n\\nAn object is set to be hashable if it has a value that remaind the same\\nduring its liftime\\n\\n'"
            ],
            "application/vnd.google.colaboratory.intrinsic+json": {
              "type": "string"
            }
          },
          "metadata": {},
          "execution_count": 1
        }
      ]
    },
    {
      "cell_type": "code",
      "source": [
        "tup = ('a','b','c','d','e')\n",
        "print(tup)\n",
        "\n",
        "print(\" \")\n",
        "\n",
        "tup_1 = (\"a\",)\n",
        "\n",
        "# if we don't add comma after value it will just print\n",
        "# a letter a\n",
        "print(tup_1)\n",
        "\n",
        "print(\" \")\n",
        "\n",
        "\n"
      ],
      "metadata": {
        "colab": {
          "base_uri": "https://localhost:8080/"
        },
        "id": "AgFbPywk8gPY",
        "outputId": "a4a261fe-0816-4fb2-c539-26c0dc7b6985"
      },
      "execution_count": 2,
      "outputs": [
        {
          "output_type": "stream",
          "name": "stdout",
          "text": [
            "('a', 'b', 'c', 'd', 'e')\n",
            " \n",
            "('a',)\n",
            " \n"
          ]
        }
      ]
    },
    {
      "cell_type": "code",
      "source": [
        "\"\"\"\n",
        "\n",
        "Time Complexity for creating a tuple is O(1).\n",
        "\n",
        "because here we are defining all elements up front.\n",
        "\n",
        "Space complexity for creating a tuple is O(n)\n",
        "\n",
        "Because this depends on the number of elements of the tuple.\n",
        "So, if we have n elements in the tuple, the space complexity will be\n",
        "O(n)\n",
        "\n",
        "\"\"\""
      ],
      "metadata": {
        "colab": {
          "base_uri": "https://localhost:8080/",
          "height": 91
        },
        "id": "lM1Keage8gNu",
        "outputId": "70f3a056-209f-4d9c-8f89-1a4361ff77d3"
      },
      "execution_count": 3,
      "outputs": [
        {
          "output_type": "execute_result",
          "data": {
            "text/plain": [
              "'\\n\\nTime Complexity for creating a tuple is O(1).\\n\\nbecause here we are defining all elements up front.\\n\\nSpace complexity for creating a tuple is O(n)\\n\\nBecause this depends on the number of elements of the tuple. \\nSo, if we have n elements in the tuple, the space complexity will be\\nO(n)\\n\\n'"
            ],
            "application/vnd.google.colaboratory.intrinsic+json": {
              "type": "string"
            }
          },
          "metadata": {},
          "execution_count": 3
        }
      ]
    },
    {
      "cell_type": "markdown",
      "source": [
        "# Tuples in Memory/ Accessing an element of Tuple"
      ],
      "metadata": {
        "id": "XKa8Wh0VYtP1"
      }
    },
    {
      "cell_type": "code",
      "source": [
        "tup = (\"a\",\"b\",\"c\",\"d\",\"e\")\n",
        "print(tup)\n",
        "\n",
        "# Tuple elements are located in memory contiguosly.\n",
        "# So index is used to access them.\n",
        "\n",
        "print(tup[0])\n",
        "\n",
        "print(tup[3])\n",
        "\n",
        "\n",
        "print(tup[-3])\n"
      ],
      "metadata": {
        "colab": {
          "base_uri": "https://localhost:8080/"
        },
        "id": "FkAOKvBI8gL_",
        "outputId": "69714c76-3b81-4002-b748-03906fa9453f"
      },
      "execution_count": 4,
      "outputs": [
        {
          "output_type": "stream",
          "name": "stdout",
          "text": [
            "('a', 'b', 'c', 'd', 'e')\n",
            "a\n",
            "d\n",
            "c\n"
          ]
        }
      ]
    },
    {
      "cell_type": "code",
      "source": [
        "# Access element using slice[:] operator\n",
        "\n",
        "tup = (\"a\",\"b\",\"c\",\"d\",\"e\")\n",
        "print(tup)\n",
        "\n",
        "print(tup[1:])\n",
        "\n",
        "print(tup[2:4])\n",
        "\n",
        "print(tup[:])\n",
        "\n"
      ],
      "metadata": {
        "colab": {
          "base_uri": "https://localhost:8080/"
        },
        "id": "fufCMf2z8gFU",
        "outputId": "b0a0e195-db8c-4395-93c9-aca3a2855e5a"
      },
      "execution_count": 5,
      "outputs": [
        {
          "output_type": "stream",
          "name": "stdout",
          "text": [
            "('a', 'b', 'c', 'd', 'e')\n",
            "('b', 'c', 'd', 'e')\n",
            "('c', 'd')\n",
            "('a', 'b', 'c', 'd', 'e')\n"
          ]
        }
      ]
    },
    {
      "cell_type": "markdown",
      "source": [
        "# Traversing through Tuple"
      ],
      "metadata": {
        "id": "u6IoKD3vml54"
      }
    },
    {
      "cell_type": "code",
      "source": [
        "\n",
        "tup = (\"a\",\"b\",\"c\",\"d\",\"e\")\n",
        "\n",
        "for i in tup:\n",
        "    print(i)\n",
        "\n",
        "\n"
      ],
      "metadata": {
        "colab": {
          "base_uri": "https://localhost:8080/"
        },
        "id": "XDizvq0-8TYX",
        "outputId": "f444190a-44f6-4c1a-e094-b61c14e2a7cd"
      },
      "execution_count": 6,
      "outputs": [
        {
          "output_type": "stream",
          "name": "stdout",
          "text": [
            "a\n",
            "b\n",
            "c\n",
            "d\n",
            "e\n"
          ]
        }
      ]
    },
    {
      "cell_type": "code",
      "source": [
        "for i in range(len(tup)):\n",
        "    print(i , tup[i])"
      ],
      "metadata": {
        "colab": {
          "base_uri": "https://localhost:8080/"
        },
        "id": "ggW6tI8e8TVC",
        "outputId": "96ca87a3-de2e-45d8-ae70-83f41bbd6d45"
      },
      "execution_count": 8,
      "outputs": [
        {
          "output_type": "stream",
          "name": "stdout",
          "text": [
            "0 a\n",
            "1 b\n",
            "2 c\n",
            "3 d\n",
            "4 e\n"
          ]
        }
      ]
    },
    {
      "cell_type": "code",
      "source": [
        "\"\"\"\n",
        "\n",
        "Time Complexity :-\n",
        "\n",
        "The Time Complexity for traversing thorugh a tuple is O(n).\n",
        "Because here we visit each and every element of tuple and printing them.\n",
        "\n",
        "Space Complxity :-\n",
        "\n",
        "Space Complexity will be O(1) because for traversing tuples an\n",
        "additional memory is not required.\n",
        "\n",
        "\"\"\"\n",
        "\n"
      ],
      "metadata": {
        "id": "56yP6lD68TRm"
      },
      "execution_count": 5,
      "outputs": []
    },
    {
      "cell_type": "markdown",
      "source": [
        "# Searching for an element in Tuple"
      ],
      "metadata": {
        "id": "sp111EnhCVR6"
      }
    },
    {
      "cell_type": "code",
      "source": [
        "\"\"\"\n",
        "\n",
        "There are various way of searching for an element in tuple.\n",
        "\n",
        "The 1st method is using of IN operator.\n",
        "\n",
        "\"\"\"\n",
        "\n",
        "\n",
        "tup = (\"a\",\"b\",\"c\",\"d\",\"e\")\n",
        "\n",
        "print(\"a\" in tup)\n",
        "\n",
        "print(\"m\" in tup)\n",
        "\n",
        "\n",
        "\"\"\"\n",
        "The Time Complexity for this method will be O(n)\n",
        "Because IN operator work as a linear search and its search\n",
        "for element one by one.\n",
        "\n",
        "\"\"\"\n"
      ],
      "metadata": {
        "colab": {
          "base_uri": "https://localhost:8080/"
        },
        "id": "f59zM60p8TPR",
        "outputId": "76c88546-216b-46f1-a05c-ab66ffd8c8a0"
      },
      "execution_count": 10,
      "outputs": [
        {
          "output_type": "stream",
          "name": "stdout",
          "text": [
            "True\n",
            "False\n"
          ]
        }
      ]
    },
    {
      "cell_type": "code",
      "source": [
        "\"\"\"\n",
        "\n",
        "The 2nd method is Index method\n",
        "\n",
        "\"\"\"\n",
        "tup = (\"a\",\"b\",\"c\",\"d\",\"e\")\n",
        "\n",
        "print(tup.index(\"d\"))\n",
        "\n",
        "\n",
        "print(tup.index(\"b\"))\n",
        "\n",
        "#If an element is not in tuple.It will give value error.\n",
        "\n",
        "#ValueError: tuple.index(x): x not in tuple\n",
        "\n",
        "\"\"\"\n",
        "The Time Complexity for this method will be O(n)\n",
        "Because index method work as a linear search and its search\n",
        "for element one by one.\n",
        "\n",
        "\"\"\"\n",
        "\n"
      ],
      "metadata": {
        "colab": {
          "base_uri": "https://localhost:8080/"
        },
        "id": "C6IPqLOO8TMg",
        "outputId": "58c178cb-04b3-4232-e49d-8630debb81e3"
      },
      "execution_count": 14,
      "outputs": [
        {
          "output_type": "stream",
          "name": "stdout",
          "text": [
            "3\n",
            "1\n"
          ]
        }
      ]
    },
    {
      "cell_type": "code",
      "source": [
        "\"\"\"\n",
        "\n",
        "Now the last method is custom way so we can search through the\n",
        "new tuple and find out element in the tuple.\n",
        "\n",
        "Now the difference from the index method is that in this case\n",
        "we can put a custom message and get the result in proper way.\n",
        "\n",
        "\"\"\"\n",
        "\n",
        "tup = (\"a\",\"b\",\"c\",\"d\",\"e\")\n",
        "\n",
        "def search_tup(tup_1,element):\n",
        "    for i in range(0,len(tup_1)):\n",
        "\n",
        "        if tup_1[i] ==element:\n",
        "            return f\"The {element} found at {i} index\"\n",
        "\n",
        "    return \"Element not found\"\n",
        "\n",
        "print(search_tup(tup,\"d\"))\n",
        "\n",
        "print(\" \")\n",
        "\n",
        "print(search_tup(tup,\"m\"))\n",
        "\n",
        "\"\"\"\n",
        "\n",
        "Time Complexity : -\n",
        "\n",
        "return \"Element not found\" --> O(1)\n",
        "\n",
        "return f\"The {element} found at {i} index\" --> O(1)\n",
        "\n",
        "if tup_1[i] ==element: --> O(1)\n",
        "\n",
        "for i in range(0,len(tup_1)): --> O(n)\n",
        "\n",
        "Total Time Complexity : - O(1) + O(1) + O(1) + O(n) = O(n)\n",
        "\n",
        "\n",
        "Space Complexity: -\n",
        "\n",
        "Space Complexity will be O(1) because in this case we run\n",
        "this function an extra memory not required.\n",
        "\n",
        "\"\"\"\n",
        "\n"
      ],
      "metadata": {
        "colab": {
          "base_uri": "https://localhost:8080/"
        },
        "id": "nDUzQiM-8TJR",
        "outputId": "65e42a28-3aca-4992-8fd1-6e21824eac8c"
      },
      "execution_count": 20,
      "outputs": [
        {
          "output_type": "stream",
          "name": "stdout",
          "text": [
            "The d found at 3 index\n",
            " \n",
            "Element not found\n"
          ]
        }
      ]
    },
    {
      "cell_type": "markdown",
      "source": [
        "# Tuple Operations/ Functions"
      ],
      "metadata": {
        "id": "R1ITI9q6M2K-"
      }
    },
    {
      "cell_type": "code",
      "source": [
        "tup_1 =(1,4,3,2,5,11,15,20,23)\n",
        "\n",
        "tup_2 =(2,4,1,6,8,9,14,17,19)\n",
        "\n",
        "print(tup_1,tup_2)\n"
      ],
      "metadata": {
        "colab": {
          "base_uri": "https://localhost:8080/"
        },
        "id": "f5KeTLwP8TGn",
        "outputId": "d4206520-d811-422c-e4ba-56354d782ea0"
      },
      "execution_count": 22,
      "outputs": [
        {
          "output_type": "stream",
          "name": "stdout",
          "text": [
            "(1, 4, 3, 2, 5, 11, 15, 20, 23) (2, 4, 1, 6, 8, 9, 14, 17, 19)\n"
          ]
        }
      ]
    },
    {
      "cell_type": "code",
      "source": [
        " # Concatenation operator\n",
        "\n",
        "tup_3 =  tup_1 + tup_2\n",
        "print(tup_3)\n"
      ],
      "metadata": {
        "colab": {
          "base_uri": "https://localhost:8080/"
        },
        "id": "G1f0VLrD8TDp",
        "outputId": "35508de8-deec-4d47-eabc-987dc7587858"
      },
      "execution_count": 23,
      "outputs": [
        {
          "output_type": "stream",
          "name": "stdout",
          "text": [
            "(1, 4, 3, 2, 5, 11, 15, 20, 23, 2, 4, 1, 6, 8, 9, 14, 17, 19)\n"
          ]
        }
      ]
    },
    {
      "cell_type": "code",
      "source": [
        "# * operator\n",
        "# * operator can be used with integer\n",
        "# each element will be repeated n times.\n",
        "\n",
        "\n",
        "print(tup_1*2)\n"
      ],
      "metadata": {
        "colab": {
          "base_uri": "https://localhost:8080/"
        },
        "id": "J6GEviZc8TBB",
        "outputId": "aa00c3ec-629f-4e12-908d-edd335c9bf4e"
      },
      "execution_count": 26,
      "outputs": [
        {
          "output_type": "stream",
          "name": "stdout",
          "text": [
            "(1, 4, 3, 2, 5, 11, 15, 20, 23, 1, 4, 3, 2, 5, 11, 15, 20, 23)\n"
          ]
        }
      ]
    },
    {
      "cell_type": "code",
      "source": [
        "\"\"\"\n",
        "\n",
        "Method that add and remove the items from tuple are\n",
        "not available because tuples are immutable.\n",
        "\n",
        "\"\"\"\n",
        "\n"
      ],
      "metadata": {
        "id": "sEckQ5GT8S90"
      },
      "execution_count": 5,
      "outputs": []
    },
    {
      "cell_type": "code",
      "source": [
        "# Count method\n",
        "\n",
        "# count repetition of element in tuple\n",
        "\n",
        "tup_1 =(1,4,3,2,5,5,5,2,4,5,1,3,3,6,11,15,20,23)\n",
        "\n",
        "\n",
        "print(tup_1.count(1))\n",
        "\n",
        "print(tup_1.count(2))\n",
        "\n",
        "print(tup_1.count(5))\n"
      ],
      "metadata": {
        "colab": {
          "base_uri": "https://localhost:8080/"
        },
        "id": "9eR9J6jQ8S7O",
        "outputId": "59d43c69-95ee-4e74-adc7-4b1a4bafc3c5"
      },
      "execution_count": 29,
      "outputs": [
        {
          "output_type": "stream",
          "name": "stdout",
          "text": [
            "2\n",
            "2\n",
            "4\n"
          ]
        }
      ]
    },
    {
      "cell_type": "code",
      "source": [
        "# len() function\n",
        "\n",
        "# Return the number of elements in tuple\n",
        "\n",
        "tup_1 =(1,4,3,2,5,5,5,2,4,5,1,3,3,6,11,15,20,23)\n",
        "\n",
        "print(len(tup_1))\n"
      ],
      "metadata": {
        "colab": {
          "base_uri": "https://localhost:8080/"
        },
        "id": "1psZ-e6S8S4l",
        "outputId": "b46d2080-bdad-49e6-a625-74a97f08f9d4"
      },
      "execution_count": 30,
      "outputs": [
        {
          "output_type": "stream",
          "name": "stdout",
          "text": [
            "18\n"
          ]
        }
      ]
    },
    {
      "cell_type": "code",
      "source": [
        "# max() function\n",
        "\n",
        "# It will return maximum number in the tuple.\n",
        "\n",
        "print(max(tup_1))\n",
        "\n",
        "\n",
        "print(max(tup_2))\n"
      ],
      "metadata": {
        "colab": {
          "base_uri": "https://localhost:8080/"
        },
        "id": "NatoVHAE8S3K",
        "outputId": "ccf04d0e-7ef7-4fee-bdbc-1afe649b1b8e"
      },
      "execution_count": 32,
      "outputs": [
        {
          "output_type": "stream",
          "name": "stdout",
          "text": [
            "23\n",
            "19\n"
          ]
        }
      ]
    },
    {
      "cell_type": "code",
      "source": [
        "# minimum() function\n",
        "\n",
        "# It will return minimum number in the tuple.\n",
        "\n",
        "print(min(tup_1))\n",
        "\n",
        "\n",
        "print(min(tup_2))\n"
      ],
      "metadata": {
        "colab": {
          "base_uri": "https://localhost:8080/"
        },
        "id": "or1Tkbw-8S0o",
        "outputId": "a1bb15af-f77e-4a04-f17e-2e8bf738ff6a"
      },
      "execution_count": 33,
      "outputs": [
        {
          "output_type": "stream",
          "name": "stdout",
          "text": [
            "1\n",
            "1\n"
          ]
        }
      ]
    },
    {
      "cell_type": "markdown",
      "source": [
        "# Tuple vs. List"
      ],
      "metadata": {
        "id": "YohpVMh_PidY"
      }
    },
    {
      "cell_type": "code",
      "source": [
        "\n",
        "# List is mutable , whereas a tuple is immutable.\n",
        "\n",
        "\n",
        "ls = [1,2,4,5,6,7]\n",
        "\n",
        "print(ls)\n",
        "\n",
        "ls[1] = 20\n",
        "print(ls)\n",
        "\n"
      ],
      "metadata": {
        "colab": {
          "base_uri": "https://localhost:8080/"
        },
        "id": "lZQR2me2Pj_Y",
        "outputId": "85cb66fa-728a-4eb8-a29d-ab83393fb3ce"
      },
      "execution_count": 40,
      "outputs": [
        {
          "output_type": "stream",
          "name": "stdout",
          "text": [
            "[1, 2, 4, 5, 6, 7]\n",
            "[1, 20, 4, 5, 6, 7]\n"
          ]
        }
      ]
    },
    {
      "cell_type": "code",
      "source": [
        "# delete element\n",
        "\n",
        "print(ls)\n",
        "del ls[0]\n",
        "\n",
        "print(ls)\n"
      ],
      "metadata": {
        "colab": {
          "base_uri": "https://localhost:8080/"
        },
        "id": "uSJXBxtjPj7-",
        "outputId": "e140f24d-5130-43f3-ea3d-be776b6df1db"
      },
      "execution_count": 41,
      "outputs": [
        {
          "output_type": "stream",
          "name": "stdout",
          "text": [
            "[1, 20, 4, 5, 6, 7]\n",
            "[20, 4, 5, 6, 7]\n"
          ]
        }
      ]
    },
    {
      "cell_type": "code",
      "source": [
        "# Do same operations as above on Tuple\n",
        "\n",
        "tup = (1,2,3,4,5,6)\n",
        "print(tup)\n",
        "\n",
        "#tup[1]=20\n",
        "#print(tup)\n",
        "\n",
        "# TypeError: 'tuple' object does not support item assignment\n"
      ],
      "metadata": {
        "colab": {
          "base_uri": "https://localhost:8080/"
        },
        "id": "A7YaKWz-Pj5i",
        "outputId": "bd3f9558-58e2-4870-d255-109cc07b98b3"
      },
      "execution_count": 43,
      "outputs": [
        {
          "output_type": "stream",
          "name": "stdout",
          "text": [
            "(1, 2, 3, 4, 5, 6)\n"
          ]
        }
      ]
    },
    {
      "cell_type": "code",
      "source": [
        "# delete element\n",
        "\n",
        "#del tup[0]\n",
        "# TypeError: 'tuple' object doesn't support item deletion\n",
        "\n",
        "# we cannot delete single element but we can delete entire tuple\n",
        "\n",
        "tup = (1,2,3,4,5,6)\n",
        "print(tup)\n",
        "\n",
        "del tup\n",
        "\n"
      ],
      "metadata": {
        "colab": {
          "base_uri": "https://localhost:8080/"
        },
        "id": "FaugPUwfPj2b",
        "outputId": "77bdf2c7-b8e1-4fe4-a7e3-5bda78270ba1"
      },
      "execution_count": 49,
      "outputs": [
        {
          "output_type": "stream",
          "name": "stdout",
          "text": [
            "(1, 2, 3, 4, 5, 6)\n"
          ]
        }
      ]
    },
    {
      "cell_type": "code",
      "source": [
        "\"\"\"\n",
        "Functions can be used for both List and Tuple:-\n",
        "\n",
        "len()\n",
        "max()\n",
        "min()\n",
        "sum()\n",
        "all()\n",
        "sorted()\n",
        "\n",
        "Methods cannot be used for Tuples:-\n",
        "\n",
        "append()\n",
        "insert()\n",
        "remove()\n",
        "pop()\n",
        "clear()\n",
        "sort()\n",
        "reverse()\n",
        "\n",
        "Tuples can be stored in Lists\n",
        "Lists can be stored in Tuples\n",
        "\n",
        "Both Lists and Tuples can be nested\n",
        "\n",
        "1.) we generally use tuples for heterogeneous (different)\n",
        "data types and lists for homogeneous(similar) data types\n",
        "\n",
        "2.) Iterating through a tupls is faster than with list\n",
        "\n",
        "3.) Tuples that contain immutable elements can be used\n",
        "as a key for dictionary\n",
        "\n",
        "4.) If data that does not change, implementing it as tuple\n",
        "will guarantee that it remains write protected.\n",
        "\n",
        "\"\"\"\n",
        "\n"
      ],
      "metadata": {
        "colab": {
          "base_uri": "https://localhost:8080/",
          "height": 72
        },
        "id": "bwEm60YBPj0A",
        "outputId": "370e41b6-60ba-46e8-8a88-cfefa8644753"
      },
      "execution_count": 50,
      "outputs": [
        {
          "output_type": "execute_result",
          "data": {
            "text/plain": [
              "'\\nFunctions can be used for both List and Tuple:-\\n\\nlen()\\nmax()\\nmin()\\nsum()\\nall()\\nsorted()\\n\\nMethods cannot be used for Tuples:-\\n\\nappend()\\ninsert()\\nremove()\\npop()\\nclear()\\nsort()\\nreverse()\\n\\nTuples can be stored in Lists\\nLists can be stored in Tuples\\n\\n'"
            ],
            "application/vnd.google.colaboratory.intrinsic+json": {
              "type": "string"
            }
          },
          "metadata": {},
          "execution_count": 50
        }
      ]
    },
    {
      "cell_type": "code",
      "source": [
        "\"\"\"\n",
        "\n",
        "1.) Creating a Tuple\n",
        "\n",
        "Time Complexity:- O(1)\n",
        "Space Complexity:- O(n)\n",
        "\n",
        "2.) Traversing a given Tuple\n",
        "\n",
        "Time Complexity:- O(n)\n",
        "Space Complexity:- O(1)\n",
        "\n",
        "3.) Accessing a given element\n",
        "\n",
        "Time Complexity:- O(1)\n",
        "Space Complexity:- O(1)\n",
        "\n",
        "4.) Searching a given element\n",
        "\n",
        "Time Complexity:- O(n)\n",
        "Space Complexity:- O(1)\n",
        "\n",
        "\n",
        "\"\"\""
      ],
      "metadata": {
        "id": "kdKzw_zuPjZM"
      },
      "execution_count": null,
      "outputs": []
    },
    {
      "cell_type": "code",
      "source": [],
      "metadata": {
        "id": "0hQjMcq48SxW"
      },
      "execution_count": 5,
      "outputs": []
    },
    {
      "cell_type": "code",
      "source": [],
      "metadata": {
        "id": "8qwOYXci8StA"
      },
      "execution_count": 5,
      "outputs": []
    },
    {
      "cell_type": "code",
      "execution_count": 5,
      "metadata": {
        "id": "vl77sDS6_H6D"
      },
      "outputs": [],
      "source": []
    }
  ]
}