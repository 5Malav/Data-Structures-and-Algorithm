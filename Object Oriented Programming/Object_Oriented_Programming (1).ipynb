{
  "cells": [
    {
      "cell_type": "markdown",
      "metadata": {
        "id": "wxCx_UkH0X1q"
      },
      "source": [
        "# Class and Objects\n",
        "\n",
        "->Object-Oriented Programming (OOP) is a programming paradigm that uses \"Object\" to design applications and computer programms.\n",
        "\n",
        "->OOP allows for modeling real-world scenarios using classes and objects.\n",
        "\n",
        "->A class is a user defined blueprint or prototype from which objects are created.\n",
        "\n",
        "->Classes provide a means of budling data and functionally together. Creating a new class creates a new type of object, allowing new instance of that type to be made.\n",
        "\n",
        "->Each class instance can have attributes attached to it for maintaining its state. Class instances can also have methods (defined by their class) for modifying their state.\n",
        "\n",
        "->An object is an instance of a class. It is create based on the structure defined in the class and can use the methods and access the attributes of that class.\n"
      ]
    },
    {
      "cell_type": "code",
      "execution_count": 1,
      "metadata": {
        "colab": {
          "base_uri": "https://localhost:8080/"
        },
        "id": "c0W7xVhaUHMf",
        "outputId": "1022084e-9ab1-40fe-d655-826de4a23de9"
      },
      "outputs": [
        {
          "output_type": "stream",
          "name": "stdout",
          "text": [
            "<class '__main__.Car'>\n"
          ]
        }
      ],
      "source": [
        "# A class is blue print for creating objects, attributes and methods.\n",
        "\n",
        "class Car:\n",
        "    pass\n",
        "\n",
        "# object instantiation\n",
        "\n",
        "audi = Car()\n",
        "bmw = Car()\n",
        "\n",
        "print(type(audi))\n",
        "\n"
      ]
    },
    {
      "cell_type": "code",
      "execution_count": 2,
      "metadata": {
        "colab": {
          "base_uri": "https://localhost:8080/"
        },
        "id": "oUlxkLVNUHJO",
        "outputId": "4111467a-5984-4c53-d69b-672a91c69695"
      },
      "outputs": [
        {
          "output_type": "stream",
          "name": "stdout",
          "text": [
            "<__main__.Car object at 0x79b7342bf580>\n",
            "<__main__.Car object at 0x79b7342bfa90>\n"
          ]
        }
      ],
      "source": [
        "print(audi)\n",
        "print(bmw)"
      ]
    },
    {
      "cell_type": "code",
      "execution_count": 3,
      "metadata": {
        "colab": {
          "base_uri": "https://localhost:8080/"
        },
        "id": "ZQ4hTcKw2tU4",
        "outputId": "d9c594d1-79b5-4984-a210-b457234958b3"
      },
      "outputs": [
        {
          "output_type": "stream",
          "name": "stdout",
          "text": [
            "4\n"
          ]
        }
      ],
      "source": [
        "# Attribute\n",
        "audi.windows=4\n",
        "print(audi.windows)\n",
        "\n",
        "# this is not a proper way to define attribute...."
      ]
    },
    {
      "cell_type": "code",
      "execution_count": 4,
      "metadata": {
        "colab": {
          "base_uri": "https://localhost:8080/"
        },
        "id": "QfikviJu3FTX",
        "outputId": "dd739fee-1515-4d65-a297-85964bfdeef4"
      },
      "outputs": [
        {
          "output_type": "execute_result",
          "data": {
            "text/plain": [
              "['__class__',\n",
              " '__delattr__',\n",
              " '__dict__',\n",
              " '__dir__',\n",
              " '__doc__',\n",
              " '__eq__',\n",
              " '__format__',\n",
              " '__ge__',\n",
              " '__getattribute__',\n",
              " '__gt__',\n",
              " '__hash__',\n",
              " '__init__',\n",
              " '__init_subclass__',\n",
              " '__le__',\n",
              " '__lt__',\n",
              " '__module__',\n",
              " '__ne__',\n",
              " '__new__',\n",
              " '__reduce__',\n",
              " '__reduce_ex__',\n",
              " '__repr__',\n",
              " '__setattr__',\n",
              " '__sizeof__',\n",
              " '__str__',\n",
              " '__subclasshook__',\n",
              " '__weakref__',\n",
              " 'windows']"
            ]
          },
          "metadata": {},
          "execution_count": 4
        }
      ],
      "source": [
        "dir(audi)"
      ]
    },
    {
      "cell_type": "code",
      "execution_count": 5,
      "metadata": {
        "colab": {
          "base_uri": "https://localhost:8080/",
          "height": 87
        },
        "id": "jcAhYZYt3kJ_",
        "outputId": "7d374424-2c02-487d-ff00-06c1d9da3194"
      },
      "outputs": [
        {
          "output_type": "execute_result",
          "data": {
            "text/plain": [
              "\"\\nA constructor is a special method called __init__() that is used to initialize a newly created object.\\nIt is automatically called when an object of a class is instantiated.\\nThe __init__() method allows to initialize\\nthe attributes of the object with specific values when the object is created.\\n\\n# Example\\nclass MyClass:\\n    def __init__(self, param1, param2):\\n        # Initializing object attributes\\n        self.param1 = param1\\n        self.param2 = param2\\n\\nKey Points:\\n1.) __init__(self, ...) is the constructor.\\n\\n2.) The self parameter refers to the instance of the object being created.\\n\\n3.) You can pass additional arguments to the __init__() method,\\nwhich are used to set the initial values of the object's attributes.\\n\\nself:- A keyword we use to access the instance variable inside class\\nwhenever we create an object\\n\""
            ],
            "application/vnd.google.colaboratory.intrinsic+json": {
              "type": "string"
            }
          },
          "metadata": {},
          "execution_count": 5
        }
      ],
      "source": [
        "\"\"\"\n",
        "A constructor is a special method called __init__() that is used to initialize a newly created object.\n",
        "It is automatically called when an object of a class is instantiated.\n",
        "The __init__() method allows to initialize\n",
        "the attributes of the object with specific values when the object is created.\n",
        "\n",
        "# Example\n",
        "class MyClass:\n",
        "    def __init__(self, param1, param2):\n",
        "        # Initializing object attributes\n",
        "        self.param1 = param1\n",
        "        self.param2 = param2\n",
        "\n",
        "Key Points:\n",
        "1.) __init__(self, ...) is the constructor.\n",
        "\n",
        "2.) The self parameter refers to the instance of the object being created.\n",
        "\n",
        "3.) You can pass additional arguments to the __init__() method,\n",
        "which are used to set the initial values of the object's attributes.\n",
        "\n",
        "self:- A keyword we use to access the instance variable inside class\n",
        "whenever we create an object\n",
        "\"\"\""
      ]
    },
    {
      "cell_type": "code",
      "execution_count": 6,
      "metadata": {
        "colab": {
          "base_uri": "https://localhost:8080/"
        },
        "id": "zfAaWQc2UHGG",
        "outputId": "e6bf2a22-8cc1-4776-948e-1b8c828500f5"
      },
      "outputs": [
        {
          "output_type": "stream",
          "name": "stdout",
          "text": [
            "<__main__.Dog object at 0x79b7342bf940>\n",
            "maya\n",
            "2\n"
          ]
        }
      ],
      "source": [
        "# instance variable and methods\n",
        "\n",
        "class Dog: # blueprint\n",
        "\n",
        "    # Contructor method\n",
        "\n",
        "    def __init__(self,name,age):\n",
        "\n",
        "        #instance variable.(Properties available inside Dog Class)\n",
        "        self.name=name\n",
        "        self.age=age\n",
        "\n",
        "        # self.name is instance varible that is available in dog class.\n",
        "        # name is the parameter that we are passing to create the object.\n",
        "        # if we are adding 2 parameter in constructor variable then\n",
        "        # we can create only 2 instance variable.\n",
        "\n",
        "#create objects\n",
        "dog1=Dog(\"maya\",2)\n",
        "\n",
        "print(dog1)\n",
        "print(dog1.name)\n",
        "print(dog1.age)\n",
        "\n"
      ]
    },
    {
      "cell_type": "code",
      "execution_count": 7,
      "metadata": {
        "colab": {
          "base_uri": "https://localhost:8080/"
        },
        "id": "Z2nTA57UUHDY",
        "outputId": "c2eed81c-f34d-476b-b3b2-c6a9d9d09e67"
      },
      "outputs": [
        {
          "output_type": "stream",
          "name": "stdout",
          "text": [
            "Buddy says woof\n",
            "Lucy says woof\n"
          ]
        }
      ],
      "source": [
        "# Define a class with instance method\n",
        "\n",
        "\n",
        "class Dog:\n",
        "\n",
        "    def __init__(self,name,age):\n",
        "\n",
        "        self.name=name\n",
        "        self.age=age\n",
        "\n",
        "    #A sample method\n",
        "    def bark(self):\n",
        "        print(f\"{self.name} says woof\")\n",
        "\n",
        "dog1=Dog(\"Buddy\",3)\n",
        "dog1.bark()\n",
        "\n",
        "dog2=Dog(\"Lucy\",2)\n",
        "dog2.bark()\n",
        "\n"
      ]
    },
    {
      "cell_type": "code",
      "execution_count": 8,
      "metadata": {
        "colab": {
          "base_uri": "https://localhost:8080/"
        },
        "id": "Rj7Bgsp_UHAr",
        "outputId": "764eba0f-ac06-4b8f-bbef-e62aa9da68d0"
      },
      "outputs": [
        {
          "output_type": "stream",
          "name": "stdout",
          "text": [
            "5000\n",
            "Malav\n"
          ]
        }
      ],
      "source": [
        "# Modeling a Bank Account\n",
        "\n",
        "# Define a class for bank account\n",
        "\n",
        "class BankAccount:\n",
        "\n",
        "    # create a contructor with owner and balance parameter.\n",
        "    def __init__(self,owner,balance=0):\n",
        "\n",
        "        # instance variables\n",
        "        self.owner=owner\n",
        "        self.balance=balance\n",
        "\n",
        "    # define a deposit method\n",
        "    def deposit(self,amount):\n",
        "\n",
        "        self.balance+=amount\n",
        "        print(f\"{amount} is deposited. New balance is {self.balance}\")\n",
        "\n",
        "    # define a withdraw method]\n",
        "    def withdraw(self,amount):\n",
        "        if amount>self.balance:\n",
        "            print(\"Insufficient funds!!!\")\n",
        "        else:\n",
        "            self.balance-=amount\n",
        "            print(f\"{amount} is withdrawn. New balance is {self.balance}\")\n",
        "\n",
        "    # define a balance method\n",
        "    def get_balance(self):\n",
        "        print(f\"Available balance is:- {self.balance}\")\n",
        "\n",
        "# create an object\n",
        "\n",
        "account = BankAccount(\"Malav\",5000)\n",
        "print(account.balance)\n",
        "print(account.owner)\n"
      ]
    },
    {
      "cell_type": "code",
      "execution_count": 9,
      "metadata": {
        "colab": {
          "base_uri": "https://localhost:8080/"
        },
        "id": "RCrxPyHPUG-S",
        "outputId": "53c08709-ffef-447e-c53b-c03ff3090145"
      },
      "outputs": [
        {
          "output_type": "stream",
          "name": "stdout",
          "text": [
            "1000 is deposited. New balance is 6000\n"
          ]
        }
      ],
      "source": [
        "# call instance methods\n",
        "\n",
        "account.deposit(1000)\n"
      ]
    },
    {
      "cell_type": "code",
      "execution_count": 10,
      "metadata": {
        "colab": {
          "base_uri": "https://localhost:8080/"
        },
        "id": "LA-rH8ohUG7N",
        "outputId": "fa3d351c-a671-4045-de4b-a919176a80f5"
      },
      "outputs": [
        {
          "output_type": "stream",
          "name": "stdout",
          "text": [
            "2000 is withdrawn. New balance is 4000\n"
          ]
        }
      ],
      "source": [
        "account.withdraw(2000)"
      ]
    },
    {
      "cell_type": "code",
      "execution_count": 11,
      "metadata": {
        "colab": {
          "base_uri": "https://localhost:8080/"
        },
        "id": "rg-eGI94UG4t",
        "outputId": "b120b7d5-5413-49d5-a81b-cac617e3bfe8"
      },
      "outputs": [
        {
          "output_type": "stream",
          "name": "stdout",
          "text": [
            "Available balance is:- 4000\n",
            "None\n"
          ]
        }
      ],
      "source": [
        "print(account.get_balance())"
      ]
    },
    {
      "cell_type": "markdown",
      "metadata": {
        "id": "IL2wEQpPN9A6"
      },
      "source": [
        "# Inheritance in OOPs\n",
        "\n",
        "->One of the core concept in object oriented programming language is inheritance.\n",
        "\n",
        "->It is a mechanism that allows us to create a hirerarchy of classes that share a set of properties and methods by deriving a class from another class.\n",
        "\n",
        "->Inheritance is the capability of one class to derive or inherit the properties from another class.\n"
      ]
    },
    {
      "cell_type": "code",
      "execution_count": 12,
      "metadata": {
        "id": "4l1ePenHUG2B"
      },
      "outputs": [],
      "source": [
        "# Parent class\n",
        "\n",
        "class Car:\n",
        "\n",
        "    def __init__(self,windows,doors,enginetype):\n",
        "\n",
        "        self.windows=windows\n",
        "        self.doors=doors\n",
        "        self.enginetype=enginetype\n",
        "\n",
        "    # method\n",
        "    def drive(self):\n",
        "        print(f\"The person will drive the {self.enginetype} car\")\n",
        "\n",
        "\n"
      ]
    },
    {
      "cell_type": "code",
      "execution_count": 13,
      "metadata": {
        "colab": {
          "base_uri": "https://localhost:8080/"
        },
        "id": "TZvf72WgUGzf",
        "outputId": "d63e5c01-5667-4455-a9cd-bd73fed6bda8"
      },
      "outputs": [
        {
          "output_type": "stream",
          "name": "stdout",
          "text": [
            "<__main__.Car object at 0x79b7271f4460>\n",
            "The person will drive the petrol car\n",
            "None\n"
          ]
        }
      ],
      "source": [
        "car1= Car(4,5,\"petrol\")\n",
        "print(car1)\n",
        "print(car1.drive())"
      ]
    },
    {
      "cell_type": "code",
      "execution_count": 14,
      "metadata": {
        "id": "yy_nhgZNUGw4"
      },
      "outputs": [],
      "source": [
        "# inherite properties of Car class\n",
        "# single inheritance\n",
        "\n",
        "class Tesla(Car):\n",
        "\n",
        "    def __init__(self,windows,doors,enginetype,is_selfdriving):\n",
        "\n",
        "        # trying to call parent class\n",
        "        super().__init__(windows,doors,enginetype)\n",
        "        self.is_selfdriving=is_selfdriving\n",
        "\n",
        "    def selfdriving(self):\n",
        "        print(f\"Tesla supports self driving: {self.is_selfdriving}\")\n",
        "\n"
      ]
    },
    {
      "cell_type": "code",
      "execution_count": 15,
      "metadata": {
        "colab": {
          "base_uri": "https://localhost:8080/"
        },
        "id": "1RULmRGXUGug",
        "outputId": "c904126b-2b08-4a35-ad9f-7ffeafab4839"
      },
      "outputs": [
        {
          "output_type": "stream",
          "name": "stdout",
          "text": [
            "Tesla supports self driving: True\n",
            "None\n"
          ]
        }
      ],
      "source": [
        "tesla1=Tesla(4,5,\"Electric\",True)\n",
        "print(tesla1.selfdriving())\n",
        "\n"
      ]
    },
    {
      "cell_type": "code",
      "execution_count": 16,
      "metadata": {
        "colab": {
          "base_uri": "https://localhost:8080/"
        },
        "id": "UGd1ZdxfUGrl",
        "outputId": "ffb88092-84a1-42ec-a065-01ba4c3223e4"
      },
      "outputs": [
        {
          "output_type": "stream",
          "name": "stdout",
          "text": [
            "The person will drive the Electric car\n"
          ]
        }
      ],
      "source": [
        "tesla1.drive()"
      ]
    },
    {
      "cell_type": "code",
      "execution_count": 17,
      "metadata": {
        "id": "ILtS_CZnUGpK"
      },
      "outputs": [],
      "source": [
        "# Multiple Inheritance.\n",
        "\n",
        "# When a class can be derived from more than one base class this\n",
        "# type of inheritance is called multiple inheritance.\n",
        "\n",
        "# In multiple inheritance all the features of the base classes\n",
        "# are inherited into the derived class.\n",
        "\n",
        "# Base class 1\n",
        "class Animal:\n",
        "\n",
        "    def __init__(self,name):\n",
        "        self.name=name\n",
        "\n",
        "    def speak(self):\n",
        "        print(f\"Subclasses must implement this method\")\n",
        "\n",
        "# Base class 2\n",
        "\n",
        "class Pet:\n",
        "\n",
        "    def __init__(self,owner):\n",
        "        self.owner=owner\n"
      ]
    },
    {
      "cell_type": "code",
      "execution_count": 18,
      "metadata": {
        "id": "EEcFAkNPUGmq"
      },
      "outputs": [],
      "source": [
        "# Dervied Class\n",
        "\n",
        "class Dog(Animal,Pet):\n",
        "\n",
        "    def __init__(self,name,owner):\n",
        "        Animal.__init__(self,name)\n",
        "        Pet.__init__(self,owner)\n",
        "\n",
        "    def speak(self):\n",
        "        return f\"{self.name} say woof\"\n"
      ]
    },
    {
      "cell_type": "code",
      "execution_count": 19,
      "metadata": {
        "colab": {
          "base_uri": "https://localhost:8080/"
        },
        "id": "9bGGnzt8KhUv",
        "outputId": "259781dc-e830-4660-b8bd-7637d525baed"
      },
      "outputs": [
        {
          "output_type": "stream",
          "name": "stdout",
          "text": [
            "MJ say woof\n",
            "owner: Malav\n"
          ]
        }
      ],
      "source": [
        "# create an object\n",
        "\n",
        "dog=Dog(\"MJ\",\"Malav\")\n",
        "print(dog.speak())\n",
        "\n",
        "print(f\"owner: {dog.owner}\")"
      ]
    },
    {
      "cell_type": "markdown",
      "metadata": {
        "id": "JioOEQ5ZPNGY"
      },
      "source": [
        "# Polymorphism in OOPs\n",
        "\n",
        "-> Polymorphism is a concept in OOP that allows one function,method, or object to behave in different ways depending on the context.\n",
        "\n",
        "-> In Python Polymorphism lets us defined methods in the child class that have the same name as the methods in the parent class.\n",
        "\n",
        "->In Inheritance the child class inherits the methods from the parent class. However it is possible to modify a method in a child class that it has inherited from the parent class.\n",
        "\n",
        "Key Type of Polymorphism:-\n",
        "\n",
        "1.) Method Overriding:\n",
        "This is when a method in a child class has the same name as a method in the parent class, but the method in the child class provide a specific implementation.\n",
        "\n",
        "2.) Method Overloading:\n",
        "This is when a function or method has the same name but can accept different types or number of arguments.\n",
        "\n",
        "However, Python does not support traditional method overloading like other languages but we can mimic with default arguments.\n",
        "\n"
      ]
    },
    {
      "cell_type": "code",
      "execution_count": 20,
      "metadata": {
        "id": "idR0Iu4QKhSi"
      },
      "outputs": [],
      "source": [
        "# Method Overriding\n",
        "\n",
        "# Method overriding allows a child class to provide a specific implementation\n",
        "# of a method that is already defined in its parent class.\n",
        "\n",
        "\n"
      ]
    },
    {
      "cell_type": "code",
      "execution_count": 21,
      "metadata": {
        "colab": {
          "base_uri": "https://localhost:8080/"
        },
        "id": "wUZIalyLKhPw",
        "outputId": "20b15f3b-b7ab-4bea-bc70-060fc508e020"
      },
      "outputs": [
        {
          "output_type": "stream",
          "name": "stdout",
          "text": [
            "Woof!\n",
            "Meow!\n",
            "Woof!\n"
          ]
        }
      ],
      "source": [
        "# Base class\n",
        "\n",
        "class Animal:\n",
        "\n",
        "    def speak(self):\n",
        "        return \"Sound of an animal.\"\n",
        "\n",
        "\n",
        "# Derived class\n",
        "\n",
        "class Dog(Animal):\n",
        "\n",
        "    def speak(self):\n",
        "        return \"Woof!\"\n",
        "\n",
        "# Deriver class\n",
        "\n",
        "class Cat(Animal):\n",
        "\n",
        "    def speak(self):\n",
        "        return \"Meow!\"\n",
        "\n",
        "# Function that demonstrate polymorphism\n",
        "\n",
        "def animal_speak(animal):\n",
        "    print(animal.speak())\n",
        "\n",
        "\n",
        "\n",
        "dog= Dog()\n",
        "print(dog.speak())\n",
        "\n",
        "cat= Cat()\n",
        "print(cat.speak())\n",
        "\n",
        "animal_speak(dog)\n"
      ]
    },
    {
      "cell_type": "code",
      "execution_count": 22,
      "metadata": {
        "colab": {
          "base_uri": "https://localhost:8080/"
        },
        "id": "a13zW8avKhNb",
        "outputId": "157a5287-0002-44ad-8529-4ef1feea029b"
      },
      "outputs": [
        {
          "output_type": "stream",
          "name": "stdout",
          "text": [
            "The area is 20\n",
            "The area is 28.259999999999998\n"
          ]
        }
      ],
      "source": [
        "# polymorphism with functions and methods\n",
        "\n",
        "# base class\n",
        "\n",
        "class Shape:\n",
        "\n",
        "    def area(self):\n",
        "        return \"The area of the figure\"\n",
        "\n",
        "# Derived class 1\n",
        "\n",
        "class Rectangle(Shape):\n",
        "\n",
        "    def __init__(self,width,height):\n",
        "        self.width=width\n",
        "        self.height=height\n",
        "\n",
        "    def area(self):\n",
        "        return self.width*self.height\n",
        "\n",
        "# derived class 2\n",
        "\n",
        "class Circle(Shape):\n",
        "\n",
        "    def __init__(self,radius):\n",
        "        self.radius=radius\n",
        "\n",
        "    def area(self):\n",
        "        return 3.14*self.radius*self.radius\n",
        "\n",
        "# Function that demonstrate polymorphism\n",
        "\n",
        "def print_area(shape):\n",
        "    print(f\"The area is {shape.area()}\")\n",
        "\n",
        "\n",
        "rectangle= Rectangle(4,5)\n",
        "circle=Circle(3)\n",
        "\n",
        "print_area(rectangle)\n",
        "print_area(circle)"
      ]
    },
    {
      "cell_type": "code",
      "execution_count": 23,
      "metadata": {
        "colab": {
          "base_uri": "https://localhost:8080/"
        },
        "id": "8_dVuJkzKhLC",
        "outputId": "5a658dc5-e22a-4406-9a4d-9241a063eb66"
      },
      "outputs": [
        {
          "output_type": "stream",
          "name": "stdout",
          "text": [
            "Car engine started\n"
          ]
        }
      ],
      "source": [
        "# Polymorphism with Abstract base classes\n",
        "\n",
        "# Abstract Base Classes are used to define common methods for a group of\n",
        "# related objects.\n",
        "# They can enforce that derived classes implement particular methods,\n",
        "# prmoting consistency across different implementations.\n",
        "\n",
        "from abc import ABC,abstractmethod\n",
        "\n",
        "# define abstract class\n",
        "\n",
        "class Vehicle(ABC):\n",
        "    @abstractmethod\n",
        "\n",
        "    def start_engine(self):\n",
        "        pass\n",
        "\n",
        "# derived class\n",
        "\n",
        "class Car(Vehicle):\n",
        "    def start_engine(self):\n",
        "        return \"Car engine started\"\n",
        "\n",
        "# derived class\n",
        "\n",
        "class Motorcycle(Vehicle):\n",
        "    def start_engine(self):\n",
        "       return \"Motocycle engine started\"\n",
        "\n",
        "# Function that demonstrate polymorphism\n",
        "\n",
        "def start_vehicle(Vehicle):\n",
        "    print(Vehicle.start_engine())\n",
        "\n",
        "# create object of car and motorcycle\n",
        "\n",
        "car =Car()\n",
        "motorcycle=Motorcycle()\n",
        "\n",
        "start_vehicle(car)\n"
      ]
    },
    {
      "cell_type": "markdown",
      "metadata": {
        "id": "UQJkbSt55Bg2"
      },
      "source": [
        "# Encapsulation and Abstraction\n",
        "\n",
        "-> Encapsulation and abstraction are two fundamental principles of object oriented programming that help in designing robuts, maintainable and resuable code.\n",
        "\n",
        "-> Encapsulation involves bundiling data and methods that operate on the data within a single unit, while abstraction involves hiding complex implementation details and exposing only the necessary features.\n",
        "\n"
      ]
    },
    {
      "cell_type": "markdown",
      "metadata": {
        "id": "66M5Nekl-_uI"
      },
      "source": [
        "# Encapsulation\n",
        "\n",
        "-> Encapsulation is the concept of wrapping data(variables) and methods(functions) together as a single unit. It resticts direct access to some of the object's components , which is a mean of preventing accidental interference and misuse of the data.\n",
        "\n",
        "-> Consider a real life example of encapsulation in a company there are different sections like the accounts section, finance section, sales section etc.\n",
        "\n",
        "-> The finance section handles all the financial transactions and keeps records of all the data related to finance.\n",
        "\n",
        "-> Similarly the sales section handles all the sales related activities and keep the record of all all the sales.\n",
        "\n",
        "-> now there any arise a situation when due to some reason an official from the finance section needs all the data about sales in a particular month.\n",
        "\n",
        "-> In this case,A person is not allowed to directly access the data of the sales section. He will have to contact some other officer in the sales section and then request him to give the particular data. This is what Encapsulation is.\n",
        "\n",
        "-> Here, the data of the sales and the employees that can manipulate them are wrapped under a single name \"sales section\".\n",
        "\n",
        "-> Using Encapsulation also hides the data. In this example, the data of the sections like sales, finance or accounts are hidden from any other section.\n",
        "\n"
      ]
    },
    {
      "cell_type": "code",
      "execution_count": 24,
      "metadata": {
        "colab": {
          "base_uri": "https://localhost:8080/",
          "height": 70
        },
        "id": "nRH3wPi7KhIX",
        "outputId": "90abd1be-fd29-4f29-9e3c-4f90d6b55e16"
      },
      "outputs": [
        {
          "output_type": "stream",
          "name": "stdout",
          "text": [
            "Malav\n",
            "28\n"
          ]
        },
        {
          "output_type": "execute_result",
          "data": {
            "text/plain": [
              "'Malav'"
            ],
            "application/vnd.google.colaboratory.intrinsic+json": {
              "type": "string"
            }
          },
          "metadata": {},
          "execution_count": 24
        }
      ],
      "source": [
        "# Encapsulation with getter and setter methods\n",
        "\n",
        "# Public,Protected and Private variables or Access Modifiers\n",
        "\n",
        "class Person:\n",
        "\n",
        "    def __init__(self,name,age):\n",
        "        self.name=name #Public Variables\n",
        "        self.age=age    #Publiv Variables:- we use this variable outside of this class\n",
        "\n",
        "\n",
        "# use class variable outside class\n",
        "\n",
        "def get_name(person):\n",
        "    return person.name\n",
        "\n",
        "person =Person(\"Malav\",28)\n",
        "print(person.name)\n",
        "print(person.age)\n",
        "\n",
        "\n",
        "get_name(person)"
      ]
    },
    {
      "cell_type": "code",
      "execution_count": 25,
      "metadata": {
        "colab": {
          "base_uri": "https://localhost:8080/"
        },
        "id": "JZq2PDTdKhFc",
        "outputId": "6b3974a3-2694-4f97-82ae-de7a84672782"
      },
      "outputs": [
        {
          "output_type": "execute_result",
          "data": {
            "text/plain": [
              "['__class__',\n",
              " '__delattr__',\n",
              " '__dict__',\n",
              " '__dir__',\n",
              " '__doc__',\n",
              " '__eq__',\n",
              " '__format__',\n",
              " '__ge__',\n",
              " '__getattribute__',\n",
              " '__gt__',\n",
              " '__hash__',\n",
              " '__init__',\n",
              " '__init_subclass__',\n",
              " '__le__',\n",
              " '__lt__',\n",
              " '__module__',\n",
              " '__ne__',\n",
              " '__new__',\n",
              " '__reduce__',\n",
              " '__reduce_ex__',\n",
              " '__repr__',\n",
              " '__setattr__',\n",
              " '__sizeof__',\n",
              " '__str__',\n",
              " '__subclasshook__',\n",
              " '__weakref__',\n",
              " 'age',\n",
              " 'name']"
            ]
          },
          "metadata": {},
          "execution_count": 25
        }
      ],
      "source": [
        "dir(person) # we can see our variable at the end of the list\n",
        "# these variable are called public variables.\n"
      ]
    },
    {
      "cell_type": "code",
      "execution_count": 26,
      "metadata": {
        "colab": {
          "base_uri": "https://localhost:8080/"
        },
        "id": "1dbTvdA4KhC8",
        "outputId": "1d408146-0197-45c8-e17c-bbe1594324d9"
      },
      "outputs": [
        {
          "output_type": "stream",
          "name": "stdout",
          "text": [
            "Male\n"
          ]
        }
      ],
      "source": [
        "# Private variable\n",
        "\n",
        "class Person:\n",
        "\n",
        "    def __init__(self,name,age,gender):\n",
        "        self.__name=name  # Private Variable\n",
        "        self.__age=age    # Private Variable\n",
        "        self.gender=gender # Public Variable\n",
        "\n",
        "\n",
        "\n",
        "def get_name(person):\n",
        "    return person.__name\n",
        "\n",
        "person =Person(\"Malav\",28,\"Male\")\n",
        "\n",
        "\n",
        "# get_name(person)\n",
        "# AttributeError: 'Person' object has no attribute '__name'\n",
        "# Private variable cannot be accessed from outside the class\n",
        "\n",
        "print(person.gender)\n",
        "\n",
        "# print(person.name)\n",
        "# AttributeError: 'Person' object has no attribute 'name'#\n",
        "\n",
        "# print(person.age)\n",
        "# AttributeError: 'Person' object has no attribute 'age'\n",
        "\n"
      ]
    },
    {
      "cell_type": "code",
      "execution_count": 27,
      "metadata": {
        "colab": {
          "base_uri": "https://localhost:8080/"
        },
        "id": "ze_Fi02WKhAR",
        "outputId": "bb952083-8126-4f14-dfec-907b40a6212c"
      },
      "outputs": [
        {
          "output_type": "execute_result",
          "data": {
            "text/plain": [
              "['_Person__age',\n",
              " '_Person__name',\n",
              " '__class__',\n",
              " '__delattr__',\n",
              " '__dict__',\n",
              " '__dir__',\n",
              " '__doc__',\n",
              " '__eq__',\n",
              " '__format__',\n",
              " '__ge__',\n",
              " '__getattribute__',\n",
              " '__gt__',\n",
              " '__hash__',\n",
              " '__init__',\n",
              " '__init_subclass__',\n",
              " '__le__',\n",
              " '__lt__',\n",
              " '__module__',\n",
              " '__ne__',\n",
              " '__new__',\n",
              " '__reduce__',\n",
              " '__reduce_ex__',\n",
              " '__repr__',\n",
              " '__setattr__',\n",
              " '__sizeof__',\n",
              " '__str__',\n",
              " '__subclasshook__',\n",
              " '__weakref__',\n",
              " 'gender']"
            ]
          },
          "metadata": {},
          "execution_count": 27
        }
      ],
      "source": [
        "dir(person) # gender can be seen in public variable but name and age is not in the list."
      ]
    },
    {
      "cell_type": "code",
      "execution_count": 28,
      "metadata": {
        "colab": {
          "base_uri": "https://localhost:8080/"
        },
        "id": "1TATez9uKg9W",
        "outputId": "6adc3695-aa5a-4d21-93f9-05d77b078f43"
      },
      "outputs": [
        {
          "output_type": "stream",
          "name": "stdout",
          "text": [
            "Malav\n"
          ]
        }
      ],
      "source": [
        "# Protected variable\n",
        "# It cannot be accessed outside the class but,\n",
        "# it can  be accessed from a dervied class.\n",
        "\n",
        "class Person:\n",
        "\n",
        "    def __init__(self,name,age,gender):\n",
        "        self._name=name  # Protected Variable\n",
        "        self._age=age    # Protected Variable\n",
        "        self.gender=gender # Public Variable\n",
        "\n",
        "class Employee(Person):\n",
        "    def __init__(self, name, age, gender):\n",
        "        super().__init__(name, age, gender)\n",
        "\n",
        "employee = Employee(\"Malav\",28,\"Male\")\n",
        "print(employee._name)\n",
        "\n"
      ]
    },
    {
      "cell_type": "code",
      "execution_count": 29,
      "metadata": {
        "id": "S35Pw4yXKg60",
        "colab": {
          "base_uri": "https://localhost:8080/"
        },
        "outputId": "7a11ed17-62f4-4707-a8d2-b99a82c0f9ac"
      },
      "outputs": [
        {
          "output_type": "stream",
          "name": "stdout",
          "text": [
            "Malav\n",
            "28\n",
            " \n",
            "Maya\n",
            "31\n",
            " \n",
            "Age cannot be negative\n"
          ]
        }
      ],
      "source": [
        "# Encapsulation with getter and setter method\n",
        "\n",
        "# Getter: A method that allows you to access the value of a private attribute.\n",
        "# Setter: A method that allows you to set the value of a private attribute.\n",
        "\n",
        "class Person:\n",
        "    def __init__(self,name,age):\n",
        "        self.__name=name        # Private variable\n",
        "        self.__age=age          # Private variable\n",
        "\n",
        "    # getter method for name\n",
        "    def get_name(self):\n",
        "        return self.__name\n",
        "\n",
        "    # setter method for name\n",
        "    def set_name(self,name):\n",
        "        self.__name=name\n",
        "\n",
        "    # getter method for age\n",
        "    def get_age(self):\n",
        "        return self.__age\n",
        "\n",
        "    # setter method for name\n",
        "    def set_age(self,age):\n",
        "        if age>0:\n",
        "            self.__age=age\n",
        "        else:\n",
        "            print(\"Age cannot be negative\")\n",
        "\n",
        "\n",
        "person = Person(\"Malav\",28)\n",
        "\n",
        "# access and modify private variable using getter and setter\n",
        "\n",
        "print(person.get_name())\n",
        "print(person.get_age())\n",
        "\n",
        "person.set_age(31)\n",
        "person.set_name(\"Maya\")\n",
        "print(\" \")\n",
        "\n",
        "print(person.get_name())\n",
        "print(person.get_age())\n",
        "\n",
        "print(\" \")\n",
        "person.set_age(-5)\n",
        "person.set_name(\"Mrugesh\")\n",
        "\n"
      ]
    },
    {
      "cell_type": "markdown",
      "source": [
        "# Abstraction in OOPs\n",
        "\n",
        "Abstraction is one of the fundamental principles of Object-Oriented Programming (OOP) that refers to the concept of hiding the implementation details and showing only the essential features of an object or class. The goal of abstraction is to reduce complexity by exposing only relevant details to the user and hiding unnecessary complexity.\n",
        "\n",
        "Key Points about Abstraction:\n",
        "\n",
        "1.) Hiding Complexity: Abstraction allows you to focus on what an object does, rather than how it does it.\n",
        "\n",
        "2.) Abstract Classes: In many OOP languages, including Python, abstraction is implemented through abstract classes and abstract methods. An abstract class cannot be instantiated directly, and it usually contains one or more abstract methods that must be implemented by subclasses.\n",
        "\n",
        "3.) Provides a High-Level Interface: An abstract class or an interface allows a high-level interface to interact with an object, while the low-level details are hidden.\n",
        "\n",
        "Real-Life Example:\n",
        "\n",
        "Think of a TV Remote. The TV Remote offers buttons like \"Power\", \"Volume Up\", \"Volume Down\", etc. You don’t need to know the internal circuit workings of the remote. You just need to know what happens when you press these buttons. The implementation of the buttons (how they work inside) is hidden from you. This is a real-world analogy of abstraction."
      ],
      "metadata": {
        "id": "_qSmsoHSGyNF"
      }
    },
    {
      "cell_type": "code",
      "execution_count": 30,
      "metadata": {
        "id": "e9-8F-ZMUGkC"
      },
      "outputs": [],
      "source": [
        "from abc import ABC,abstractmethod"
      ]
    },
    {
      "cell_type": "code",
      "execution_count": 31,
      "metadata": {
        "id": "oPRt-mRxUGhS",
        "colab": {
          "base_uri": "https://localhost:8080/"
        },
        "outputId": "886e8a94-80f9-4333-a480-eefba73b7b22"
      },
      "outputs": [
        {
          "output_type": "stream",
          "name": "stdout",
          "text": [
            "Car engine started\n"
          ]
        }
      ],
      "source": [
        "# Abstract class\n",
        "\n",
        "class Vehicle(ABC):\n",
        "\n",
        "    def drive(self):\n",
        "        print(\"The vehicle is used for driving.\")\n",
        "\n",
        "    # Giving functinality with respect to drive.\n",
        "    # Giving one abstract method which you can do the implementation with your own way.\n",
        "    @abstractmethod\n",
        "    def start_engine(self):\n",
        "        pass\n",
        "\n",
        "\n",
        "class Car(Vehicle):\n",
        "    def start_engine(self):\n",
        "        print(\"Car engine started\")\n",
        "\n",
        "def operate_vehicle(vehicle):\n",
        "    vehicle.start_engine()\n",
        "\n",
        "car=Car()\n",
        "operate_vehicle(car)\n",
        "\n",
        "\n",
        "\n"
      ]
    },
    {
      "cell_type": "markdown",
      "source": [
        "# Magic Methods in Python\n",
        "\n",
        "Magic methods (also called special methods or dunder methods) are predefined methods in Python that allow you to define how objects of a class behave with certain operations or built-in functions. These methods are prefixed and suffixed with double underscores (__) and are invoked implicitly when the corresponding operation is performed on an object.\n",
        "\n",
        "Magic methods allow you to define how objects behave in different contexts, such as comparison, arithmetic operations, string representations, and more. They are essential for customizing the behavior of objects in your custom classes."
      ],
      "metadata": {
        "id": "sHT9Q-jMcB24"
      }
    },
    {
      "cell_type": "markdown",
      "source": [
        "#1.) __init__(self,.....) - Constructor\n",
        "\n",
        "-> This method is called when an instance of the class is created.\n",
        "\n",
        "-> It is used to initialize the object's attributes.\n"
      ],
      "metadata": {
        "id": "PtXXO4S3Sr1c"
      }
    },
    {
      "cell_type": "code",
      "source": [
        "class Person:\n",
        "\n",
        "    def __init__(self,name,age):\n",
        "        self.name=name\n",
        "        self.age=age\n",
        "\n",
        "p=Person(\"Malav\",28)\n",
        "print(p.name,p.age)\n",
        "\n",
        "\n"
      ],
      "metadata": {
        "colab": {
          "base_uri": "https://localhost:8080/"
        },
        "id": "NpdFKU5rRM8G",
        "outputId": "4b7cb895-4fe0-42fa-e3ad-f400e91d8984"
      },
      "execution_count": 3,
      "outputs": [
        {
          "output_type": "stream",
          "name": "stdout",
          "text": [
            "Malav 28\n"
          ]
        }
      ]
    },
    {
      "cell_type": "markdown",
      "source": [
        "#2.) __str__(self) — String Representation\n",
        "\n",
        "-> __str__ method  is called by print() and str() to return a string representation of an object.\n",
        "\n",
        "-> It should return a human-readable string that represents the object"
      ],
      "metadata": {
        "id": "yfXuHOqcYavp"
      }
    },
    {
      "cell_type": "code",
      "execution_count": 4,
      "metadata": {
        "id": "hRcHAf4012Bv",
        "colab": {
          "base_uri": "https://localhost:8080/"
        },
        "outputId": "77874df8-44a3-482f-a251-d92fe30f9282"
      },
      "outputs": [
        {
          "output_type": "stream",
          "name": "stdout",
          "text": [
            "Minaxi is 70 years old.\n"
          ]
        }
      ],
      "source": [
        "class Person:\n",
        "\n",
        "    def __init__(self,name,age):\n",
        "        self.name=name\n",
        "        self.age=age\n",
        "\n",
        "\n",
        "    def __str__(self):\n",
        "        return f\"{self.name} is {self.age} years old.\"\n",
        "\n",
        "p=Person(\"Minaxi\",70)\n",
        "print(p)"
      ]
    },
    {
      "cell_type": "markdown",
      "source": [
        "#3.)  __repr__(self) — Official String Representation\n",
        "\n",
        "-> Similar to __str__, but used for debugging.\n",
        "\n",
        "-> __repr__ should return a string that, when passed to eval(), can recreate the object."
      ],
      "metadata": {
        "id": "SDBc8l6zaRjr"
      }
    },
    {
      "cell_type": "code",
      "execution_count": 5,
      "metadata": {
        "id": "xic5PSjI11-_",
        "colab": {
          "base_uri": "https://localhost:8080/"
        },
        "outputId": "b5a2efe2-37ff-4aa8-b723-660f0e858d84"
      },
      "outputs": [
        {
          "output_type": "stream",
          "name": "stdout",
          "text": [
            "Person ('Gopi','40')\n"
          ]
        }
      ],
      "source": [
        "class Person:\n",
        "\n",
        "    def __init__(self,name,age):\n",
        "        self.name=name\n",
        "        self.age=age\n",
        "\n",
        "    def __repr__(self):\n",
        "        return f\"Person ('{self.name}','{self.age}')\"\n",
        "\n",
        "p=Person(\"Gopi\",40)\n",
        "print(repr(p))\n",
        ""
      ]
    },
    {
      "cell_type": "markdown",
      "source": [
        "#4.)  __len__(self) — Length\n",
        "\n",
        "-> This method is called when len() is used on an object. It should return the length of the object."
      ],
      "metadata": {
        "id": "LBstzocga_3h"
      }
    },
    {
      "cell_type": "code",
      "execution_count": 7,
      "metadata": {
        "id": "1jSd-qp-118F",
        "colab": {
          "base_uri": "https://localhost:8080/"
        },
        "outputId": "91266be4-feea-41e9-d0b5-e669b48922d4"
      },
      "outputs": [
        {
          "output_type": "stream",
          "name": "stdout",
          "text": [
            "5\n"
          ]
        }
      ],
      "source": [
        "class My_List:\n",
        "\n",
        "    def __init__(self,values):\n",
        "        self.values=values\n",
        "\n",
        "    def __len__(self):\n",
        "        return len(self.values)\n",
        "\n",
        "ls = My_List([5,10,15,20,25])\n",
        "print(len(ls))"
      ]
    },
    {
      "cell_type": "markdown",
      "source": [
        "#5.)  __add__(self, other) — Addition\n",
        "\n",
        "-> This method is called when the + operator is used to add two objects."
      ],
      "metadata": {
        "id": "S5K9c_SIfAHW"
      }
    },
    {
      "cell_type": "code",
      "execution_count": 9,
      "metadata": {
        "id": "H6zzPZGJ115a",
        "colab": {
          "base_uri": "https://localhost:8080/"
        },
        "outputId": "57420082-c6c4-4251-9998-7319fbb685b4"
      },
      "outputs": [
        {
          "output_type": "stream",
          "name": "stdout",
          "text": [
            "Add(2,4)\n"
          ]
        }
      ],
      "source": [
        "class Add:\n",
        "\n",
        "    def __init__(self,x,y):\n",
        "        self.x=x\n",
        "        self.y=y\n",
        "\n",
        "    def __add__(self,other):\n",
        "        return Add(self.x+other.x,self.y+other.y)\n",
        "\n",
        "    def __repr__(self):\n",
        "        return f\"Add({self.x},{self.y})\"\n",
        "\n",
        "a1 = Add(1,2)\n",
        "a2 = Add(1,2)\n",
        "\n",
        "a3=a1+a2\n",
        "print(a3)\n",
        "\n"
      ]
    },
    {
      "cell_type": "markdown",
      "source": [
        "# 6.)  __eq__(self, other) — Equality\n",
        "\n",
        "-> This method is used when the == operator is used to compare two objects for equality.\n",
        "\n"
      ],
      "metadata": {
        "id": "LzMyKbv3gD9t"
      }
    },
    {
      "cell_type": "code",
      "source": [
        "class Person:\n",
        "\n",
        "    def __init__(self,name,age):\n",
        "        self.name=name\n",
        "        self.age=age\n",
        "\n",
        "    def __eq__(self,other):\n",
        "        return self.name==other.name and self.age==other.age\n",
        "\n",
        "p1=Person(\"Malav\",28)\n",
        "p2=Person(\"Malav\",28)\n",
        "p3=Person(\"Maya\",60)\n",
        "p\n",
        "print(p1==p2)\n",
        "print(\"\")\n",
        "print(p2==p3)\n",
        "\n",
        "\n",
        "\n"
      ],
      "metadata": {
        "colab": {
          "base_uri": "https://localhost:8080/"
        },
        "id": "rADfv77je_2_",
        "outputId": "d78c55f9-91ee-482c-c09c-451cc197bdda"
      },
      "execution_count": 11,
      "outputs": [
        {
          "output_type": "stream",
          "name": "stdout",
          "text": [
            "True\n",
            "\n",
            "False\n"
          ]
        }
      ]
    },
    {
      "cell_type": "markdown",
      "source": [
        "#7.) __lt__(self, other) — Less Than\n",
        "\n",
        "-> This method is used when the < operator is used to compare two objects."
      ],
      "metadata": {
        "id": "JiRac6_qg8dZ"
      }
    },
    {
      "cell_type": "code",
      "execution_count": 12,
      "metadata": {
        "id": "z23m9-Py112i",
        "colab": {
          "base_uri": "https://localhost:8080/"
        },
        "outputId": "ba3ab744-987c-4a40-db7d-4142756dbcf8"
      },
      "outputs": [
        {
          "output_type": "stream",
          "name": "stdout",
          "text": [
            "False\n",
            "True\n"
          ]
        }
      ],
      "source": [
        "class Person:\n",
        "\n",
        "    def __init__(self,name,age):\n",
        "        self.name=name\n",
        "        self.age=age\n",
        "\n",
        "    def __lt__(self,other):\n",
        "        return self.age<other.age\n",
        "\n",
        "p1=Person(\"Minaxi\",70)\n",
        "p2=Person(\"Maya\",64)\n",
        "\n",
        "print(p1<p2)\n",
        "print(p1>p2)\n",
        "\n"
      ]
    },
    {
      "cell_type": "markdown",
      "source": [
        "#8.)  __getitem__(self, key) — Item Access\n",
        "\n",
        "-> This method is called when you access an element of an object using square brackets (e.g., obj[key])."
      ],
      "metadata": {
        "id": "IGyyzDnvk5MT"
      }
    },
    {
      "cell_type": "code",
      "execution_count": 13,
      "metadata": {
        "id": "8cWLYYBS11z7",
        "colab": {
          "base_uri": "https://localhost:8080/"
        },
        "outputId": "e2230e3a-8600-496e-c6e8-32215b896d63"
      },
      "outputs": [
        {
          "output_type": "stream",
          "name": "stdout",
          "text": [
            "30\n"
          ]
        }
      ],
      "source": [
        "class My_List:\n",
        "\n",
        "    def __init__(self,values):\n",
        "        self.values=values\n",
        "\n",
        "    def __getitem__(self,index):\n",
        "        return self.values[index]\n",
        "\n",
        "ls = My_List([10,20,30,40,50])\n",
        "print(ls[2])\n"
      ]
    },
    {
      "cell_type": "markdown",
      "source": [
        "# 9.) __setitem__(self, key, value) — Item Assignment\n",
        "\n",
        "-> This method is called when you assign a value to an element of an object using square brackets (e.g., obj[key] = value)."
      ],
      "metadata": {
        "id": "nmOgkKvAln9o"
      }
    },
    {
      "cell_type": "code",
      "execution_count": 19,
      "metadata": {
        "id": "uepBlq_S11w5",
        "colab": {
          "base_uri": "https://localhost:8080/"
        },
        "outputId": "b62d1d7c-80a4-44f6-9f47-9a7f8ad83f0c"
      },
      "outputs": [
        {
          "output_type": "stream",
          "name": "stdout",
          "text": [
            "[10, 20, 2000, 40, 50]\n"
          ]
        }
      ],
      "source": [
        "class My_List:\n",
        "\n",
        "    def __init__(self,items):\n",
        "        self.items=items\n",
        "\n",
        "    def __setitem__(self,index,value):\n",
        "        self.items[index]=value\n",
        "\n",
        "ls = My_List([10,20,30,40,50])\n",
        "\n",
        "ls[2]=2000\n",
        "\n",
        "print(ls.items)\n"
      ]
    },
    {
      "cell_type": "markdown",
      "source": [
        "#10.)  __del__(self) — Destructor\n",
        "\n",
        "-> This method is called when an object is about to be destroyed. It is used to clean up resources, close files, or release memory."
      ],
      "metadata": {
        "id": "YgZnok4umxwb"
      }
    },
    {
      "cell_type": "code",
      "execution_count": 23,
      "metadata": {
        "id": "kKQpG3OVeLy2",
        "colab": {
          "base_uri": "https://localhost:8080/"
        },
        "outputId": "e342020f-e6f1-4b4f-8383-b783653990e7"
      },
      "outputs": [
        {
          "output_type": "stream",
          "name": "stdout",
          "text": [
            "Joshi Family will buy new house in 2025\n",
            "<__main__.Person object at 0x7d9458eeb0a0>\n"
          ]
        }
      ],
      "source": [
        "class Person:\n",
        "\n",
        "    def __init__(self):\n",
        "        print(\"Joshi Family will buy new house in 2025\")\n",
        "\n",
        "p =Person()\n",
        "print(p)\n",
        "del p\n",
        "#print(p) : NameError: name 'p' is not defined"
      ]
    },
    {
      "cell_type": "markdown",
      "source": [
        "# 11.) __call__(self, ...) — Callable Object\n",
        "\n",
        "-> This method is invoked when an object is called like a function. It allows instances of the class to be used as callable objects."
      ],
      "metadata": {
        "id": "uEqx3kN1n5HJ"
      }
    },
    {
      "cell_type": "code",
      "source": [
        "class Add:\n",
        "\n",
        "    def __init__(self,value):\n",
        "        self.value=value\n",
        "\n",
        "    def __call__(self,other_value):\n",
        "        return self.value + other_value\n",
        "\n",
        "add_five = Add(5)\n",
        "print(add_five(10))\n"
      ],
      "metadata": {
        "colab": {
          "base_uri": "https://localhost:8080/"
        },
        "id": "4wL3vc1jfBab",
        "outputId": "40662968-1e71-4b26-953d-d55e0b3d221f"
      },
      "execution_count": 24,
      "outputs": [
        {
          "output_type": "stream",
          "name": "stdout",
          "text": [
            "15\n"
          ]
        }
      ]
    },
    {
      "cell_type": "markdown",
      "source": [
        "# 12.)  __enter__(self) and __exit__(self) — Context Management\n",
        "\n",
        "-> These methods are used when an object is used in a with statement.\n",
        "\n",
        "->  __enter__ is executed when entering the with block, and __exit__ is executed when exiting the block."
      ],
      "metadata": {
        "id": "Txr9XtzuoR-I"
      }
    },
    {
      "cell_type": "code",
      "source": [
        "class MyContextManager:\n",
        "    def __enter__(self):\n",
        "        print(\"Entering the context\")\n",
        "        return self\n",
        "\n",
        "    def __exit__(self, exc_type, exc_value, traceback):\n",
        "        print(\"Exiting the context\")\n",
        "\n",
        "with MyContextManager() as manager:\n",
        "    print(\"Inside the context\")  # Output: Inside the context\n",
        "# Output: Entering the context\n",
        "# Output: Exiting the context\n"
      ],
      "metadata": {
        "colab": {
          "base_uri": "https://localhost:8080/"
        },
        "id": "sTSBhTbPfCUA",
        "outputId": "e5d94446-46de-4a53-f549-f457bb81a2cd"
      },
      "execution_count": 25,
      "outputs": [
        {
          "output_type": "stream",
          "name": "stdout",
          "text": [
            "Entering the context\n",
            "Inside the context\n",
            "Exiting the context\n"
          ]
        }
      ]
    },
    {
      "cell_type": "markdown",
      "source": [
        "# Operator Overloading in Python\n",
        "\n",
        "Operator overloading in Python allows you to define custom behavior for the standard operators (like +, -, *, etc.) for objects of user-defined classes. This means you can modify how operators work with objects of your classes, enabling your custom classes to interact naturally with Python's built-in operations.\n",
        "\n",
        "When an operator is used with an object, Python internally calls the corresponding magic method (special method or dunder method). These magic methods are methods with double underscores, such as __add__ for +, __sub__ for -, and so on.\n",
        "\n",
        "By overloading these magic methods, you can customize the behavior of operators for your custom objects.\n",
        "\n",
        "-> __add__(self,other) :  Adds two objects using the + operator\n",
        "\n",
        "-> __sub__(self,other) : Subtracts two objects using the _ operator\n",
        "\n",
        "-> __mul__(self,other) : Multiplies two objects using the * operator\n",
        "\n",
        "-> __truediv__(self,other): Divides two objects using the / operator\n",
        "\n",
        "-> __eq_(self,other) : Check if two objects are equal using the == operator\n",
        "\n",
        "-> __lt__(self,other) : Checks if one object is less than another using the < operator\n",
        "\n",
        "-> __gt__(self,other) : Checks if one object is grater than another using the >operator"
      ],
      "metadata": {
        "id": "iiVj7LLpodRC"
      }
    },
    {
      "cell_type": "code",
      "source": [
        "class Vector:\n",
        "\n",
        "    def __init__(self,x,y):\n",
        "        self.x=x\n",
        "        self.y=y\n",
        "\n",
        "    def __add__(self,other):\n",
        "        return Vector(self.x+other.x,self.y+other.y)\n",
        "\n",
        "    def __sub__(self,other):\n",
        "        return Vector(self.x-other.x,self.y-other.y)\n",
        "\n",
        "    def __mul__(self,other):\n",
        "        return Vector(self.x*other.x,self.y*other.y)\n",
        "\n",
        "    def __truediv__(self,other):\n",
        "        return Vector(self.x/other.x,self.y/other.y)\n",
        "\n",
        "    def __eq__(self,other):\n",
        "        return Vector(self.x==other.x,self.y==other.y)\n",
        "\n",
        "    def __repr__(self):\n",
        "        return f\"Vector({self.x},{self.y})\"\n",
        "\n",
        "# craete object\n",
        "v1 = Vector(2,3)\n",
        "v2= Vector(4,5)\n",
        "\n",
        "\n",
        "print(\"add: \",v1+v2)\n",
        "\n",
        "print(\"sub: \",v1-v2)\n",
        "\n",
        "print(\"mul: \",v1*v2)\n",
        "\n",
        "print(\"truediv: \",v1/v2)\n",
        "\n",
        "print(\"Equal ?: \",v1==v2)\n"
      ],
      "metadata": {
        "colab": {
          "base_uri": "https://localhost:8080/"
        },
        "id": "b76dDQuUfCR6",
        "outputId": "3ca7024c-8272-4df5-c4ab-65322dcc1c43"
      },
      "execution_count": 3,
      "outputs": [
        {
          "output_type": "stream",
          "name": "stdout",
          "text": [
            "add:  Vector(6,8)\n",
            "sub:  Vector(-2,-2)\n",
            "mul:  Vector(8,15)\n",
            "truediv:  Vector(0.5,0.6)\n",
            "Equal ?:  Vector(False,False)\n"
          ]
        }
      ]
    },
    {
      "cell_type": "markdown",
      "source": [
        "# Custom Exception (Raise and Throw an exception)\n"
      ],
      "metadata": {
        "id": "7BTseNFwcOW2"
      }
    },
    {
      "cell_type": "code",
      "source": [
        "class Error(Exception):\n",
        "    pass\n",
        "\n",
        "class dobException(Error):\n",
        "    pass\n"
      ],
      "metadata": {
        "id": "6cmkhE_afCPT"
      },
      "execution_count": 5,
      "outputs": []
    },
    {
      "cell_type": "code",
      "source": [
        "# craete a form\n",
        "\n",
        "year = int(input(\"Enter the Data of birth:- \"))\n",
        "age = 2024-year\n",
        "\n",
        "try:\n",
        "    if age<=30 and age>=20:\n",
        "        print(\"Age is valid. So please apply for the exam.\")\n",
        "    else:\n",
        "        raise dobException\n",
        "except dobException:\n",
        "    print(\"Age is not valid.Age should be greater than 20 or less than 30.\")\n",
        "\n",
        "\n"
      ],
      "metadata": {
        "colab": {
          "base_uri": "https://localhost:8080/"
        },
        "id": "eqNP88zcfCM1",
        "outputId": "37f3c009-eedd-434e-a314-c15c571a3e5f"
      },
      "execution_count": 12,
      "outputs": [
        {
          "output_type": "stream",
          "name": "stdout",
          "text": [
            "Enter the Data of birth:- 2005\n",
            "Age is not valid.Age should be greater than 20 or less than 30.\n"
          ]
        }
      ]
    },
    {
      "cell_type": "code",
      "source": [
        "\n",
        "year = int(input(\"Enter the Data of birth:- \"))\n",
        "age = 2024-year\n",
        "\n",
        "try:\n",
        "    if age<=30 and age>=20:\n",
        "        print(\"Age is valid. So please apply for the exam.\")\n",
        "    else:\n",
        "        raise dobException\n",
        "\n",
        "except dobException:\n",
        "    print(\"Age is not valid.Age should be greater than 20 or less than 30.\")\n",
        "\n"
      ],
      "metadata": {
        "colab": {
          "base_uri": "https://localhost:8080/"
        },
        "id": "iirheye8fCJ9",
        "outputId": "6701e728-e173-40a4-bfc6-6e13d1c42c51"
      },
      "execution_count": 10,
      "outputs": [
        {
          "output_type": "stream",
          "name": "stdout",
          "text": [
            "Enter the Data of birth:- 1996\n",
            "Age is valid. So please apply for the exam.\n"
          ]
        }
      ]
    }
  ],
  "metadata": {
    "colab": {
      "provenance": []
    },
    "kernelspec": {
      "display_name": "Python 3",
      "name": "python3"
    },
    "language_info": {
      "name": "python"
    }
  },
  "nbformat": 4,
  "nbformat_minor": 0
}